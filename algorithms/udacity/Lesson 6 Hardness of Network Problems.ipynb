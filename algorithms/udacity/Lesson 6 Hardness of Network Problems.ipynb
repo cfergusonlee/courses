{
 "cells": [
  {
   "cell_type": "markdown",
   "metadata": {},
   "source": [
    "# Efficient Algorithms\n",
    "\n",
    "<img src=\"images/Screen Shot 2019-02-18 at 7.54.21 AM.png\" />\n"
   ]
  },
  {
   "cell_type": "markdown",
   "metadata": {},
   "source": [
    "# Exponential Running Time\n",
    "\n",
    "<img src=\"images/Screen Shot 2019-02-18 at 8.09.50 AM.png\" />\n"
   ]
  },
  {
   "cell_type": "markdown",
   "metadata": {},
   "source": [
    "# Degrees of Hardness\n",
    "\n",
    "<img src=\"images/Screen Shot 2019-02-18 at 8.13.51 AM.png\" />\n"
   ]
  },
  {
   "cell_type": "markdown",
   "metadata": {},
   "source": [
    "# Lower Bound on Complexity\n",
    "\n",
    "<img src=\"images/Screen Shot 2019-02-18 at 8.17.39 AM.png\" />\n"
   ]
  },
  {
   "cell_type": "markdown",
   "metadata": {},
   "source": [
    "# Decision Problems\n",
    "\n",
    "<img src=\"images/Screen Shot 2019-02-18 at 8.23.23 AM.png\" />\n"
   ]
  },
  {
   "cell_type": "code",
   "execution_count": 6,
   "metadata": {},
   "outputs": [
    {
     "name": "stdout",
     "output_type": "stream",
     "text": [
      "[1]\n",
      "[1, 2]\n",
      "[1, 2, 3]\n"
     ]
    }
   ],
   "source": [
    "def rec_test():\n",
    "    arr = []\n",
    "    count = 0\n",
    "    rec_test_helper(arr, count)\n",
    "\n",
    "def rec_test_helper(arr, count):\n",
    "    if count == 3:\n",
    "        return 1\n",
    "    \n",
    "    count += 1\n",
    "    arr.append(count)\n",
    "    print(arr)   \n",
    "    \n",
    "    rec_test_helper(arr, count)\n",
    "    \n",
    "rec_test()"
   ]
  },
  {
   "cell_type": "code",
   "execution_count": 8,
   "metadata": {},
   "outputs": [
    {
     "name": "stdout",
     "output_type": "stream",
     "text": [
      "[[1, 2], [1, 3, 2], [1, 3, 6, 2]]\n"
     ]
    },
    {
     "data": {
      "text/plain": [
       "[1, 3, 2]"
      ]
     },
     "execution_count": 8,
     "metadata": {},
     "output_type": "execute_result"
    }
   ],
   "source": [
    "#\n",
    "# Modify long_and_simple_path \n",
    "# to build and return the path\n",
    "# \n",
    "\n",
    "# Find me that path!\n",
    "def path_helper(G, u, v, visited):\n",
    "    visited = [x for x in visited]\n",
    "    visited.append(u)\n",
    "    if u == v:\n",
    "        return [[u]]\n",
    "        \n",
    "    new_paths = []\n",
    "    \n",
    "    for neighbor in G[u]:\n",
    "        if neighbor in visited:\n",
    "            continue\n",
    "        for path in path_helper(G, neighbor, v, visited):\n",
    "            if path:\n",
    "                new_paths.append([u] + path)\n",
    "        \n",
    "    return new_paths\n",
    "\n",
    "def long_and_simple_path(G,u,v,l):\n",
    "    \"\"\"\n",
    "    G: Graph\n",
    "    u: starting node\n",
    "    v: ending node\n",
    "    l: minimum length of path\n",
    "    \"\"\"\n",
    "    if not long_and_simple_decision(G,u,v,l):\n",
    "        return False\n",
    "    # Otherwise, build and return the path\n",
    "    \n",
    "    visited = []\n",
    "    \n",
    "    paths = path_helper(G, u, v, visited)\n",
    "    \n",
    "    for path in paths:\n",
    "        if len(path) >= l:\n",
    "            return path\n",
    "        \n",
    "\n",
    "#############\n",
    "\n",
    "def make_link(G, node1, node2):\n",
    "    if node1 not in G:\n",
    "        G[node1] = {}\n",
    "    (G[node1])[node2] = 1\n",
    "    if node2 not in G:\n",
    "        G[node2] = {}\n",
    "    (G[node2])[node1] = 1\n",
    "    return G\n",
    "\n",
    "def break_link(G, node1, node2):\n",
    "    if node1 not in G:\n",
    "        print(\"error: breaking link in a non-existent node\")\n",
    "        return\n",
    "    if node2 not in G:\n",
    "        print(\"error: breaking link in a non-existent node\")\n",
    "        return\n",
    "    if node2 not in G[node1]:\n",
    "        print(\"error: breaking non-existent link\")\n",
    "        return\n",
    "    if node1 not in G[node2]:\n",
    "        print(\"error: breaking non-existent link\")\n",
    "        return\n",
    "    del G[node1][node2]\n",
    "    del G[node2][node1]\n",
    "    return G\n",
    "\n",
    "\n",
    "\n",
    "def all_perms(seq):\n",
    "    if len(seq) == 0: return [[]]\n",
    "    if len(seq) == 1: return [seq, []]\n",
    "    most = all_perms(seq[1:])\n",
    "    first = seq[0]\n",
    "    rest = []\n",
    "    for perm in most:\n",
    "        for i in range(len(perm)+1):\n",
    "            rest.append(perm[0:i] + [first] + perm[i:])\n",
    "    return most + rest\n",
    "\n",
    "def check_path(G,path):\n",
    "    for i in range(len(path)-1):\n",
    "        if path[i+1] not in G[path[i]]: return False\n",
    "    return True\n",
    "    \n",
    "def long_and_simple_decision(G,u,v,l):\n",
    "    if l == 0:\n",
    "        return False\n",
    "    n = len(G)\n",
    "    perms = all_perms(list(G.keys()))\n",
    "    for perm in perms:\n",
    "        # check path\n",
    "        if (len(perm) >= l and check_path(G,perm) and perm[0] == u \n",
    "            and perm[len(perm)-1] == v): \n",
    "            return True\n",
    "    return False\n",
    "\n",
    "flights = [(1,2),(1,3),(2,3),(2,6),(2,4),(2,5),(3,6),(4,5)]\n",
    "G = {}\n",
    "for (x,y) in flights: make_link(G,x,y)\n",
    "    \n",
    "long_and_simple_path(G,1,2,3)"
   ]
  },
  {
   "cell_type": "markdown",
   "metadata": {},
   "source": [
    "# Long and Simple Path\n",
    "\n",
    "<img src=\"images/Screen Shot 2019-02-18 at 8.26.06 AM.png\" />\n",
    "\n",
    "<img src=\"images/Screen Shot 2019-02-18 at 8.26.29 AM.png\" />\n",
    "\n",
    "<img src=\"images/Screen Shot 2019-02-18 at 8.58.38 AM.png\" />\n",
    "\n"
   ]
  },
  {
   "cell_type": "markdown",
   "metadata": {},
   "source": [
    "# Polynomial Time Decidable Problems\n",
    "\n",
    "<img src=\"images/Screen Shot 2019-02-19 at 10.54.18 AM.png\" />\n"
   ]
  },
  {
   "cell_type": "markdown",
   "metadata": {},
   "source": [
    "# Non-Deterministic Polynomial Time Decidable Problems\n",
    "\n",
    "<img src=\"images/Screen Shot 2019-02-19 at 10.58.08 AM.png\" />\n"
   ]
  },
  {
   "cell_type": "markdown",
   "metadata": {},
   "source": [
    "# Accepting Certificate\n",
    "\n",
    "Any problem that is in NP must be easily verified with an accepting certificate.\n",
    "\n",
    "<img src=\"images/Screen Shot 2019-02-19 at 11.00.55 AM.png\" />\n",
    "\n",
    "<img src=\"images/Screen Shot 2019-02-19 at 11.00.29 AM.png\" />\n",
    "\n",
    "<img src=\"images/Screen Shot 2019-02-20 at 10.44.07 AM.png\" />\n"
   ]
  },
  {
   "cell_type": "markdown",
   "metadata": {},
   "source": [
    "# Clique Problem\n",
    "\n",
    "The clique problem asks whether there exists a clique of size k within a graph G. It can be solved with reduction by elminating nodes that cannot be part of the clique.\n",
    "\n",
    "<img src=\"images/Screen Shot 2019-02-19 at 11.12.05 AM.png\" />\n",
    "\n",
    "<img src=\"images/Screen Shot 2019-02-19 at 11.14.01 AM.png\" />"
   ]
  },
  {
   "cell_type": "markdown",
   "metadata": {},
   "source": [
    "# Good Guessing\n",
    "\n",
    "<img src=\"images/Screen Shot 2019-02-19 at 11.20.47 AM.png\" />\n"
   ]
  },
  {
   "cell_type": "markdown",
   "metadata": {},
   "source": [
    "# Exponential Upperbound\n",
    "\n",
    "<img src=\"images/Screen Shot 2019-02-19 at 11.28.30 AM.png\" />\n"
   ]
  },
  {
   "cell_type": "markdown",
   "metadata": {},
   "source": [
    "# NP-Hard\n",
    "\n",
    "<img src=\"images/Screen Shot 2019-02-19 at 11.32.30 AM.png\" />\n",
    "\n",
    "<img src=\"images/Screen Shot 2019-02-19 at 11.35.57 AM.png\" />\n"
   ]
  },
  {
   "cell_type": "markdown",
   "metadata": {},
   "source": [
    "# Find the Strangers\n",
    "\n",
    "<img src=\"images/Screen Shot 2019-02-19 at 11.37.06 AM.png\" />\n",
    "\n",
    "<img src=\"images/Screen Shot 2019-02-19 at 11.39.36 AM.png\" />\n",
    "\n",
    "<img src=\"images/Screen Shot 2019-02-19 at 11.40.47 AM.png\" />\n",
    "\n",
    "<img src=\"images/Screen Shot 2019-02-19 at 11.44.00 AM.png\" />\n"
   ]
  },
  {
   "cell_type": "markdown",
   "metadata": {},
   "source": [
    "# SAT is NP-Hard\n",
    "\n",
    "<img src=\"images/Screen Shot 2019-02-19 at 11.46.02 AM.png\" />\n"
   ]
  },
  {
   "cell_type": "markdown",
   "metadata": {},
   "source": [
    "# Quiz: NP-Completeness\n",
    "\n",
    "<img src=\"images/Screen Shot 2019-02-19 at 12.06.31 PM.png\" />\n"
   ]
  },
  {
   "cell_type": "code",
   "execution_count": 14,
   "metadata": {},
   "outputs": [
    {
     "name": "stdout",
     "output_type": "stream",
     "text": [
      "True\n",
      "Graph: {'a': {'c': 1, 'b': 1}, 'c': {'a': 1, 'd': 1}, 'b': {'a': 1, 'd': 1}, 'd': {'c': 1, 'b': 1, 'e': 1, 'f': 1}, 'e': {'d': 1, 'g': 1}, 'f': {'d': 1, 'g': 1, 'h': 1}, 'g': {'e': 1, 'f': 1, 'h': 1}, 'h': {'f': 1, 'g': 1}}\n",
      "Node d and node e are the same color\n",
      "False\n"
     ]
    }
   ],
   "source": [
    "############\n",
    "#\n",
    "# Verify a coloring of a graph\n",
    "#\n",
    "############\n",
    "\n",
    "# if cert a k-coloring of G?\n",
    "#   colors in {0, ..., k-1}\n",
    "def verify(G, cert, k):\n",
    "    colors = set(color for color in cert.values())\n",
    "    for node in G:\n",
    "        for neighbor in G[node]:\n",
    "            if cert[node] == cert[neighbor]:\n",
    "                return False\n",
    "    \n",
    "    return len(colors) == k\n",
    "\n",
    "#######\n",
    "#\n",
    "# Testing\n",
    "\n",
    "def make_link(G, node1, node2):\n",
    "    if node1 not in G:\n",
    "        G[node1] = {}\n",
    "    (G[node1])[node2] = 1\n",
    "    if node2 not in G:\n",
    "        G[node2] = {}\n",
    "    (G[node2])[node1] = 1\n",
    "    return G\n",
    "\n",
    "\n",
    "(a,b,c,d,e,f,g,h) = ('a','b','c','d','e','f','g','h')\n",
    "cxns = [(a,c),(a,b),(c,d),(b,d),(d,e),(d,f),(e,g),(f,g),(f,h),(g,h)]\n",
    "\n",
    "G = {}\n",
    "for (x,y) in cxns: make_link(G,x,y)\n",
    "\n",
    "\n",
    "cert = {}\n",
    "for (node, color) in [(a,0),(b,1),(c,2),(d,0),(e,1),(f,2),(g,0),(h,1)]:\n",
    "    cert[node] = color\n",
    "print(verify(G,cert,3))\n",
    "\n",
    "cert = {}\n",
    "for (node, color) in [(a,0),(b,1),(c,2),(d,0),(e,0),(f,1),(g,2),(h,0)]:\n",
    "    cert[node] = color\n",
    "print(verify(G,cert,4))\n",
    "\n"
   ]
  },
  {
   "cell_type": "markdown",
   "metadata": {},
   "source": [
    "# Graph Partitioning\n",
    "\n",
    "<img src=\"images/Screen Shot 2019-02-19 at 12.25.57 PM.png\" />\n"
   ]
  },
  {
   "cell_type": "markdown",
   "metadata": {},
   "source": [
    "# Graph Coloring\n",
    "\n",
    "<img src=\"images/Screen Shot 2019-02-19 at 12.36.51 PM.png\" />\n",
    "\n",
    "<img src=\"images/Screen Shot 2019-02-19 at 12.53.48 PM.png\" />\n",
    "\n",
    "<img src=\"images/Screen Shot 2019-02-19 at 12.55.34 PM.png\" />\n"
   ]
  },
  {
   "cell_type": "markdown",
   "metadata": {},
   "source": [
    "# Reduce SAT to 3-Colorability\n",
    "\n",
    "<img src=\"images/Screen Shot 2019-02-20 at 8.01.34 AM.png\" />\n"
   ]
  },
  {
   "cell_type": "markdown",
   "metadata": {},
   "source": [
    "# Making a SAT Graph\n",
    "\n",
    "<img src=\"images/Screen Shot 2019-02-20 at 8.05.47 AM.png\" />\n"
   ]
  },
  {
   "cell_type": "markdown",
   "metadata": {},
   "source": [
    "# Gadgets\n",
    "\n",
    "<img src=\"images/Screen Shot 2019-02-20 at 10.34.31 AM.png\" />\n"
   ]
  },
  {
   "cell_type": "markdown",
   "metadata": {},
   "source": [
    "# Coloring Planar Graphs\n",
    "\n",
    "<img src=\"images/Screen Shot 2019-02-20 at 10.48.52 AM.png\" />\n"
   ]
  },
  {
   "cell_type": "code",
   "execution_count": 21,
   "metadata": {},
   "outputs": [
    {
     "name": "stdout",
     "output_type": "stream",
     "text": [
      "H: {1: {2: 1, 3: 1}, 2: {1: 1}, 3: {1: 1}, 4: {}}\n",
      "compliment_H: {1: {4: 1}, 4: {1: 1, 2: 1, 3: 1}, 2: {3: 1, 4: 1}, 3: {2: 1, 4: 1}}\n"
     ]
    },
    {
     "data": {
      "text/plain": [
       "True"
      ]
     },
     "execution_count": 21,
     "metadata": {},
     "output_type": "execute_result"
    }
   ],
   "source": [
    "# In the lecture, we described how a solution to k_clique_decision(G, k)\n",
    "# can be used to solve independent_set_decision(H,s).  \n",
    "# Write a Python function that carries out this transformation.  \n",
    "\n",
    "# Returns a list of all the subsets of a list of size k\n",
    "def k_subsets(lst, k):\n",
    "    if len(lst) < k:\n",
    "        return []\n",
    "    if len(lst) == k:\n",
    "        return [lst]\n",
    "    if k == 1:\n",
    "        return [[i] for i in lst]\n",
    "    return k_subsets(lst[1:],k) + list(map(lambda x: x + [lst[0]], k_subsets(lst[1:], k-1)))\n",
    "\n",
    "# Checks if the given list of nodes forms a clique in the given graph.\n",
    "def is_clique(G, nodes):\n",
    "    for pair in k_subsets(nodes, 2):\n",
    "        if pair[1] not in G[pair[0]]:\n",
    "            return False\n",
    "    return True\n",
    "\n",
    "# Determines if there is clique of size k or greater in the given graph.\n",
    "def k_clique_decision(G, k):\n",
    "    nodes = list(G.keys())\n",
    "    for i in range(k, len(nodes) + 1):\n",
    "        for subset in k_subsets(nodes, i):\n",
    "            if is_clique(G, subset):\n",
    "                return True\n",
    "    return False\n",
    "    \n",
    "def make_link(G, node1, node2):\n",
    "    if node1 not in G:\n",
    "        G[node1] = {}\n",
    "    (G[node1])[node2] = 1\n",
    "    if node2 not in G:\n",
    "        G[node2] = {}\n",
    "    (G[node2])[node1] = 1\n",
    "    return G\n",
    "\n",
    "def break_link(G, node1, node2):\n",
    "    if node1 not in G:\n",
    "        print(\"error: breaking link in a non-existent node\")\n",
    "        return\n",
    "    if node2 not in G:\n",
    "        print(\"error: breaking link in a non-existent node\")\n",
    "        return\n",
    "    if node2 not in G[node1]:\n",
    "        print(\"error: breaking non-existent link\")\n",
    "        return\n",
    "    if node1 not in G[node2]:\n",
    "        print(\"error: breaking non-existent link\")\n",
    "        return\n",
    "    del G[node1][node2]\n",
    "    del G[node2][node1]\n",
    "    return G\n",
    "   \n",
    "# This function should use the k_clique_decision function\n",
    "# to solve the independent set decision problem\n",
    "def independent_set_decision(H, s):\n",
    "    # your code here\n",
    "    \n",
    "    # Create a compliment graph\n",
    "    compliment_H = {}\n",
    "    \n",
    "    for node in H:\n",
    "        neighbors = [n for n in H if n not in H[node] and n != node]\n",
    "        compliment_H[node] = {}\n",
    "        for neighbor in neighbors:\n",
    "            make_link(compliment_H, node, neighbor)\n",
    "            \n",
    "    print(\"H:\", H)\n",
    "    print(\"compliment_H:\", compliment_H)\n",
    "            \n",
    "    # Use k_clique_decision to determine whether a clique of size s exists    \n",
    "    return k_clique_decision(compliment_H, s)\n",
    "\n",
    "G = {1:{2:1, 3:1}, 2:{1:1}, 3:{1:1}, 4:{}}\n",
    "s = 3\n",
    "\n",
    "independent_set_decision(G, s)"
   ]
  },
  {
   "cell_type": "code",
   "execution_count": 22,
   "metadata": {},
   "outputs": [
    {
     "name": "stdout",
     "output_type": "stream",
     "text": [
      "H: {1: {}}\n",
      "compliment_H: {1: {}}\n"
     ]
    },
    {
     "data": {
      "text/plain": [
       "True"
      ]
     },
     "execution_count": 22,
     "metadata": {},
     "output_type": "execute_result"
    }
   ],
   "source": [
    "independent_set_decision({1:{}}, 1)"
   ]
  },
  {
   "cell_type": "code",
   "execution_count": 6,
   "metadata": {},
   "outputs": [
    {
     "data": {
      "text/plain": [
       "[2, 3, 4]"
      ]
     },
     "execution_count": 6,
     "metadata": {},
     "output_type": "execute_result"
    }
   ],
   "source": [
    "# Decision problems are often just as hard as actually returning an answer.\n",
    "# Show how a k-clique can be found using a solution to the k-clique decision \n",
    "# problem.  Write a Python function that takes a graph G and a number k \n",
    "# as input, and returns a list of k nodes from G that are all connected \n",
    "# in the graph.  Your function should make use of \"k_clique_decision(G, k)\", \n",
    "# which takes a graph G and a number k and answers whether G contains a k-clique.  \n",
    "# We will also provide the standard routines for adding and removing edges from a graph.\n",
    "\n",
    "# Returns a list of all the subsets of a list of size k\n",
    "def k_subsets(lst, k):\n",
    "    if len(lst) < k:\n",
    "        return []\n",
    "    if len(lst) == k:\n",
    "        return [lst]\n",
    "    if k == 1:\n",
    "        return [[i] for i in lst]\n",
    "    return k_subsets(lst[1:],k) + map(lambda x: x + [lst[0]], k_subsets(lst[1:], k-1))\n",
    "\n",
    "# Checks if the given list of nodes forms a clique in the given graph.\n",
    "def is_clique(G, nodes):\n",
    "    for pair in k_subsets(nodes, 2):\n",
    "        if pair[1] not in G[pair[0]]:\n",
    "            return False\n",
    "    return True\n",
    "\n",
    "# Determines if there is clique of size k or greater in the given graph.\n",
    "def k_clique_decision(G, k):\n",
    "    nodes = G.keys()\n",
    "    for i in range(k, len(nodes) + 1):\n",
    "        for subset in k_subsets(nodes, i):\n",
    "            if is_clique(G, subset):\n",
    "                return True\n",
    "    return False\n",
    "\n",
    "def make_link(G, node1, node2):\n",
    "    if node1 not in G:\n",
    "        G[node1] = {}\n",
    "    (G[node1])[node2] = 1\n",
    "    if node2 not in G:\n",
    "        G[node2] = {}\n",
    "    (G[node2])[node1] = 1\n",
    "    return G\n",
    "\n",
    "def break_link(G, node1, node2):\n",
    "    if node1 not in G:\n",
    "        print \"error: breaking link in a non-existent node\"\n",
    "        return\n",
    "    if node2 not in G:\n",
    "        print \"error: breaking link in a non-existent node\"\n",
    "        return\n",
    "    if node2 not in G[node1]:\n",
    "        print \"error: breaking non-existent link\"\n",
    "        return\n",
    "    if node1 not in G[node2]:\n",
    "        print \"error: breaking non-existent link\"\n",
    "        return\n",
    "    del G[node1][node2]\n",
    "    del G[node2][node1]\n",
    "    return G\n",
    "    \n",
    "def reduce_graph(G, degree):\n",
    "    queue = [node for node in G]\n",
    "    \n",
    "    while len(queue) > 0:\n",
    "        current_node = queue.pop(0)\n",
    "        if len(G[current_node]) < degree:\n",
    "            neighbors = [neighbor for neighbor in G[current_node]]\n",
    "            for neighbor in neighbors:\n",
    "                break_link(G, current_node, neighbor)\n",
    "                queue.append(neighbor)\n",
    "            del G[current_node]\n",
    "            \n",
    "    \n",
    "def k_clique(G, k):\n",
    "    if not k_clique_decision(G, k):\n",
    "        return False\n",
    "        \n",
    "    # your code here\n",
    "    # Remove nodes of degree less than k-1\n",
    "    # until remaining nodes have degree of k-1 or greater\n",
    "    # Delete nodes one at a time and check whether\n",
    "    # a clique still exists until the size of the graph is equal\n",
    "    # to k. If deleting the nodes revokes clique status, restore\n",
    "    # the deleted node\n",
    "    \n",
    "    current_node = G.keys()[0]\n",
    "    reduce_graph(G, k - 1)\n",
    "    \n",
    "    for node in G:\n",
    "        neighbors = [neighbor for neighbor in G[node]]\n",
    "        \n",
    "        for neighbor in neighbors:\n",
    "            break_link(G, node, neighbor)\n",
    "            \n",
    "        if not k_clique_decision(G, k):\n",
    "            for neighbor in neighbors:\n",
    "                make_link(G, node, neighbor)\n",
    "                \n",
    "    return [node for node in G]\n",
    "        \n",
    "k_clique({1: {4: 1}, 4: {1: 1, 2: 1, 3: 1}, 2: {3: 1, 4: 1}, 3: {2: 1, 4: 1}}, 3)"
   ]
  },
  {
   "cell_type": "markdown",
   "metadata": {},
   "source": [
    "# NP or Not NP\n",
    "\n",
    "<img src=\"images/Screen Shot 2019-02-21 at 11.40.38 AM.png\" />\n"
   ]
  },
  {
   "cell_type": "code",
   "execution_count": null,
   "metadata": {
    "collapsed": true
   },
   "outputs": [],
   "source": []
  }
 ],
 "metadata": {
  "kernelspec": {
   "display_name": "Python [conda env:root] *",
   "language": "python",
   "name": "conda-root-py"
  },
  "language_info": {
   "codemirror_mode": {
    "name": "ipython",
    "version": 3
   },
   "file_extension": ".py",
   "mimetype": "text/x-python",
   "name": "python",
   "nbconvert_exporter": "python",
   "pygments_lexer": "ipython3",
   "version": "3.7.1"
  },
  "toc": {
   "nav_menu": {},
   "number_sections": true,
   "sideBar": true,
   "skip_h1_title": false,
   "toc_cell": false,
   "toc_position": {},
   "toc_section_display": "block",
   "toc_window_display": false
  }
 },
 "nbformat": 4,
 "nbformat_minor": 2
}
