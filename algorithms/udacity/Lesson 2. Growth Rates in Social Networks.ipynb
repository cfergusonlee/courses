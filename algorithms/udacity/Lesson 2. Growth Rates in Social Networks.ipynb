{
 "cells": [
  {
   "cell_type": "code",
   "execution_count": 4,
   "metadata": {},
   "outputs": [
    {
     "name": "stdout",
     "output_type": "stream",
     "text": [
      "5\n",
      "5.0\n",
      "{0: {1: 1, 4: 1}, 1: {0: 1, 2: 1}, 2: {1: 1, 3: 1}, 3: {2: 1, 4: 1}, 4: {3: 1, 0: 1}}\n"
     ]
    }
   ],
   "source": [
    "def make_link(G, node1, node2):\n",
    "    if node1 not in G:\n",
    "        G[node1] = {}\n",
    "    G[node1][node2] = 1\n",
    "    if node2 not in G:\n",
    "        G[node2] = {}\n",
    "    (G[node2])[node1] = 1\n",
    "    return G\n",
    "\n",
    "# Make an empty graph\n",
    "a_ring = {}\n",
    "\n",
    "n = 5\n",
    "\n",
    "# Add in the edges\n",
    "for i in range(n):\n",
    "    make_link(a_ring, i, (i+1)%n)\n",
    "\n",
    "# How many nodes?\n",
    "print(len(a_ring))\n",
    "\n",
    "# How many edges?\n",
    "print(sum([len(a_ring[node]) for node in a_ring.keys()])/2)\n",
    "\n",
    "# H\n",
    "print(a_rin\n",
    "      g)"
   ]
  },
  {
   "cell_type": "markdown",
   "metadata": {},
   "source": [
    "# Planar Graphs\n",
    "\n",
    "<img src=\"images/Screen Shot 2019-01-29 at 1.22.37 PM.png\"/>\n",
    "\n",
    "The following formula shows the relationship between the number of nodes, edges and regions in a planar graph:\n",
    "<img src=\"images/Screen Shot 2019-01-29 at 1.30.52 PM.png\"/>\n",
    "\n"
   ]
  },
  {
   "cell_type": "markdown",
   "metadata": {},
   "source": [
    "# Growth Functions\n",
    "\n",
    "<img src=\"images/Screen Shot 2019-01-29 at 1.24.09 PM.png\"/>"
   ]
  },
  {
   "cell_type": "markdown",
   "metadata": {},
   "source": [
    "# Graph Recap\n",
    "\n",
    "<img src=\"images/Screen Shot 2019-01-29 at 1.37.08 PM.png\"/>\n",
    "\n"
   ]
  },
  {
   "cell_type": "markdown",
   "metadata": {},
   "source": [
    "# Hypercubes\n",
    "\n",
    "<img src=\"images/Screen Shot 2019-01-29 at 3.52.36 PM.png\"/>\n",
    "\n",
    "<img src=\"images/Screen Shot 2019-01-29 at 3.53.08 PM.png\"/>"
   ]
  },
  {
   "cell_type": "markdown",
   "metadata": {},
   "source": [
    "# Asymptotic Growth\n",
    "\n",
    "<img src=\"images/Screen Shot 2019-01-29 at 10.30.53 AM.png\"/>\n",
    "\n",
    "<img src=\"images/Screen Shot 2019-01-29 at 10.40.49 AM.png\"/>\n",
    "\n",
    "<img src=\"images/Screen Shot 2019-01-29 at 10.51.12 AM.png\"/>\n",
    "\n",
    "<img src=\"images/Screen Shot 2019-01-29 at 10.51.36 AM.png\"/>"
   ]
  },
  {
   "cell_type": "markdown",
   "metadata": {},
   "source": [
    "# Erdos-Renyi Model for Random Graph Generation\n",
    "\n",
    "<img src=\"images/Screen Shot 2019-01-30 at 12.07.40 PM.png\"/>"
   ]
  },
  {
   "cell_type": "markdown",
   "metadata": {},
   "source": [
    "# Linear Recursive Graph Generation\n",
    "\n",
    "<img src=\"images/Screen Shot 2019-01-30 at 12.08.16 PM.png\"/>\n",
    "\n",
    "<img src=\"images/Screen Shot 2019-01-30 at 12.08.50 PM.png\"/>\n",
    "\n",
    "<img src=\"images/Screen Shot 2019-01-30 at 12.10.07 PM.png\"/>\n",
    "\n",
    "<img src=\"images/Screen Shot 2019-01-30 at 12.17.46 PM.png\"/>"
   ]
  },
  {
   "cell_type": "markdown",
   "metadata": {},
   "source": [
    "# Quadratic Recursive Graph Generation\n",
    "\n",
    "<img src=\"images/Screen Shot 2019-01-30 at 12.19.34 PM.png\"/>\n",
    "\n",
    "<img src=\"images/Screen Shot 2019-01-30 at 12.19.56 PM.png\"/>"
   ]
  },
  {
   "cell_type": "markdown",
   "metadata": {},
   "source": [
    "# Tangled Hypercube\n",
    "\n",
    "<img src=\"images/Screen Shot 2019-01-30 at 12.22.43 PM.png\"/>\n",
    "\n",
    "<img src=\"images/Screen Shot 2019-01-30 at 12.23.13 PM.png\"/>\n",
    "\n",
    "<img src=\"images/Screen Shot 2019-01-30 at 12.24.16 PM.png\"/>"
   ]
  },
  {
   "cell_type": "markdown",
   "metadata": {},
   "source": [
    "# Recap \n",
    "\n",
    "<img src=\"images/Screen Shot 2019-01-30 at 11.45.28 AM.png\"/>"
   ]
  },
  {
   "cell_type": "markdown",
   "metadata": {},
   "source": [
    "# Problem Set (2)\n",
    "\n",
    "<img src=\"images/Screen Shot 2019-01-31 at 11.18.22 AM.png\"/>"
   ]
  }
 ],
 "metadata": {
  "kernelspec": {
   "display_name": "Python [conda env:py36]",
   "language": "python",
   "name": "conda-env-py36-py"
  },
  "language_info": {
   "codemirror_mode": {
    "name": "ipython",
    "version": 3
   },
   "file_extension": ".py",
   "mimetype": "text/x-python",
   "name": "python",
   "nbconvert_exporter": "python",
   "pygments_lexer": "ipython3",
   "version": "3.6.4"
  },
  "toc": {
   "nav_menu": {},
   "number_sections": true,
   "sideBar": true,
   "skip_h1_title": false,
   "toc_cell": false,
   "toc_position": {},
   "toc_section_display": "block",
   "toc_window_display": false
  }
 },
 "nbformat": 4,
 "nbformat_minor": 2
}
