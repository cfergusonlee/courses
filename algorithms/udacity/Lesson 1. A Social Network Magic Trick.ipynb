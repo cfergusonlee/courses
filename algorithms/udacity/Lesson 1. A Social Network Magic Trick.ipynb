{
 "cells": [
  {
   "cell_type": "markdown",
   "metadata": {},
   "source": [
    "# Eularian Path\n",
    "\n",
    "In order for a graph to have an Eularian path, all of the intermediate nodes need to be of an even degree and the start/ending nodes need to be both even or odd.\n",
    "\n",
    "<img src=\"images/Screen Shot 2019-01-24 at 3.06.00 PM.png\"/>"
   ]
  },
  {
   "cell_type": "markdown",
   "metadata": {},
   "source": [
    "# Elarian Tour\n",
    "\n",
    "In order for a graph to have an Eularian tour, all nodes need to be of even degree.\n",
    "\n",
    "<img src=\"images/Screen Shot 2019-01-26 at 3.06.43 PM.png\" />"
   ]
  },
  {
   "cell_type": "code",
   "execution_count": 18,
   "metadata": {},
   "outputs": [
    {
     "name": "stdout",
     "output_type": "stream",
     "text": [
      "Tour is complete!\n"
     ]
    },
    {
     "data": {
      "text/plain": [
       "[1, 2, 3, 1]"
      ]
     },
     "execution_count": 18,
     "metadata": {},
     "output_type": "execute_result"
    }
   ],
   "source": [
    "# Find Eulerian Tour\n",
    "#\n",
    "# Write a function that takes in a graph\n",
    "# represented as a list of tuples\n",
    "# and return a list of nodes that\n",
    "# you would follow on an Eulerian Tour\n",
    "#\n",
    "# For example, if the input graph was\n",
    "# [(1, 2), (2, 3), (3, 1)]\n",
    "# A possible Eulerian tour would be [1, 2, 3, 1]\n",
    "\n",
    "def find_tour_helper(graph, start_tour, graph_size, start_visited):\n",
    "            \n",
    "    # Find the next connected edge\n",
    "    for edge in graph:\n",
    "        if edge not in start_visited:            \n",
    "            # Check whether the edge connects to the tour\n",
    "            if edge[-1] == start_tour[-1]:\n",
    "                tour = start_tour + [edge[0]]\n",
    "                visited = start_visited + [edge]\n",
    "                graph, tour, graph_size, visited = find_tour_helper(graph, tour, graph_size, visited)\n",
    "                \n",
    "                # Check whether the tour is complete\n",
    "                if len(set(tour)) == graph_size and tour[0] == tour[-1]:\n",
    "                    return graph, tour, graph_size, visited\n",
    "                \n",
    "            # Check whether the edge connects to the tour\n",
    "            elif edge[0] == start_tour[-1]:                \n",
    "                tour = start_tour + [edge[-1]]\n",
    "                visited = start_visited + [edge]                \n",
    "                graph, tour, graph_size, visited = find_tour_helper(graph, tour, graph_size, visited)\n",
    "                \n",
    "                # Check whether the tour is complete\n",
    "                if len(set(tour)) == graph_size and tour[0] == tour[-1]:\n",
    "                    return graph, tour, graph_size, visited\n",
    "            \n",
    "    return graph, start_tour, graph_size, start_visited\n",
    "\n",
    "def get_graph_size(graph):\n",
    "    node_list = []\n",
    "    for edge in graph:\n",
    "        node_list.append(edge[0])\n",
    "        node_list.append(edge[-1])\n",
    "    return len(set(node_list))\n",
    "        \n",
    "def find_eulerian_tour(graph):\n",
    "    # your code here\n",
    "    # Depth-first search?\n",
    "    # Use recursion to find a path that includes\n",
    "    # all nodes and starts and ends on the same node\n",
    "    graph_size = get_graph_size(graph)\n",
    "    start_tour = [graph[0][0], graph[0][-1]]\n",
    "    visited = [graph[0]]\n",
    "    graph, tour, graph_size, visited = find_tour_helper(graph, start_tour, graph_size, visited)\n",
    "    return tour\n",
    "\n",
    "def test_find_eulerian_tour(graph):\n",
    "    tour = find_eulerian_tour(graph)\n",
    "    if len(tour) - 1 != get_graph_size(graph):\n",
    "        return \"tour does not contain enough nodes.\"\n",
    "    elif tour[0] != tour[-1]:\n",
    "        return \"tour does not start and end at the same node.\"\n",
    "    else:\n",
    "        return \"Tour is complete!\"\n",
    "\n",
    "print(test_find_eulerian_tour([(1, 2), (2, 3), (3, 1)]))\n",
    "find_eulerian_tour([(1, 2), (2, 3), (3, 1)])\n",
    "\n",
    "\n"
   ]
  }
 ],
 "metadata": {
  "kernelspec": {
   "display_name": "Python [conda env:DAND]",
   "language": "python",
   "name": "conda-env-DAND-py"
  },
  "language_info": {
   "codemirror_mode": {
    "name": "ipython",
    "version": 2
   },
   "file_extension": ".py",
   "mimetype": "text/x-python",
   "name": "python",
   "nbconvert_exporter": "python",
   "pygments_lexer": "ipython2",
   "version": "2.7.12"
  },
  "toc": {
   "nav_menu": {},
   "number_sections": true,
   "sideBar": true,
   "skip_h1_title": false,
   "toc_cell": false,
   "toc_position": {},
   "toc_section_display": "block",
   "toc_window_display": false
  }
 },
 "nbformat": 4,
 "nbformat_minor": 2
}
