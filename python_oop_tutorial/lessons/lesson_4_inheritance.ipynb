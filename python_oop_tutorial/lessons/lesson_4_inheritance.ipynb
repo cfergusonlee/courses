{
 "cells": [
  {
   "cell_type": "markdown",
   "metadata": {},
   "source": [
    "# Introduction\n",
    "\n",
    "Inheritance allows us to inherit attributes and methods from a parent class. This is useful because we can create subclasses and get all of the functionality of our parent class and overwrite or add new functionality without affecting the parent class.\n"
   ]
  },
  {
   "cell_type": "markdown",
   "metadata": {},
   "source": [
    "# Inheritance Use Case: Differentiating Employees\n",
    "\n",
    "Let's say we have an employee class, but we want to create subsets, like managers, salespeople, etc. We could create these classes from scratch, but it would be easier to create classes that inherit attributes from the Employee class so we don't have to rewrite as much code.\n",
    "\n",
    "To inherit from a parent class, it's not necessary to define any methods or attribute within the subclass. By simply specifying the parent class, the subclass has already inherited all methods and attributes. The only reason to define any methods or attributes is if you want to add functionality or overwrite a method, as in the `__init__` method of the Developer class below.\n",
    "\n",
    "Also note that the default team value for the manager class was set to `None` instead of an empty list. This is best practice because using a mutable object as a default value will run us into trouble.\n"
   ]
  },
  {
   "cell_type": "code",
   "execution_count": 21,
   "metadata": {},
   "outputs": [
    {
     "name": "stdout",
     "output_type": "stream",
     "text": [
      "Corey.Schafer@email.com\n",
      "Test.Employee@email.com\n"
     ]
    }
   ],
   "source": [
    "class Employee:\n",
    "    \n",
    "    raise_amt = 1.04\n",
    "    \n",
    "    def __init__(self, first, last, pay):\n",
    "        self.first = first\n",
    "        self.last = last\n",
    "        self.email = first + '.' + last + '@email.com'\n",
    "        self.pay = pay\n",
    "        \n",
    "    def fullname(self):\n",
    "        return '{} {}'.format(self.first, self.last)\n",
    "    \n",
    "    def apply_raise(self):\n",
    "        self.pay = int(self.pay * self.raise_amt)\n",
    "        \n",
    "class Developer(Employee):\n",
    "    raise_amt = 1.10\n",
    "    \n",
    "    def __init__(self, first, last, pay, language):\n",
    "        super().__init__(first, last, pay)\n",
    "\n",
    "        # Employee.__init__(self, first, last, pay) is also correct, \n",
    "        # but not as clean as super(). It also runs into trouble \n",
    "        # when you start using multiple inheritance\n",
    "        \n",
    "        self.language = language\n",
    "\n",
    "dev_1 = Developer('Corey', 'Schafer', 50000, 'Python')\n",
    "dev_2 = Developer('Test', 'Employee', 60000, 'Java')\n",
    "dev_3 = Developer('Nasty', 'Nate', 70000, 'Swift')\n",
    "\n",
    "print(dev_1.email)\n",
    "print(dev_2.email)\n"
   ]
  },
  {
   "cell_type": "code",
   "execution_count": 25,
   "metadata": {},
   "outputs": [
    {
     "name": "stdout",
     "output_type": "stream",
     "text": [
      "Mister Manager's Team Members:\n",
      "-->Corey Schafer: Python ninja\n",
      "-->Test Employee: Java ninja\n",
      "-->Nasty Nate: Swift ninja\n"
     ]
    }
   ],
   "source": [
    "class Manager(Employee):\n",
    "    \n",
    "    raise_amt = 1.07       \n",
    "        \n",
    "    def __init__(self, first, last, pay, team=None):\n",
    "        super().__init__(first, last, pay)\n",
    "        \n",
    "        if team is None:\n",
    "            self.team = []\n",
    "        else:\n",
    "            self.team = team\n",
    "            \n",
    "    \n",
    "    def add_emp(self, emp):\n",
    "        if emp not in self.team:\n",
    "            self.team.append(emp)\n",
    "            \n",
    "    \n",
    "    def remove_emp(self, emp):\n",
    "        if emp in self.team:\n",
    "            self.team.remove(emp)\n",
    "        \n",
    "        \n",
    "    def display_team(self):\n",
    "        print(\"{}'s Team Members:\".format(self.fullname()))\n",
    "        for member in self.team:\n",
    "            print(\"-->{}: {} ninja\".format(member.fullname(), member.language))\n",
    "    \n",
    "\n",
    "\n",
    "manager_1 = Manager('Mister', 'Manager', 80000, [dev_1, dev_2])\n",
    "manager_1.add_emp(dev_3)\n",
    "manager_1.display_team()"
   ]
  },
  {
   "cell_type": "code",
   "execution_count": 20,
   "metadata": {},
   "outputs": [
    {
     "name": "stdout",
     "output_type": "stream",
     "text": [
      "Flavor Flave\n"
     ]
    }
   ],
   "source": [
    "class Receptionist(Employee):\n",
    "    \n",
    "    favorite_artist = \"Flavor Flave\"\n",
    "    \n",
    "receptionist_1 = Receptionist(\"Marissa\", \"Meyers\", 70000)\n",
    "print(receptionist_1.favorite_artist)"
   ]
  },
  {
   "cell_type": "markdown",
   "metadata": {},
   "source": [
    "# Method Resolution Order\n",
    "\n",
    "What happens behind the scenes when we instantiate a class is that the interpreter looks for any relevant methods in the subclass, then walks up the chain of inheritance to find additional methods and attributes. The chain of inheritance is called the **method resolution order**. Calling `help(Developer)` allows us to inspect the method resolution order, inherited methods & attributes and newly created methods & attributes of the class we've created.\n",
    "\n",
    "**Method Resolution Order:** In languages that use multiple inheritance, the order in which base classes are searched when looking for a method is often called the Method Resolution Order, or MRO."
   ]
  },
  {
   "cell_type": "code",
   "execution_count": 18,
   "metadata": {},
   "outputs": [
    {
     "name": "stdout",
     "output_type": "stream",
     "text": [
      "Help on class Developer in module __main__:\n",
      "\n",
      "class Developer(Employee)\n",
      " |  Developer(first, last, pay, language)\n",
      " |  \n",
      " |  Method resolution order:\n",
      " |      Developer\n",
      " |      Employee\n",
      " |      builtins.object\n",
      " |  \n",
      " |  Methods defined here:\n",
      " |  \n",
      " |  __init__(self, first, last, pay, language)\n",
      " |      Initialize self.  See help(type(self)) for accurate signature.\n",
      " |  \n",
      " |  ----------------------------------------------------------------------\n",
      " |  Data and other attributes defined here:\n",
      " |  \n",
      " |  raise_amt = 1.1\n",
      " |  \n",
      " |  ----------------------------------------------------------------------\n",
      " |  Methods inherited from Employee:\n",
      " |  \n",
      " |  apply_raise(self)\n",
      " |  \n",
      " |  fullname(self)\n",
      " |  \n",
      " |  ----------------------------------------------------------------------\n",
      " |  Data descriptors inherited from Employee:\n",
      " |  \n",
      " |  __dict__\n",
      " |      dictionary for instance variables (if defined)\n",
      " |  \n",
      " |  __weakref__\n",
      " |      list of weak references to the object (if defined)\n",
      "\n"
     ]
    }
   ],
   "source": [
    "help(Developer)"
   ]
  },
  {
   "cell_type": "code",
   "execution_count": 14,
   "metadata": {},
   "outputs": [
    {
     "name": "stdout",
     "output_type": "stream",
     "text": [
      "50000\n",
      "55000\n"
     ]
    }
   ],
   "source": [
    "print(dev_1.pay)\n",
    "dev_1.apply_raise()\n",
    "print(dev_1.pay)"
   ]
  },
  {
   "cell_type": "markdown",
   "metadata": {},
   "source": [
    "# Tracing Inheritance\n",
    "\n",
    "We can use the `isinstance` and `issubclass` methods to trace the inheritance of a class. The former tells us whether an object is an instance or descendant of a class, while the latter tells us whether one class is a descendant of another."
   ]
  },
  {
   "cell_type": "code",
   "execution_count": 27,
   "metadata": {},
   "outputs": [
    {
     "name": "stdout",
     "output_type": "stream",
     "text": [
      "True\n"
     ]
    }
   ],
   "source": [
    "print(isinstance(manager_1, Employee))"
   ]
  },
  {
   "cell_type": "code",
   "execution_count": 29,
   "metadata": {},
   "outputs": [
    {
     "name": "stdout",
     "output_type": "stream",
     "text": [
      "True\n"
     ]
    }
   ],
   "source": [
    "print(isinstance(manager_1, Manager))"
   ]
  },
  {
   "cell_type": "code",
   "execution_count": 28,
   "metadata": {},
   "outputs": [
    {
     "name": "stdout",
     "output_type": "stream",
     "text": [
      "False\n"
     ]
    }
   ],
   "source": [
    "print(isinstance(manager_1, Developer))"
   ]
  },
  {
   "cell_type": "code",
   "execution_count": 30,
   "metadata": {},
   "outputs": [
    {
     "name": "stdout",
     "output_type": "stream",
     "text": [
      "True\n"
     ]
    }
   ],
   "source": [
    "print(issubclass(Manager, Employee))"
   ]
  }
 ],
 "metadata": {
  "kernelspec": {
   "display_name": "Python 3",
   "language": "python",
   "name": "python3"
  },
  "language_info": {
   "codemirror_mode": {
    "name": "ipython",
    "version": 3
   },
   "file_extension": ".py",
   "mimetype": "text/x-python",
   "name": "python",
   "nbconvert_exporter": "python",
   "pygments_lexer": "ipython3",
   "version": "3.7.1"
  }
 },
 "nbformat": 4,
 "nbformat_minor": 2
}
