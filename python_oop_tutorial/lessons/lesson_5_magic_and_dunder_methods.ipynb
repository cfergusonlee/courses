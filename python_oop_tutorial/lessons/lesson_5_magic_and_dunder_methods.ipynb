{
 "cells": [
  {
   "cell_type": "markdown",
   "metadata": {},
   "source": [
    "# Introduction\n",
    "\n",
    "Magic methods allow us to emulate some builtin behavior within Python and it's also how we implement operator overloading, sometimes termed operator ad hoc polymorphism.\n",
    "\n",
    "**Operator overloading:** a specific case of polymorphism, where different operators have different implementations depending on their arguments.\n",
    "\n",
    "Operator overloading allows us to get some added functionality."
   ]
  },
  {
   "cell_type": "markdown",
   "metadata": {},
   "source": [
    "# `__repr__` and `__str__`\n",
    "\n",
    "The `__repr__` and `__str__` methods allow us to display meaningful information when using `print(<class>)`.\n",
    "\n",
    "Formally, `__repr__` is meant to be an unambiguous representation of an object and should be used for debugging, logging and other such activities. It's really meant to be seen by other developers. The `__str__` method is meant to be more of a readable representation of an object and is meant to be used as a display to the end user.\n",
    "\n",
    "We define `__repr__` below to return a string that shows how to create the object. We define `__str__` to display meaningful attributes from the Employee instance, namely the full name and email."
   ]
  },
  {
   "cell_type": "code",
   "execution_count": 20,
   "metadata": {},
   "outputs": [],
   "source": [
    "class Employee:\n",
    "    \n",
    "    raise_amt = 1.04\n",
    "    \n",
    "    def __init__(self, first, last, pay):\n",
    "        self.first = first\n",
    "        self.last = last\n",
    "        self.email = first + '.' + last + '@email.com'\n",
    "        self.pay = pay\n",
    "        \n",
    "    def fullname(self):\n",
    "        return '{} {}'.format(self.first, self.last)\n",
    "    \n",
    "    def apply_raise(self):\n",
    "        self.pay = int(self.pay * self.raise_amt)\n",
    "        \n",
    "    def __repr__(self):\n",
    "        return \"Employee('{}', '{}', {})\".format(self.first, self.last, self.pay)\n",
    "    \n",
    "    def __str__(self):\n",
    "        return '{} - {}'.format(self.fullname(), self.email)\n",
    "    \n",
    "    \n",
    "    \n",
    "    def __len__(self):\n",
    "        return len(self.fullname())\n",
    "        \n",
    "        \n",
    "emp_1 = Employee('Corey', 'Schafer', 50000)\n",
    "emp_2 = Employee('Leonard', 'Euler', 40000)\n"
   ]
  },
  {
   "cell_type": "markdown",
   "metadata": {},
   "source": [
    "We can access the str and repr representations for our Employee instance by calling str and repr. Note that calling print accesses the `__str__` method. If we comment out the `__str__` method defined above, print accesses the `__repr__` method instead."
   ]
  },
  {
   "cell_type": "code",
   "execution_count": 7,
   "metadata": {},
   "outputs": [
    {
     "name": "stdout",
     "output_type": "stream",
     "text": [
      "Employee('Corey', 'Schafer', 50000)\n",
      "Corey Schafer - Corey.Schafer@email.com\n",
      "Corey Schafer - Corey.Schafer@email.com\n"
     ]
    }
   ],
   "source": [
    "print(repr(emp_1))\n",
    "print(str(emp_1))\n",
    "print(emp_1)"
   ]
  },
  {
   "cell_type": "markdown",
   "metadata": {},
   "source": [
    "We can also access the str and repr representations by calling our magic `__repr__` and `__str__` methods directly:"
   ]
  },
  {
   "cell_type": "code",
   "execution_count": 6,
   "metadata": {},
   "outputs": [
    {
     "name": "stdout",
     "output_type": "stream",
     "text": [
      "Employee('Corey', 'Schafer', 50000)\n",
      "Corey Schafer - Corey.Schafer@email.com\n"
     ]
    }
   ],
   "source": [
    "print(emp_1.__repr__())\n",
    "print(emp_1.__str__())"
   ]
  },
  {
   "cell_type": "markdown",
   "metadata": {},
   "source": [
    "# Additional Magic Methods\n",
    "\n",
    "We also created an `__add__` method that allows us to use the `+` operator to add two Employee salaries together. By default, there is no `__add__` functionality for our Employee class, but we can define it to suit our purposes. By the same reasoning, our Employee class does not have `len` functionality because it is not an iterator, but we can define it using `__len__`.\n",
    "\n",
    "The `NotImplemented` built-in is a fall-back incase a method is undefined in one class but defined in another. It allows the interpreter to check the other object's methods to see if there is a reverse method defined. For instance, the Developer class's `__add__` method does not know what to do with non-Developer objects, but the Manager class does. The `__radd__` function defined in the Manager class adds the two objects together appropriately."
   ]
  },
  {
   "cell_type": "code",
   "execution_count": 39,
   "metadata": {},
   "outputs": [
    {
     "name": "stdout",
     "output_type": "stream",
     "text": [
      "13\n"
     ]
    }
   ],
   "source": [
    "print(len(emp_1))"
   ]
  },
  {
   "cell_type": "code",
   "execution_count": 36,
   "metadata": {},
   "outputs": [
    {
     "name": "stdout",
     "output_type": "stream",
     "text": [
      "Mister Manager's Team Members:\n",
      "-->Corey Schafer: Python ninja\n",
      "-->Test Employee: Java ninja\n",
      "-->Nasty Nate: Swift ninja\n"
     ]
    }
   ],
   "source": [
    "class Developer(Employee):\n",
    "    raise_amt = 1.10\n",
    "    \n",
    "    def __init__(self, first, last, pay, language):\n",
    "        super().__init__(first, last, pay)\n",
    "\n",
    "        # Employee.__init__(self, first, last, pay) is also correct, \n",
    "        # but not as clean as super(). It also runs into trouble \n",
    "        # when you start using multiple inheritance\n",
    "        \n",
    "        self.language = language\n",
    "        \n",
    "    \n",
    "    def __add__(self, other):\n",
    "        if isinstance(other, Developer):\n",
    "            return self.pay + other.pay\n",
    "        return NotImplemented\n",
    "\n",
    "\n",
    "class Manager(Employee):\n",
    "    \n",
    "    raise_amt = 1.07       \n",
    "        \n",
    "    def __init__(self, first, last, pay, team=None):\n",
    "        super().__init__(first, last, pay)\n",
    "        \n",
    "        if team is None:\n",
    "            self.team = []\n",
    "        else:\n",
    "            self.team = team\n",
    "            \n",
    "    \n",
    "    def add_emp(self, emp):\n",
    "        if emp not in self.team:\n",
    "            self.team.append(emp)\n",
    "            \n",
    "    \n",
    "    def remove_emp(self, emp):\n",
    "        if emp in self.team:\n",
    "            self.team.remove(emp)\n",
    "            \n",
    "    \n",
    "    def __add__(self, other):\n",
    "        if isinstance(other, Employee):\n",
    "            return self.pay + other.pay\n",
    "        return NotImplemented\n",
    "    \n",
    "            \n",
    "    def __radd__(self, other):\n",
    "        if isinstance(other, Employee):\n",
    "            return self.pay + other.pay\n",
    "        return NotImplemented\n",
    "        \n",
    "        \n",
    "    def display_team(self):\n",
    "        print(\"{}'s Team Members:\".format(self.fullname()))\n",
    "        for member in self.team:\n",
    "            print(\"-->{}: {} ninja\".format(member.fullname(), member.language))\n",
    "    \n",
    "\n",
    "\n",
    "\n",
    "\n",
    "dev_1 = Developer('Corey', 'Schafer', 50000, 'Python')\n",
    "dev_2 = Developer('Test', 'Employee', 60000, 'Java')\n",
    "dev_3 = Developer('Nasty', 'Nate', 70000, 'Swift')\n",
    "\n",
    "manager_1 = Manager('Mister', 'Manager', 80000, [dev_1, dev_2])\n",
    "manager_1.add_emp(dev_3)\n",
    "manager_1.display_team()"
   ]
  },
  {
   "cell_type": "code",
   "execution_count": 37,
   "metadata": {},
   "outputs": [
    {
     "data": {
      "text/plain": [
       "130000"
      ]
     },
     "execution_count": 37,
     "metadata": {},
     "output_type": "execute_result"
    }
   ],
   "source": [
    "dev_1 + manager_1"
   ]
  }
 ],
 "metadata": {
  "kernelspec": {
   "display_name": "Python 3",
   "language": "python",
   "name": "python3"
  },
  "language_info": {
   "codemirror_mode": {
    "name": "ipython",
    "version": 3
   },
   "file_extension": ".py",
   "mimetype": "text/x-python",
   "name": "python",
   "nbconvert_exporter": "python",
   "pygments_lexer": "ipython3",
   "version": "3.7.1"
  }
 },
 "nbformat": 4,
 "nbformat_minor": 2
}
