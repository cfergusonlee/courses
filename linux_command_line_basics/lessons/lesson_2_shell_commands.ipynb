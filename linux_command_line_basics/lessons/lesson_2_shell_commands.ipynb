{
 "cells": [
  {
   "cell_type": "markdown",
   "metadata": {},
   "source": [
    "# Common Commands\n",
    "\n",
    "- `unzip`: unzips a compressed file.\n",
    "- `cat`: Short for concatenate, cat concatenates the contents of files and prints the output. It can also be used to print the contents of a single file.\n",
    "- `wc`: Displays the number of lines, words and bytes in a file.\n",
    "- `diff`: Compares files and shows how they differ.\n",
    "- `man`: Retrieves the manual for a shell command\n",
    "- `less`: Displays file text one page at a time"
   ]
  },
  {
   "cell_type": "markdown",
   "metadata": {},
   "source": [
    "# Line Based Programs\n",
    "\n",
    "Programs that don't immediately return the shell prompt after running are called line-based programs. The `sort` and `ping` commands fall under this category.\n",
    "\n",
    "<img src='../images/Screen Shot 2019-04-12 at 1.09.02 PM.png' />\n",
    "\n",
    "<img src='../images/Screen Shot 2019-04-12 at 1.10.08 PM.png' />"
   ]
  }
 ],
 "metadata": {
  "kernelspec": {
   "display_name": "Python [conda env:py27]",
   "language": "python",
   "name": "conda-env-py27-py"
  },
  "language_info": {
   "codemirror_mode": {
    "name": "ipython",
    "version": 2
   },
   "file_extension": ".py",
   "mimetype": "text/x-python",
   "name": "python",
   "nbconvert_exporter": "python",
   "pygments_lexer": "ipython2",
   "version": "2.7.15"
  }
 },
 "nbformat": 4,
 "nbformat_minor": 2
}
