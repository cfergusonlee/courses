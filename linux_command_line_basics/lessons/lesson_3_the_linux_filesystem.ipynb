{
 "cells": [
  {
   "cell_type": "markdown",
   "metadata": {},
   "source": [
    "# Useful Shell Commands\n",
    "\n",
    "### Working Directory\n",
    "- `pwd`: This prints the full path of the current working directory.\n",
    "\n",
    "### Move and Copy\n",
    "- `mv`: Moves a file to a new location\n",
    "- `cp`: Copies a file\n",
    "\n",
    "### Creation\n",
    "- `mkdir`: Creates a directory\n",
    "- `touch`: Creates a file\n",
    "\n",
    "### Deletion\n",
    "- `rmdir`: Removes a directory\n",
    "- `rm`: Removes a file\n",
    "\n",
    "### Glob Patterns\n",
    "- `*`: Glob pattern for matching indefinite length wildcard\n",
    "- `?`: Glob pattern for matching single wildcard character\n",
    "- `[chars]`: Glob pattern for matching possible chars within brackets\n",
    "- `{opt1,opt2}`: Glob pattern for matching multiple patters (note: no space between options)"
   ]
  },
  {
   "cell_type": "markdown",
   "metadata": {},
   "source": [
    "# The Filesystem Tree\n",
    "\n",
    "Directories need to be preceded with a forward slash. Also take note of two different ways of displaying a filepath with spaces. If bounded with quotes, you can include the spaces. If naked, you need to escape any spaces or exclamation marks with a backslash.\n",
    "\n",
    "<img src='../images/Screen Shot 2019-04-15 at 9.43.41 AM.png' />\n",
    "\n",
    "<img src='../images/Screen Shot 2019-04-15 at 9.49.00 AM.png' />"
   ]
  },
  {
   "cell_type": "markdown",
   "metadata": {},
   "source": [
    "# The Working Directory\n",
    "\n",
    "<img src='../images/Screen Shot 2019-04-15 at 9.53.40 AM.png' />\n",
    "\n",
    "The ~ is a shortcut to the home directory and is a useful alternative to using repeated `../` to get out of your current directory.\n",
    "\n",
    "<img src='../images/Screen Shot 2019-04-15 at 10.20.26 AM.png' />"
   ]
  },
  {
   "cell_type": "markdown",
   "metadata": {},
   "source": [
    "# Moving and Copying\n",
    "\n",
    "Use `mv [file] [new/path]` to move a file to a new location\n",
    "\n",
    "<img src='../images/Screen Shot 2019-04-15 at 1.29.40 PM.png' />\n",
    "\n",
    "<img src='../images/Screen Shot 2019-04-15 at 1.41.47 PM.png' />"
   ]
  },
  {
   "cell_type": "markdown",
   "metadata": {},
   "source": [
    "# Making and Removing Directories\n",
    "\n",
    "<img src='../images/Screen Shot 2019-04-15 at 1.41.47 PM.png' />\n",
    "\n",
    "<img src='../images/Screen Shot 2019-04-15 at 1.45.26 PM.png' />\n",
    "\n",
    "<img src='../images/Screen Shot 2019-04-15 at 1.47.09 PM.png' />"
   ]
  },
  {
   "cell_type": "markdown",
   "metadata": {},
   "source": [
    "# Globbing\n",
    "\n",
    "When you want to operate on files with similar names, you can use a glob (* pattern). Ex: `mv Screen Shot*` should match all files that match the pattern.\n",
    "\n",
    "<img src='../images/Screen Shot 2019-04-15 at 1.56.53 PM.png' />\n"
   ]
  }
 ],
 "metadata": {
  "kernelspec": {
   "display_name": "Python [conda env:py27]",
   "language": "python",
   "name": "conda-env-py27-py"
  },
  "language_info": {
   "codemirror_mode": {
    "name": "ipython",
    "version": 2
   },
   "file_extension": ".py",
   "mimetype": "text/x-python",
   "name": "python",
   "nbconvert_exporter": "python",
   "pygments_lexer": "ipython2",
   "version": "2.7.15"
  }
 },
 "nbformat": 4,
 "nbformat_minor": 2
}
