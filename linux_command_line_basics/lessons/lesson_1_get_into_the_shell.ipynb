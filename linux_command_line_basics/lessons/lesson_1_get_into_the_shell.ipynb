{
 "cells": [
  {
   "cell_type": "markdown",
   "metadata": {},
   "source": [
    "# Terminal vs Shell\n",
    "\n",
    "**Terminal:** an electronic or electromechanical hardware device that is used for entering data into, and displaying or printing data from, a computer or a computing system. This data is then sent to the shell for execution.\n",
    "\n",
    "**Shell:** software that interprets user input text for executing commands. The shell gives the user access to an operating system's services.\n",
    "\n",
    "**Shell Scripting:** a small computer program that is designed to be run or executed by the Unix shell, which is a command-line interpreter. A shell script is basically a set of commands that the shell in a Unix-based operating system follows.\n"
   ]
  },
  {
   "cell_type": "markdown",
   "metadata": {},
   "source": [
    "# Anatomy of the Terminal\n",
    "\n",
    "<img src='../images/Screen Shot 2019-04-11 at 9.59.02 AM.png' />\n"
   ]
  },
  {
   "cell_type": "markdown",
   "metadata": {},
   "source": [
    "# Shell Commands vs Program Functions\n",
    "\n",
    "Shell commands are used to run programs, while functions in languages like Javascript and Python are used to organize programs. You would use a shell command to run a Python program, but you wouldn't necessarily use a Python program to run a shell command.\n"
   ]
  }
 ],
 "metadata": {
  "kernelspec": {
   "display_name": "Python [conda env:py27]",
   "language": "python",
   "name": "conda-env-py27-py"
  },
  "language_info": {
   "codemirror_mode": {
    "name": "ipython",
    "version": 2
   },
   "file_extension": ".py",
   "mimetype": "text/x-python",
   "name": "python",
   "nbconvert_exporter": "python",
   "pygments_lexer": "ipython2",
   "version": "2.7.15"
  }
 },
 "nbformat": 4,
 "nbformat_minor": 2
}
