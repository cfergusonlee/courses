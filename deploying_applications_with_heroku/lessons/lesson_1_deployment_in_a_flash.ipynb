{
 "cells": [
  {
   "cell_type": "markdown",
   "metadata": {},
   "source": [
    "# Course Outline\n",
    "\n",
    "<img src='../images/Screen Shot 2019-04-27 at 8.09.40 PM.png' />"
   ]
  },
  {
   "cell_type": "markdown",
   "metadata": {},
   "source": [
    "# What Is Deployment?\n",
    "\n",
    "**Deployment:** The process of moving an application from a local machine to a remote public host that can be accessed by users.\n",
    "\n",
    "<img src='../images/Screen Shot 2019-04-27 at 8.13.00 PM.png' />\n"
   ]
  },
  {
   "cell_type": "markdown",
   "metadata": {},
   "source": [
    "# What Is Heroku?\n",
    "\n",
    "<img src='../images/Screen Shot 2019-04-27 at 8.20.12 PM.png' />\n",
    "\n",
    "<img src='../images/Screen Shot 2019-04-27 at 8.20.27 PM.png' />"
   ]
  },
  {
   "cell_type": "markdown",
   "metadata": {},
   "source": [
    "# The Deployment Pipeline\n",
    "\n",
    "The deployment pipeline involves moving your code through progressive environments on the way to production.\n",
    "\n",
    "<img src='../images/Screen Shot 2019-04-28 at 6.47.12 AM.png' />\n",
    "\n",
    "<img src='../images/Screen Shot 2019-04-28 at 6.52.20 AM.png' />\n",
    "\n",
    "### Development Environment\n",
    "\n",
    "Deployment involves transferring your software from your local environment to the production environment. Local development involves building, testing and debugging before pushing to the production.\n",
    "\n",
    "<img src='../images/Screen Shot 2019-04-28 at 6.47.39 AM.png' />\n",
    "\n",
    "### Staging Environment\n",
    "\n",
    "A common scenario is when you've completed local building, testing and debugging, but you want to see what the experience is like for your users before pushing to the final production environment. This is called staging. The application deployed to a staging environment is meant to be accessed by yourself, your developer collaborators and beta testers, but not by end users.\n",
    "\n",
    "<img src='../images/Screen Shot 2019-04-28 at 6.51.58 AM.png' />\n",
    "\n",
    "### Production Environment\n",
    "\n",
    "Deploying to a production environment is making your app available to users. It's configured to be hosted on a server and is the end goal of development.\n",
    "\n",
    "<img src='../images/Screen Shot 2019-04-28 at 6.49.33 AM.png' />\n",
    "\n",
    "There are a variety of tools that allow a development team to optimize the deployment pipeline to keep a consistent stream of version updates to the application, including tools to:\n",
    "- Automatically deploy to staging after every git push\n",
    "- Automatically running certain tests before pushing to production\n",
    "\n"
   ]
  },
  {
   "cell_type": "markdown",
   "metadata": {},
   "source": [
    "# Types of Environments\n",
    "What are some reasons you might want to push a new version to staging first instead of going straight to production?\n",
    "\n",
    "### Your reflection\n",
    "After development, you may want to run additional tests and understand what the experience will be like for users before releasing to production. You may also want to conduct alpha or beta testing before the final release.\n",
    "\n",
    "### Things to think about\n",
    "1. If your app crashes on launch (or on the first query), you don't want all your users to be inconvenienced.\n",
    "1. The staging environment lets your lawyer check it for copyright violations.\n",
    "1. Staging environments are always faster than production, so you can make changes quicker.\n",
    "1. If you push to production and it breaks, your users will be affected.\n",
    "1. If the new version needs more resources (like CPU or memory) you can find out in staging instead of finding out when you get a giant bill for production resources."
   ]
  },
  {
   "cell_type": "markdown",
   "metadata": {},
   "source": [
    "# Updating Your Deployed Application\n",
    "What is the effect of deployment on the localhost?\n",
    "\n",
    "### Your reflection\n",
    "Deployment merges your local development environment with the staging and deployment environments. The localhost still exists although in a more advanced form and can be used to prepare for the next deployment.\n",
    "### Things to think about\n",
    "Your local development environment is not affected by deployment. You will still be able to develop and continue to test your code while your application is deployed. The version that is deployed is the one that you push to Heroku. If you choose to add new features and want the deployed application to reflect this you must push to the Heroku remote once again.\n"
   ]
  }
 ],
 "metadata": {
  "kernelspec": {
   "display_name": "Python 3",
   "language": "python",
   "name": "python3"
  },
  "language_info": {
   "codemirror_mode": {
    "name": "ipython",
    "version": 3
   },
   "file_extension": ".py",
   "mimetype": "text/x-python",
   "name": "python",
   "nbconvert_exporter": "python",
   "pygments_lexer": "ipython3",
   "version": "3.7.1"
  }
 },
 "nbformat": 4,
 "nbformat_minor": 2
}
