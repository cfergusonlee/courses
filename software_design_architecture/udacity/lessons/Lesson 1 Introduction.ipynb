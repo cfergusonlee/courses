{
 "cells": [
  {
   "cell_type": "markdown",
   "metadata": {},
   "source": [
    "# Principals\n",
    "\n",
    "<img src=\"../images/Screen Shot 2019-03-11 at 11.03.22 AM.png\" /img>\n",
    "\n",
    "<img src=\"../images/Screen Shot 2019-03-11 at 11.09.08 AM.png\" /img>\n",
    "\n",
    "<img src=\"../images/Screen Shot 2019-03-12 at 8.17.03 AM.png\" /img>\n",
    "\n",
    "<img src=\"../images/Screen Shot 2019-03-12 at 8.18.41 AM.png\" /img>"
   ]
  },
  {
   "cell_type": "markdown",
   "metadata": {},
   "source": [
    "# Objectives\n",
    "\n",
    "<img src=\"../images/Screen Shot 2019-03-11 at 11.08.41 AM.png\" /img>\n"
   ]
  },
  {
   "cell_type": "markdown",
   "metadata": {},
   "source": [
    "# \n",
    "\n",
    "<img src=\"../images/.png\" /img>\n",
    "\n",
    "<img src=\"../images/.png\" /img>\n"
   ]
  },
  {
   "cell_type": "markdown",
   "metadata": {},
   "source": [
    "# \n",
    "\n",
    "<img src=\"../images/.png\" /img>\n",
    "\n",
    "<img src=\"../images/.png\" /img>\n"
   ]
  },
  {
   "cell_type": "markdown",
   "metadata": {},
   "source": [
    "# \n",
    "\n",
    "<img src=\"../images/.png\" /img>\n",
    "\n",
    "<img src=\"../images/.png\" /img>\n"
   ]
  },
  {
   "cell_type": "markdown",
   "metadata": {},
   "source": [
    "# \n",
    "\n",
    "<img src=\"../images/.png\" /img>\n",
    "\n",
    "<img src=\"../images/.png\" /img>\n"
   ]
  },
  {
   "cell_type": "markdown",
   "metadata": {},
   "source": [
    "# \n",
    "\n",
    "<img src=\"../images/.png\" /img>\n",
    "\n",
    "<img src=\"../images/.png\" /img>\n"
   ]
  },
  {
   "cell_type": "markdown",
   "metadata": {},
   "source": [
    "# \n",
    "\n",
    "<img src=\"../images/.png\" /img>\n",
    "\n",
    "<img src=\"../images/.png\" /img>\n"
   ]
  },
  {
   "cell_type": "code",
   "execution_count": null,
   "metadata": {
    "collapsed": true
   },
   "outputs": [],
   "source": []
  }
 ],
 "metadata": {
  "kernelspec": {
   "display_name": "Python [conda env:py36]",
   "language": "python",
   "name": "conda-env-py36-py"
  },
  "language_info": {
   "codemirror_mode": {
    "name": "ipython",
    "version": 3
   },
   "file_extension": ".py",
   "mimetype": "text/x-python",
   "name": "python",
   "nbconvert_exporter": "python",
   "pygments_lexer": "ipython3",
   "version": "3.6.4"
  },
  "toc": {
   "nav_menu": {},
   "number_sections": true,
   "sideBar": true,
   "skip_h1_title": false,
   "toc_cell": false,
   "toc_position": {},
   "toc_section_display": "block",
   "toc_window_display": false
  }
 },
 "nbformat": 4,
 "nbformat_minor": 2
}
