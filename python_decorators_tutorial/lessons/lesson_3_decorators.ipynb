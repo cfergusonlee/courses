{
 "cells": [
  {
   "cell_type": "markdown",
   "metadata": {},
   "source": [
    "# Introduction\n",
    "\n",
    "**Decorator:** a function that takes another function as an argument and returns another function."
   ]
  },
  {
   "cell_type": "markdown",
   "metadata": {},
   "source": [
    "## Decorators as Functions"
   ]
  },
  {
   "cell_type": "code",
   "execution_count": 6,
   "metadata": {},
   "outputs": [
    {
     "name": "stdout",
     "output_type": "stream",
     "text": [
      "wrapper executed this before display\n",
      "display function ran\n"
     ]
    }
   ],
   "source": [
    "def decorator_function(original_function):\n",
    "    \n",
    "    def wrapper_function():\n",
    "        print('wrapper executed this before {}'.format(original_function.__name__))\n",
    "        return original_function()\n",
    "        \n",
    "    return wrapper_function\n",
    "\n",
    "\n",
    "def display():\n",
    "    print('display function ran')\n",
    "\n",
    "decorated_display = decorator_function(display)\n",
    "\n",
    "decorated_display()"
   ]
  },
  {
   "cell_type": "markdown",
   "metadata": {},
   "source": [
    "## Why is this Useful?\n",
    "\n",
    "Decorators allow us to wrap a function in order to extend the behavior of the wrapped function, without permanently modifying it.\n",
    "\n",
    "Although the above syntax for creating a decorator is perfectly acceptable, the following is more common.\n",
    "\n",
    "In order to make both the `display` and `display_info` functions work, we need to use `*args` and `**kwargs` to pass an indeterminant number of variables to the wrapper function. The `*args` argument handles non-keyworded arguments, while `**kwargs` handles keyworded arguments."
   ]
  },
  {
   "cell_type": "code",
   "execution_count": 13,
   "metadata": {},
   "outputs": [
    {
     "name": "stdout",
     "output_type": "stream",
     "text": [
      "wrapper executed this before display\n",
      "display function ran\n",
      "wrapper executed this before display_info\n",
      "display_info ran with arguments (John, 45)\n"
     ]
    }
   ],
   "source": [
    "def decorator_function(original_function):\n",
    "    \n",
    "    def wrapper_function(*args, **kwargs):\n",
    "        print('wrapper executed this before {}'.format(original_function.__name__))\n",
    "        return original_function(*args, **kwargs)\n",
    "        \n",
    "    return wrapper_function\n",
    "\n",
    "@decorator_function\n",
    "def display():\n",
    "    print('display function ran')\n",
    "    \n",
    "@decorator_function\n",
    "def display_info(name, age):\n",
    "    print('display_info ran with arguments ({}, {})'.format(name, age))\n",
    "    \n",
    "\n",
    "display()\n",
    "display_info('John', 45)\n",
    "\n"
   ]
  },
  {
   "cell_type": "markdown",
   "metadata": {},
   "source": [
    "## Classes as Decorators\n",
    "\n",
    "We can also use classes as decorators. In this case, we use the `__call__` method as the decorator.\n"
   ]
  },
  {
   "cell_type": "code",
   "execution_count": 4,
   "metadata": {},
   "outputs": [
    {
     "name": "stdout",
     "output_type": "stream",
     "text": [
      "call method executed this before display\n",
      "display function ran\n",
      "call method executed this after display \n",
      "\n",
      "call method executed this before display_info\n",
      "display_info ran with arguments (John, 45)\n",
      "call method executed this after display_info \n",
      "\n"
     ]
    }
   ],
   "source": [
    "class decorator_class(object):\n",
    "    \n",
    "    def __init__(self, original_function):\n",
    "        self.original_function = original_function\n",
    "        \n",
    "    def __call__(self, *args, **kwargs):\n",
    "        print('call method executed this before {}'.format(self.original_function.__name__))\n",
    "        self.original_function(*args, **kwargs)\n",
    "        print('call method executed this after {} \\n'.format(self.original_function.__name__))\n",
    "        return None\n",
    "        \n",
    "@decorator_class\n",
    "def display():\n",
    "    print('display function ran')\n",
    "    \n",
    "    \n",
    "@decorator_class\n",
    "def display_info(name, age):\n",
    "    print('display_info ran with arguments ({}, {})'.format(name, age))\n",
    "    \n",
    "\n",
    "display()\n",
    "display_info('John', 45)\n",
    "        \n",
    "        "
   ]
  },
  {
   "cell_type": "markdown",
   "metadata": {},
   "source": [
    "# Practical Decorator Example: Logging\n",
    "\n",
    "Using decorators with loggers makes sense because we often want to log info throughout our codebase. By using a decorator, we are able to log the information in a consistent way with very little overhead.\n",
    "\n",
    "People often use decorators with timers for the same reason. If we're interested in how long a function took to run, we can use a decorator for each function we want to keep track of. This allows us to time functions of interest with one line of code at instantiation without cluttering things up at execution.\n",
    "\n",
    "When we stack our decorators on top of one another, what that is actually doing is chaining our decorators instead of applying each decorator to the function of interest. To avoid unexpected results, we need to wrap each of our decorated functions within the decorators using the `wraps` tool from the `functools` module."
   ]
  },
  {
   "cell_type": "code",
   "execution_count": 6,
   "metadata": {},
   "outputs": [
    {
     "name": "stdout",
     "output_type": "stream",
     "text": [
      "display_info\n",
      "display_info ran with arguments (Hank, 30)\n",
      "display_info ran in: 0.00044417381286621094 sec\n"
     ]
    }
   ],
   "source": [
    "from functools import wraps\n",
    "\n",
    "def my_logger(orig_func):\n",
    "    import logging\n",
    "    logging.basicConfig(filename='../data/{}.log'.format(orig_func.__name__), level=logging.INFO)\n",
    "    \n",
    "    @wraps(orig_func)\n",
    "    def wrapper(*args, **kwargs):\n",
    "        logging.info(\n",
    "            'Ran with args: {}, and kwargs: {}'.format(args, kwargs)\n",
    "        )\n",
    "        return orig_func(*args, **kwargs)\n",
    "    \n",
    "    return wrapper\n",
    "\n",
    "\n",
    "def my_timer(orig_func):\n",
    "    import time\n",
    "    \n",
    "    @wraps(orig_func)\n",
    "    def wrapper(*args, **kwargs):\n",
    "        t1 = time.time()\n",
    "        result = orig_func(*args, **kwargs)\n",
    "        t2 = time.time() - t1\n",
    "        print('{} ran in: {} sec'.format(orig_func.__name__, t2))\n",
    "        return result\n",
    "    \n",
    "    return wrapper\n",
    "\n",
    "@my_timer\n",
    "@my_logger\n",
    "def display_info(name, age):\n",
    "    print('display_info ran with arguments ({}, {})'.format(name, age))\n",
    "    \n",
    "print(display_info.__name__)    \n",
    "display_info('Hank', 30)\n",
    "        "
   ]
  },
  {
   "cell_type": "code",
   "execution_count": 7,
   "metadata": {},
   "outputs": [
    {
     "name": "stdout",
     "output_type": "stream",
     "text": [
      "b\"INFO:root:Ran with args: ('Hank', 30), and kwargs: {}\\n\"\n",
      "b\"INFO:root:Ran with args: ('Hank', 30), and kwargs: {}\\n\"\n",
      "b\"INFO:root:Ran with args: ('Hank', 30), and kwargs: {}\\n\"\n",
      "b\"INFO:root:Ran with args: ('Hank', 30), and kwargs: {}\\n\"\n",
      "b\"INFO:root:Ran with args: ('Hank', 30), and kwargs: {}\\n\"\n"
     ]
    }
   ],
   "source": [
    "with open('../data/display_info.log', 'rb') as f:\n",
    "    for line in f:\n",
    "        print(line)"
   ]
  }
 ],
 "metadata": {
  "kernelspec": {
   "display_name": "Python 3",
   "language": "python",
   "name": "python3"
  },
  "language_info": {
   "codemirror_mode": {
    "name": "ipython",
    "version": 3
   },
   "file_extension": ".py",
   "mimetype": "text/x-python",
   "name": "python",
   "nbconvert_exporter": "python",
   "pygments_lexer": "ipython3",
   "version": "3.7.1"
  }
 },
 "nbformat": 4,
 "nbformat_minor": 2
}
