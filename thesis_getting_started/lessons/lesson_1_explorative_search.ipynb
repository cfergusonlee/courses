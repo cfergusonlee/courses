{
 "cells": [
  {
   "cell_type": "markdown",
   "metadata": {},
   "source": [
    "# Introduction\n",
    "\n",
    "An explorative search is an unstructured search that involves getting inspiration and determining whether the topic is novel. Even if it turns out that the topic is not the first of its kind, you may discover ways to develop it further.\n",
    "\n",
    "Possible  sources of inspiration can include:\n",
    "- Trade journals\n",
    "- Wikipedia\n",
    "- Reference books\n",
    "- Articles\n",
    "- Github\n",
    "\n",
    "Start by exploring whether your idea meets the following criteria:\n",
    "1. Is my topic novel?\n",
    "2. Is my topic feasible?\n",
    "3. Is my topic relevant?"
   ]
  },
  {
   "cell_type": "markdown",
   "metadata": {},
   "source": [
    "# Criteria for a problem formulation\n",
    "\n",
    "## Is my idea novel?\n",
    "\n",
    "If you have an idea for a research topic, you should check to see if anyone else has already researched the same topic before you embark on your own research. For example if you are interested in researching the smoking habits of immigrants in Israel, you could enter smoking immigrants Israel in the search field and see if you discover any papers that resemble what you are thinking about researching. You could then consider whether the search results focus on what you would like to research or if your topic is different from the research already done.\n",
    "\n",
    "If you don’t find any articles that are very similar to your planned topic, then you probably have a novel idea. But the fact that your idea is novel doesn’t necessarily mean that it is a good idea. There may be good reasons that nobody has studied the topic before, for example that the subject is irrelevant.\n",
    "\n",
    "## Is my idea relevant?\n",
    "\n",
    "Besides being novel, you must also have a clear feeling that your topic or your angle on your topic is relevant for anyone other than yourself as a student. Clarify this by using your explorative literature search to describe the specific problem – geographic, scope, extension – and to establish to yourself that your topic ties up with the nature of the problem, even if it is not measurable at this time. This work will hopefully bring you closer to a concrete description and argument of the aim of the thesis and why it is worth dealing with.\n",
    "\n",
    "## Is my question feasible?\n",
    "Once you have an idea for your research topic that appears to be novel and relevant, you should then consider whether it is feasible. E.g. will you be able to perform the research and write your thesis before its deadline?\n",
    "\n"
   ]
  },
  {
   "cell_type": "markdown",
   "metadata": {},
   "source": [
    "# Find who and what you are looking for\n",
    "\n",
    "Did you know that when there are multiple authors on a paper that the last author is often the head of a department? If you perform a search for articles written by this author, you can get a broader idea of what type of research the department is working on. You can perform this search in Pubmed or Google Scholar. In Google Scholar you will also be able to see how often this author’s articles are cited by other articles – the most cited authors often have the most impact in their field of work.\n",
    "\n",
    "Discuss your idea with other people and listen to what they think about your topic.\n",
    "\n",
    "Your explorative search is likely to go hand in hand with your writing of your problem formulation. Use the results of your search to narrow and clarify your problem formulation."
   ]
  },
  {
   "cell_type": "markdown",
   "metadata": {},
   "source": [
    "# Too broad, too narrow, or o.k.?\n",
    "\n",
    "If your thesis is going to be solely based on published literature you can quickly establish whether your research question appears to be too broad or too narrow. Perform a free-text search in a specific database such as Pubmed to see how many results you receive.\n",
    "\n",
    "Consider that you are thinking about writing about something related to neonatal malaria. If you perform the following searches in the biomedical search engine Pubmed you will quickly get an idea of whether the topic is too broad or too narrow.\n",
    "\n",
    "- neonatal malaria –  perhaps too broad > 350 results\n",
    "- neonatal malaria Africa – OK approx 200 results\n",
    "- neonatal malaria Europe  – perhaps too narrow <20 results\n",
    "- neonatal malaria Philippines – too narrow < 5 results\n",
    "\n",
    "In general if your search is yielding less than 20 results your topic may be too narrow for a literature study or it may be an indication that your research is truly novel and requires that your thesis is based on empirical data.\n",
    "\n"
   ]
  }
 ],
 "metadata": {
  "kernelspec": {
   "display_name": "Python 3",
   "language": "python",
   "name": "python3"
  },
  "language_info": {
   "codemirror_mode": {
    "name": "ipython",
    "version": 3
   },
   "file_extension": ".py",
   "mimetype": "text/x-python",
   "name": "python",
   "nbconvert_exporter": "python",
   "pygments_lexer": "ipython3",
   "version": "3.7.1"
  }
 },
 "nbformat": 4,
 "nbformat_minor": 2
}
