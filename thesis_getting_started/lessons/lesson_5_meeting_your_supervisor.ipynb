{
 "cells": [
  {
   "cell_type": "markdown",
   "metadata": {},
   "source": [
    "# Overview\n",
    "\n",
    "The agenda for the first meeting with your supervisor can be structured by the synopsis. Send your synopsis in advance so that your supervisor will be able to scrutinise whether your problem formulation is novel, relevant and feasible. The supervisor will also check if there is coherence between the current knowledge (your rationale), your problem formulation, your objectives and your suggested methods.\n",
    "\n",
    "You may also expect that your supervisor will provide new knowledge or angles to your topic – and suggest additional literature. She or he may also suggest a better problem formulation, adjust your objectives and/or point at better methods for addressing your objectives. You may need to reconsider your problem formulation if your resources are insufficient to fulfil the objectives.\n",
    "\n",
    "The supervisor may have specific research interests that she or he wants your topic to fit with. You will then have to consider the possible advantages and disadvantages of choosing an angle that fits with your supervisor’s line of interests. For instance, you may receive more input from your supervisor, yet you could also risk losing your original interest for the specific topic and motivation for doing the research work.\n",
    "\n",
    "Your supervisor is your discussion partner and all supervisors have their own expectations to thesis work and thesis supervision. In order to create the best foundation for a good working relationship it is a good idea to match your expectations with that of your supervisor during the first meeting. How many times will you meet, how many times will he or she e.g. read your synopsis and what kind of comments can you expect? What does your supervisor expect of you and how ambitious are you?\n",
    "\n",
    "Students may experience that their synopsis is taken partially, or completely, apart by their supervisor. This can be very frustrating, but should be considered part of the learning experience."
   ]
  },
  {
   "cell_type": "markdown",
   "metadata": {},
   "source": [
    "# Getting started: summary\n",
    "\n",
    "If you have been through all lessons of the module Getting started you hopefully have a good overview of each step of the iterative process of designing your research project.\n",
    "\n",
    "<img src=http://betterthesis.dk/wp-content/uploads/2013/10/1-Better-thesis_getting-started3.png />\n",
    "\n",
    "1. The first steps:\n",
    "\n",
    "    1. **Explorative search:** gives you ideas for your thesis topic and helps you determine what knowledge already exists in the field. It enables you to articulate your rationale and to refine your problem formulation.\n",
    "    2. **Rationale:** describes the scientific background for your research project.\n",
    "    3. **Problem formulation:** summarizes the specific problem you are going to investigate.\n",
    "    4. **Objectives:** overall and specific – state the exact actions you will take to address your specific problem.\n",
    "    \n",
    "2. The next steps (Synopsis):\n",
    "    1. **Background:** Addresses existing knowledge and the scientific background. Includes the following:\n",
    "        - Rationale\n",
    "        - Problem formulation\n",
    "        - Overall and specific objectives\n",
    "    2. **Method outline:** What type of study will you conduct and which methods will you use to meet your objectives?\n",
    "    3. **Time plan:** Preliminary overview of deadlines for each research activity\n",
    "    4. **References:** Short list of references cited in the rationale section"
   ]
  }
 ],
 "metadata": {
  "kernelspec": {
   "display_name": "Python 3",
   "language": "python",
   "name": "python3"
  },
  "language_info": {
   "codemirror_mode": {
    "name": "ipython",
    "version": 3
   },
   "file_extension": ".py",
   "mimetype": "text/x-python",
   "name": "python",
   "nbconvert_exporter": "python",
   "pygments_lexer": "ipython3",
   "version": "3.7.1"
  }
 },
 "nbformat": 4,
 "nbformat_minor": 2
}
