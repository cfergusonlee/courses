{
 "cells": [
  {
   "cell_type": "markdown",
   "metadata": {},
   "source": [
    "# Introduction\n",
    "\n",
    "While your problem formulation serves to describe the aim of your thesis, the objectives provide an accurate description of the specific actions you will take in order to reach this aim. As with the problem formulation, the overall objective should be framed in a single sentence.\n",
    "\n",
    "- **Problem Statement:**\n",
    "    - “Is the level of knowledge on recommended nutritional practices related to the nutritional status of pregnant women attending antenatal care in Northern Uganda?”\n",
    "- **Objective:** \n",
    "    - “To analyse the association between nutritional knowledge and the nutritional status of pregnant women attending antenatal care (ANC) in Northern Uganda.“\n",
    "- **Specific Objectives:**\n",
    "    1. To assess the knowledge level among ANC attendees on the recommended nutritional practices during pregnancy\n",
    "    2. To assess the nutritional status of pregnant women attending ANC\n",
    "    3. To analyse the statistical association between nutritional knowledge level and nutritional status in pregnant women attending ANC\n",
    "\n",
    "Here you see that the overall objective states exactly how you intend to address your problem: “I want to find the answer to problem A, by completing action B”. You then have to explain or detail action B through a set of specific objectives (usually between two and four).\n",
    "\n",
    "Each specific objective consists of one infinitive sentence and should be phrased in a way that makes it possible to draw a conclusion from within the scope of the thesis."
   ]
  }
 ],
 "metadata": {
  "kernelspec": {
   "display_name": "Python 3",
   "language": "python",
   "name": "python3"
  },
  "language_info": {
   "codemirror_mode": {
    "name": "ipython",
    "version": 3
   },
   "file_extension": ".py",
   "mimetype": "text/x-python",
   "name": "python",
   "nbconvert_exporter": "python",
   "pygments_lexer": "ipython3",
   "version": "3.7.1"
  }
 },
 "nbformat": 4,
 "nbformat_minor": 2
}
