{
 "cells": [
  {
   "cell_type": "markdown",
   "metadata": {},
   "source": [
    "# What is a problem formulation?\n",
    "\n",
    "The problem formulation consists of just one sentence and should make it clear to everyone what research problem, you aim to address and to whom and where it is relevant. In other words, the problem formulation is the heart (or core) of your thesis to which you should always return if you lose track during your further research and writing process.\n",
    "\n",
    "The problem formulation is based on the rationale you reached through your explorative search and may be the first thing you write related to your thesis. The aim of a problem formulation is also to set a framework for your research and a good problem formulation is essential for completing a good study.\n",
    "\n",
    "> Example: “Is the level of knowledge on recommended nutritional practices related to the nutritional status of pregnant women attending antenatal care in Northern Uganda?”\n",
    "\n",
    "**What is the problem addressed:** Gap in evidence whether nutritional knowledge gained during antenatal care influences the nutritional status of pregnant women.\n",
    "\n",
    "**To whom and/or where is the problem relevant:** Pregnant women attending antenatal care in Northern Uganda.\n",
    "\n",
    "## The Process\n",
    "\n",
    "It is an iterative process to write a problem formulation. You might switch many times between checking the literature to see if your idea is relevant and refining the problem formulation, back to searching the literature with new ideas, etc. It takes a long time to develop a precise and specific problem formulation.\n",
    "\n",
    "In practise, writing of the final project formulation is done in interaction with your supervisor. This process is described in the lesson: “Meeting the supervisor”.\n",
    "\n",
    "When your problem formulation has taken its final form, you are ready to develop an overall research objective and a number of specific objectives stating exactly what actions will be taken in order to address your stated problem."
   ]
  }
 ],
 "metadata": {
  "kernelspec": {
   "display_name": "Python 3",
   "language": "python",
   "name": "python3"
  },
  "language_info": {
   "codemirror_mode": {
    "name": "ipython",
    "version": 3
   },
   "file_extension": ".py",
   "mimetype": "text/x-python",
   "name": "python",
   "nbconvert_exporter": "python",
   "pygments_lexer": "ipython3",
   "version": "3.7.1"
  }
 },
 "nbformat": 4,
 "nbformat_minor": 2
}
