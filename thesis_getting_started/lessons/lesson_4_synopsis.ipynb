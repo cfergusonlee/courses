{
 "cells": [
  {
   "cell_type": "markdown",
   "metadata": {},
   "source": [
    "## Overview\n",
    "\n",
    "In order to clarify your thoughts about the purpose of your thesis and how you plan to reach your research goals, you should prepare a synopsis. A synopsis is a short, systematic outline of your proposed thesis, made in preparation for your first meeting with your supervisor. It serves to ensure that your supervisor gets a clear picture of your proposed project and allows him or her to spot whether there are gaps or things that you have not taken into account.\n",
    "\n",
    "Your synopsis will work as a kind of protocol for the further steps you need to take to ensure that your thesis reaches the required academic level – and that you finish on time.\n",
    "\n",
    "## Thesis Contents\n",
    "\n",
    "### Background\n",
    "\n",
    "Set the stage by addressing the scientific background: How will your proposed research contribute to the existing body of knowledge? Use your own words and be as specific as possible.\n",
    "\n",
    "- Rationale – should address the gaps/problems/issues observed as part of the background section and thus present the argument/justification for completing the study – as described in the lesson of the same name.\n",
    "- Problem  formulation – the problem you aim to address in your thesis,as described in the lesson of the same name.\n",
    "- Overall and specific objectives – the actions to be taken in order to address the problem, as described in the lesson of the same name.\n",
    "\n",
    "### Method Outline\n",
    "\n",
    "What type of study is best suited to support the actions stated in the specific objectives? What kind of data (qualitative, quantitative) will your study require? What is your geographical study area and who is your target group(s)? Are there ethical considerations you have to make? Etc.\n",
    "\n",
    "### Time Plan\n",
    "In the beginning, a rough timeline showing a plan on how your work will be divided over time. When is your deadline for e.g. literature search, potential fieldwork (e.g. interviews and/or questionnaire administration), data analysis, writing and layout? Once your problem formulation and objectives are approved by your supervisor, all details should be added to your time plan.\n",
    "\n",
    "### References\n",
    "Create a short list of the major references on which your rationale is based. Make sure that your in-text citations and reference list are completed correctly, both in support of your subsequent work, but also to demonstrate that you have a serious, scientific and methodical approach to your work. See how to use references correctly in the lesson of the same name in the module: Writing process.\n",
    "\n",
    "## Synopsis Length\n",
    "At the beginning of your thesis period, your synopsis will be limited in scope and detail, but as you work your way deeper into your topic and you get a clearer picture of your objectives, methods and references, the more complete and detailed your synopsis will become.\n",
    "\n",
    "A rule of thumb is that the length of your synopsis can vary from two to five pages, but the precise length and exact requirements of your synopsis can vary from institute to institute and from supervisor to supervisor."
   ]
  }
 ],
 "metadata": {
  "kernelspec": {
   "display_name": "Python 3",
   "language": "python",
   "name": "python3"
  },
  "language_info": {
   "codemirror_mode": {
    "name": "ipython",
    "version": 3
   },
   "file_extension": ".py",
   "mimetype": "text/x-python",
   "name": "python",
   "nbconvert_exporter": "python",
   "pygments_lexer": "ipython3",
   "version": "3.7.1"
  }
 },
 "nbformat": 4,
 "nbformat_minor": 2
}
