{
 "cells": [
  {
   "cell_type": "markdown",
   "metadata": {},
   "source": [
    "# Introduction to Probability\n",
    "\n",
    "In probability, we make predictions about future events based on \n",
    "models or causes we assume. In statistics, we analyze the data from the past events to infer what the models or causes could be. In one, you're predicting data and in the other, you're using data to predict.\n",
    "\n",
    "<img src= '../images/Screen Shot 2019-04-30 at 7.47.31 AM.png' />\n"
   ]
  },
  {
   "cell_type": "markdown",
   "metadata": {},
   "source": [
    "# Independent Probability Conclusion\n",
    "\n",
    "### Probability\n",
    "Here you learned some fundamental rules of probability. Using notation, we could say that the outcome of a coin flip could either be T or H for the event that the coin flips tails or heads, respectively.\n",
    "\n",
    "Then the following rules are true:\n",
    "\n",
    "1. $P(H) = 0.5P(H)=0.5$\n",
    "\n",
    "1. $1 - P(H) = P(not H) = 0.51−P(H)=P(not H)=0.5$ where $not H$ is the event of anything other than heads. Since, there are only two possible outcomes, we have that $P(not H) = P(T) = 0.5.P(not H)=P(T)=0.5$. In later concepts, you will see this with the following notation: $¬H$.\n",
    "\n",
    "Across multiple coin flips, we have the probability of seeing n heads as $P(H)^{n}$. This is because these events are independent.\n",
    "We can get two generic rules from this:\n",
    "\n",
    "1. The probability of any event must be between 0 and 1, inclusive.\n",
    "\n",
    "2. The probability of the complement event is 1 minus the probability of an event. That is the probability of all other possible events is 1 minus the probability an event itself. Therefore, the sum of all possible events is equal to 1.\n",
    "\n",
    "3. If our events are independent, then the probability of the string of possible events is the product of those events. That is the probability of one event AND the next AND the next event, is the product of those events.\n",
    "\n",
    "### Looking Ahead\n",
    "You will be working with the **Binomial Distribution**, which creates a function for working with coin flip events like the first events in this lesson. These events are independent, and the above rules will hold.\n",
    "\n",
    "<img src= '../images/Screen Shot 2019-04-30 at 8.10.32 AM.png' />"
   ]
  }
 ],
 "metadata": {
  "kernelspec": {
   "display_name": "Python 3",
   "language": "python",
   "name": "python3"
  },
  "language_info": {
   "codemirror_mode": {
    "name": "ipython",
    "version": 3
   },
   "file_extension": ".py",
   "mimetype": "text/x-python",
   "name": "python",
   "nbconvert_exporter": "python",
   "pygments_lexer": "ipython3",
   "version": "3.7.1"
  }
 },
 "nbformat": 4,
 "nbformat_minor": 2
}
