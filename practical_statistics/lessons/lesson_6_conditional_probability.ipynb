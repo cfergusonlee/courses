{
 "cells": [
  {
   "cell_type": "markdown",
   "metadata": {},
   "source": [
    "# Introduction to Conditional Probability\n",
    "\n",
    "<img src='../images/Screen Shot 2019-05-05 at 3.05.52 PM.png' />\n"
   ]
  },
  {
   "cell_type": "markdown",
   "metadata": {},
   "source": [
    "# Conditional Probability Notation\n",
    "\n",
    ">$P(Positive | Cancer) = .9$ \n",
    "\n",
    "The above formula means, \"Given that a patient's test returns a positive value, the probability that he actually has cancer is 90%\".\n",
    "\n",
    "<img src='../images/Screen Shot 2019-05-05 at 3.08.22 PM.png' />\n",
    "\n",
    "<img src='../images/Screen Shot 2019-05-05 at 3.16.45 PM.png' />"
   ]
  },
  {
   "cell_type": "markdown",
   "metadata": {},
   "source": [
    "# Usefulness of Truth Tables\n",
    "\n",
    "<img src='../images/Screen Shot 2019-05-05 at 3.53.18 PM.png' />"
   ]
  },
  {
   "cell_type": "markdown",
   "metadata": {},
   "source": [
    "# Total Probability\n",
    "\n",
    "<img src='../images/Screen Shot 2019-05-05 at 3.55.09 PM.png' />"
   ]
  },
  {
   "cell_type": "markdown",
   "metadata": {},
   "source": [
    "# Truth Tables Revisited\n",
    "\n",
    "<img src='../images/Screen Shot 2019-05-05 at 3.58.49 PM.png' />\n",
    "\n",
    "<img src='../images/Screen Shot 2019-05-05 at 4.11.14 PM.png' />\n",
    "\n",
    "<img src='../images/Screen Shot 2019-05-05 at 4.15.12 PM.png' />"
   ]
  },
  {
   "cell_type": "markdown",
   "metadata": {},
   "source": [
    "# Summary\n",
    "\n",
    "## Conditional Probability\n",
    "In this lesson you learned about conditional probability. Often events are not independent like with coin flips and dice rolling. Instead, the outcome of one event depends on an earlier event.\n",
    "\n",
    "For example, the probability of obtaining a positive test result is dependent on whether or not you have a particular condition. If you have a condition, it is more likely that a test result is positive. We can formulate conditional probabilities for any two events in the following way:\n",
    "\n",
    ">$P(A|B) = \\frac{P(A \\cap B)}{P(B)}$\n",
    "\n",
    "In this case, we could have this as:\n",
    "\n",
    ">$P(positive∣disease)= \\frac{P(positive \\cap disease)}{P(disease)}$\n",
    "\n",
    "where $|$ represents \"given\" and $\\cap$ represents \"and\".\n",
    "\n",
    "## Looking Ahead\n",
    "You will get more practice with conditional probability using Bayes rule in the lesson. If you are comfortable with the examples here, the next lesson should be a breeze. And if you are still feeling a bit uncomfortable with these ideas, the next lesson should be good practice to reinforce the topics here with some more examples.\n",
    "\n",
    "<img src='../images/Screen Shot 2019-05-05 at 4.17.02 PM.png' />\n"
   ]
  }
 ],
 "metadata": {
  "kernelspec": {
   "display_name": "Python 3",
   "language": "python",
   "name": "python3"
  },
  "language_info": {
   "codemirror_mode": {
    "name": "ipython",
    "version": 3
   },
   "file_extension": ".py",
   "mimetype": "text/x-python",
   "name": "python",
   "nbconvert_exporter": "python",
   "pygments_lexer": "ipython3",
   "version": "3.7.1"
  }
 },
 "nbformat": 4,
 "nbformat_minor": 2
}
