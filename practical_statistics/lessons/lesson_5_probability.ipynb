{
 "cells": [
  {
   "cell_type": "markdown",
   "metadata": {},
   "source": [
    "# Permutations and Combinations\n",
    "\n",
    "**Permutation:** Number of arrangements where order matters. \n",
    ">Formula: $v_1*v_2*v_3...*v_n$ where $v_i$ is the number of possible values at each position.\n",
    "\n",
    "**Combination:** Number of arrangements where order doesn't matter.\n",
    ">Formula: $\\frac{n!}{k!(n-k)!}$\n",
    "\n",
    "**Binomial Probability:** \n",
    ">Formula: $P(X = x) = \\frac{n!}{k!(n-k)!} * p^k(1-p)^{(n-k)}$  where $n$ is the number of positions, $k$ is the number of outcomes and $p$ is the probability of the outcome of interest."
   ]
  }
 ],
 "metadata": {
  "kernelspec": {
   "display_name": "Python 3",
   "language": "python",
   "name": "python3"
  },
  "language_info": {
   "codemirror_mode": {
    "name": "ipython",
    "version": 3
   },
   "file_extension": ".py",
   "mimetype": "text/x-python",
   "name": "python",
   "nbconvert_exporter": "python",
   "pygments_lexer": "ipython3",
   "version": "3.7.1"
  }
 },
 "nbformat": 4,
 "nbformat_minor": 2
}
