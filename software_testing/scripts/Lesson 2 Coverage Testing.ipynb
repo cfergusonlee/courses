{
 "cells": [
  {
   "cell_type": "markdown",
   "metadata": {},
   "source": [
    "# How Much Testing is Enough\n",
    "\n",
    "<img src=\"../images/Screen Shot 2019-03-31 at 3.02.53 PM.png\" />\n"
   ]
  },
  {
   "cell_type": "markdown",
   "metadata": {},
   "source": [
    "# Partitioning the Input Domain\n",
    "\n",
    "<img src=\"../images/Screen Shot 2019-03-31 at 3.05.48 PM.png\" />\n"
   ]
  },
  {
   "cell_type": "markdown",
   "metadata": {},
   "source": [
    "# Test Coverage\n",
    "\n",
    "**Test Coverage:** measures the amount of testing performed by a set of test. It will include gathering information about which parts of a program are actually executed when running the test suite in order to determine which branches of conditional statements have been taken.\n",
    "\n",
    "<img src=\"../images/Screen Shot 2019-03-31 at 3.35.26 PM.png\" />\n",
    "\n",
    "<img src=\"../images/Screen Shot 2019-03-31 at 3.34.52 PM.png\" />\n",
    "\n",
    "<img src=\"../images/Screen Shot 2019-03-31 at 3.10.51 PM.png\" />\n",
    "\n"
   ]
  },
  {
   "cell_type": "markdown",
   "metadata": {},
   "source": [
    "# Coverage Example: Splay Tree\n",
    "\n",
    "<img src=\"../images/Screen Shot 2019-03-31 at 3.38.14 PM.png\" />\n"
   ]
  },
  {
   "cell_type": "markdown",
   "metadata": {},
   "source": [
    "# \n",
    "\n",
    "<img src=\"../images/.png\" />\n",
    "\n",
    "<img src=\"../images/.png\" />"
   ]
  },
  {
   "cell_type": "markdown",
   "metadata": {},
   "source": [
    "# \n",
    "\n",
    "<img src=\"../images/.png\" />\n",
    "\n",
    "<img src=\"../images/.png\" />"
   ]
  },
  {
   "cell_type": "markdown",
   "metadata": {},
   "source": [
    "# \n",
    "\n",
    "<img src=\"../images/.png\" />\n",
    "\n",
    "<img src=\"../images/.png\" />"
   ]
  },
  {
   "cell_type": "markdown",
   "metadata": {},
   "source": [
    "# \n",
    "\n",
    "<img src=\"../images/.png\" />\n",
    "\n",
    "<img src=\"../images/.png\" />"
   ]
  },
  {
   "cell_type": "markdown",
   "metadata": {},
   "source": [
    "# \n",
    "\n",
    "<img src=\"../images/.png\" />\n",
    "\n",
    "<img src=\"../images/.png\" />"
   ]
  },
  {
   "cell_type": "markdown",
   "metadata": {},
   "source": [
    "# \n",
    "\n",
    "<img src=\"../images/.png\" />\n",
    "\n",
    "<img src=\"../images/.png\" />"
   ]
  },
  {
   "cell_type": "markdown",
   "metadata": {},
   "source": [
    "# \n",
    "\n",
    "<img src=\"../images/.png\" />\n",
    "\n",
    "<img src=\"../images/.png\" />"
   ]
  },
  {
   "cell_type": "markdown",
   "metadata": {},
   "source": [
    "# \n",
    "\n",
    "<img src=\"../images/.png\" />\n",
    "\n",
    "<img src=\"../images/.png\" />"
   ]
  },
  {
   "cell_type": "markdown",
   "metadata": {},
   "source": [
    "# \n",
    "\n",
    "<img src=\"../images/.png\" />\n",
    "\n",
    "<img src=\"../images/.png\" />"
   ]
  },
  {
   "cell_type": "markdown",
   "metadata": {},
   "source": [
    "# \n",
    "\n",
    "<img src=\"../images/.png\" />\n",
    "\n",
    "<img src=\"../images/.png\" />"
   ]
  },
  {
   "cell_type": "markdown",
   "metadata": {},
   "source": [
    "# \n",
    "\n",
    "<img src=\"../images/.png\" />\n",
    "\n",
    "<img src=\"../images/.png\" />"
   ]
  },
  {
   "cell_type": "markdown",
   "metadata": {},
   "source": [
    "# \n",
    "\n",
    "<img src=\"../images/.png\" />\n",
    "\n",
    "<img src=\"../images/.png\" />"
   ]
  },
  {
   "cell_type": "markdown",
   "metadata": {},
   "source": [
    "# \n",
    "\n",
    "<img src=\"../images/.png\" />\n",
    "\n",
    "<img src=\"../images/.png\" />"
   ]
  },
  {
   "cell_type": "markdown",
   "metadata": {},
   "source": [
    "# \n",
    "\n",
    "<img src=\"../images/.png\" />\n",
    "\n",
    "<img src=\"../images/.png\" />"
   ]
  },
  {
   "cell_type": "markdown",
   "metadata": {},
   "source": [
    "# \n",
    "\n",
    "<img src=\"../images/.png\" />\n",
    "\n",
    "<img src=\"../images/.png\" />"
   ]
  },
  {
   "cell_type": "markdown",
   "metadata": {},
   "source": [
    "# \n",
    "\n",
    "<img src=\"../images/.png\" />\n",
    "\n",
    "<img src=\"../images/.png\" />"
   ]
  },
  {
   "cell_type": "markdown",
   "metadata": {},
   "source": [
    "# \n",
    "\n",
    "<img src=\"../images/.png\" />\n",
    "\n",
    "<img src=\"../images/.png\" />"
   ]
  },
  {
   "cell_type": "markdown",
   "metadata": {},
   "source": [
    "# \n",
    "\n",
    "<img src=\"../images/.png\" />\n",
    "\n",
    "<img src=\"../images/.png\" />"
   ]
  },
  {
   "cell_type": "markdown",
   "metadata": {},
   "source": [
    "# \n",
    "\n",
    "<img src=\"../images/.png\" />\n",
    "\n",
    "<img src=\"../images/.png\" />"
   ]
  },
  {
   "cell_type": "code",
   "execution_count": null,
   "metadata": {},
   "outputs": [],
   "source": []
  }
 ],
 "metadata": {
  "kernelspec": {
   "display_name": "Python [conda env:py27]",
   "language": "python",
   "name": "conda-env-py27-py"
  },
  "language_info": {
   "codemirror_mode": {
    "name": "ipython",
    "version": 2
   },
   "file_extension": ".py",
   "mimetype": "text/x-python",
   "name": "python",
   "nbconvert_exporter": "python",
   "pygments_lexer": "ipython2",
   "version": "2.7.15"
  }
 },
 "nbformat": 4,
 "nbformat_minor": 2
}
