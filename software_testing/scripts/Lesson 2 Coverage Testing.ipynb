{
 "cells": [
  {
   "cell_type": "markdown",
   "metadata": {},
   "source": [
    "# How Much Testing is Enough\n",
    "\n",
    "<img src=\"../images/Screen Shot 2019-03-31 at 3.02.53 PM.png\" />\n"
   ]
  },
  {
   "cell_type": "markdown",
   "metadata": {},
   "source": [
    "# Partitioning the Input Domain\n",
    "\n",
    "<img src=\"../images/Screen Shot 2019-03-31 at 3.05.48 PM.png\" />\n"
   ]
  },
  {
   "cell_type": "markdown",
   "metadata": {},
   "source": [
    "# Test Coverage\n",
    "\n",
    "**Test Coverage:** measures the amount of testing performed by a set of tests. It will include gathering information about which parts of a program are actually executed when running the test suite in order to determine which branches of conditional statements have been taken.\n",
    "\n",
    "<img src=\"../images/Screen Shot 2019-03-31 at 3.35.26 PM.png\" />\n",
    "\n",
    "<img src=\"../images/Screen Shot 2019-03-31 at 3.34.52 PM.png\" />\n",
    "\n",
    "<img src=\"../images/Screen Shot 2019-03-31 at 3.10.51 PM.png\" />\n",
    "\n"
   ]
  },
  {
   "cell_type": "markdown",
   "metadata": {},
   "source": [
    "# Coverage Example: Splay Tree\n",
    "\n",
    "<img src=\"../images/Screen Shot 2019-03-31 at 3.38.14 PM.png\" />\n"
   ]
  },
  {
   "cell_type": "markdown",
   "metadata": {},
   "source": [
    "# Splay Tree Issues\n",
    "\n",
    "Splay trees that are not properly balanced lose their log lookup time efficiency. The implementation we're using self-balances by moving items that are searched for frequently to the root of the tree, pushing the old root down.\n",
    "\n",
    "<img src=\"../images/Screen Shot 2019-04-02 at 10.41.42 AM.png\" />"
   ]
  },
  {
   "cell_type": "markdown",
   "metadata": {},
   "source": [
    "# Improving Coverage\n",
    "\n",
    "**Profiling:** a form of dynamic program analysis that measures, for example, the space (memory) or time complexity of a program, the usage of particular instructions, or the frequency and duration of function calls. Most commonly, profiling information serves to aid program optimization.\n"
   ]
  },
  {
   "cell_type": "markdown",
   "metadata": {},
   "source": [
    "# Coverage Metrics\n",
    "\n",
    "Although over 100 coverage metrics have been identified, you should restrict your scope to the following for practicality:\n",
    "\n",
    "- **Statement (Line) Coverage:** measures how many statements you took (a statement is usually a line of code, not including comments, conditionals, etc)\n",
    "- **Branch Coverage:** a requirement that, for each branch in the program (e.g., if statements, loops), each branch have been executed at least once during testing.\n",
    "\n",
    "<img src=\"../images/Screen Shot 2019-04-02 at 12.46.10 PM.png\" />\n",
    "\n",
    "<img src=\"../images/Screen Shot 2019-04-02 at 12.46.34 PM.png\" />\n",
    "\n",
    "<img src=\"../images/Screen Shot 2019-04-02 at 12.46.53 PM.png\" />"
   ]
  },
  {
   "cell_type": "markdown",
   "metadata": {},
   "source": [
    "# Branch Coverage\n",
    "\n",
    "**Branch Coverage:** a requirement that, for each branch in the program (e.g., if statements, loops), each branch have been executed at least once during testing.\n",
    "\n",
    "<img src=\"../images/Screen Shot 2019-04-02 at 12.59.04 PM.png\" />\n"
   ]
  },
  {
   "cell_type": "markdown",
   "metadata": {},
   "source": [
    "# Other Coverage Metrics\n",
    "\n",
    "In addition to the metrics above, we also have:\n",
    "\n",
    "- **Loop Coverage:** Has every possible loop been executed zero times, once, and more than once?\n",
    "\n",
    "- **Modified Condition / Decision Coverage:** coverage that satisfies all of the following criteria:\n",
    "  - Each entry and exit point is invoked\n",
    "  - Each decision takes every possible outcome\n",
    "  - Each condition in a decision takes every possible outcome\n",
    "  - Each condition in a decision is shown to independently affect the outcome of the decision.\n",
    "\n",
    "- **Condition:** Each variable within each decision (if/else) statement.\n",
    "\n",
    "<img src=\"../images/Screen Shot 2019-04-02 at 1.28.40 PM.png\" />"
   ]
  },
  {
   "cell_type": "markdown",
   "metadata": {},
   "source": [
    "# Mc Dc Coverage\n",
    "\n",
    "<img src=\"../images/Screen Shot 2019-04-02 at 2.00.31 PM.png\" />\n"
   ]
  },
  {
   "cell_type": "markdown",
   "metadata": {},
   "source": [
    "# Path Coverage\n",
    "\n",
    "**Path Coverage:** designing test cases such that all linearly independent paths in the program are executed at least once. A linearly independent path can be defined in terms of what's called a control flow graph of an application.\n",
    "\n",
    "<img src=\"../images/Screen Shot 2019-04-02 at 2.20.26 PM.png\" />\n"
   ]
  },
  {
   "cell_type": "markdown",
   "metadata": {},
   "source": [
    "# Boundary Value Coverage\n",
    "\n",
    "If we only have one variable to test, we only need to check for off-by-one errors around the boundary.\n",
    "\n",
    "<img src=\"../images/Screen Shot 2019-04-02 at 2.28.55 PM.png\" />\n",
    "\n",
    "If there's more than one variable, however; we have to consider whether they're independent. If they are, we can choose an arbitrary number for one while testing the boundary for the other and vice-versa. Otherwise, we will need to consider cases that are close to the boundaries of all variables under consideration.\n",
    "\n",
    "<img src=\"../images/Screen Shot 2019-04-02 at 2.30.01 PM.png\" />"
   ]
  },
  {
   "cell_type": "markdown",
   "metadata": {},
   "source": [
    "# Concurrent Software\n",
    "\n",
    "Concurrent software by definition needs to be able to function properly when more than one action takes place simultaneously.\n",
    "\n",
    "**Interleaving Coverage:** tests multi-threaded software by ensuring multiple threads are actually able to function simultaneously.\n",
    "\n",
    "**Synchronization Coverage:** tests multi-threaded software by ensuring locking mechanisms function properly when more than one thread performs the same action at the same time.\n",
    "\n",
    "<img src=\"../images/Screen Shot 2019-04-02 at 2.38.28 PM.png\" />\n",
    "\n",
    "<img src=\"../images/Screen Shot 2019-04-02 at 2.45.05 PM.png\" />\n",
    "\n"
   ]
  },
  {
   "cell_type": "markdown",
   "metadata": {},
   "source": [
    "# When Coverage Doesnt Work\n",
    "\n",
    "One domain test coverage doesn't cover well involves errors of omission. If we've partitioned the input domain and tested for errors we've anticipated, it's still possible that there may be parts of the domain we haven't checked. For instance, if we haven't tested what happens when the disk is full, we won't know how our code behaves under that condition. In addition, code that doesn't get covered includes:\n",
    "\n",
    "1. **Infeasible Code:** includes code that cannot be run under any condition. For instance, conditions that throw assertion errors should not be included.\n",
    "2. **Code not worth Covering:** includes conditions that may be tested elsewhere.\n",
    "3. **Inadequate Test Suite:** if we decide it's worth it to ship our software with less than 100% code coverage, we may have good reason to do so due to a low cost-benefit ratio.\n",
    "\n",
    "<img src=\"../images/Screen Shot 2019-04-02 at 5.06.17 PM.png\" />\n"
   ]
  },
  {
   "cell_type": "markdown",
   "metadata": {},
   "source": [
    "# SQLite\n",
    "\n",
    "SQLite is an example of software testing done right. The author went the extra mile because SQLite is used by an extremely wide variety of services, including:\n",
    "- Airbus\n",
    "- Dropbox\n",
    "- Android\n",
    "- ...\n",
    "\n",
    "<img src=\"../images/Screen Shot 2019-04-02 at 5.10.33 PM.png\" />\n"
   ]
  },
  {
   "cell_type": "markdown",
   "metadata": {},
   "source": [
    "# Automated Whitebox Testing\n",
    "\n",
    "<img src=\"../images/Screen Shot 2019-04-02 at 5.16.46 PM.png\" />\n"
   ]
  },
  {
   "cell_type": "markdown",
   "metadata": {},
   "source": [
    "# How to Use Coverage\n",
    "\n",
    "<img src=\"../images/Screen Shot 2019-04-02 at 5.20.08 PM.png\" />\n"
   ]
  }
 ],
 "metadata": {
  "kernelspec": {
   "display_name": "Python [conda env:py27]",
   "language": "python",
   "name": "conda-env-py27-py"
  },
  "language_info": {
   "codemirror_mode": {
    "name": "ipython",
    "version": 2
   },
   "file_extension": ".py",
   "mimetype": "text/x-python",
   "name": "python",
   "nbconvert_exporter": "python",
   "pygments_lexer": "ipython2",
   "version": "2.7.15"
  }
 },
 "nbformat": 4,
 "nbformat_minor": 2
}
