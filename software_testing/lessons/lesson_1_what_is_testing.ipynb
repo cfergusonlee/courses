{
 "cells": [
  {
   "cell_type": "markdown",
   "metadata": {},
   "source": [
    "# What is Testing?\n",
    "\n",
    "<img src=\"../images/Screen Shot 2019-03-22 at 3.39.35 PM.png\" />"
   ]
  },
  {
   "cell_type": "markdown",
   "metadata": {},
   "source": [
    "# What Happens When We Test Software\n",
    "\n",
    "<img src=\"../images/Screen Shot 2019-03-23 at 11.51.00 AM.png\" />"
   ]
  },
  {
   "cell_type": "markdown",
   "metadata": {},
   "source": [
    "# Mars Climate Orbiter\n",
    "\n",
    "<img src=\"../images/Screen Shot 2019-03-23 at 12.07.26 PM.png\" />"
   ]
  },
  {
   "cell_type": "markdown",
   "metadata": {},
   "source": [
    "# Fixed-Size Queue\n",
    "\n",
    "<img src=\"../images/Screen Shot 2019-03-23 at 12.08.35 PM.png\" />"
   ]
  },
  {
   "cell_type": "markdown",
   "metadata": {},
   "source": [
    "# What We Learn From a Test\n",
    "\n",
    "<img src=\"../images/Screen Shot 2019-03-23 at 12.21.50 PM.png\" />\n"
   ]
  },
  {
   "cell_type": "markdown",
   "metadata": {},
   "source": [
    "# Equivalent Tests\n",
    "\n",
    "When designing tests, we want to identify any assumptions we may have about our code and break them down as objectively as possible. A single test case represents a point in the input space that we're testing. The results of this test case can generalize to a subset of the input space. Good testing will increase our generalizatbility from a small subset to the majority of the input space. It takes critical thinking, however; to come up with enough test cases to fill this space properly.\n",
    "\n",
    "<img src=\"../images/Screen Shot 2019-03-23 at 2.50.57 PM.png\" />\n",
    "\n",
    "It's also probably a good idea to group tests based on the functionality being tested and printing a helpful error message when possible. For instance, we could create multiple tests within each test, but have each test only check one facet. The first test could check large and small values, the second test could check head wraparound functionality, the third could check tail wraparound functionality, etc. In the first exercise, they stuck to generic \"test1 OK\" and \"test2 NOT OK\" messages which required a bit of parsing to figure out what exactly went wrong. Let's see how they address this to keep things organized. "
   ]
  },
  {
   "cell_type": "markdown",
   "metadata": {},
   "source": [
    "The following block adds two new tests that validate functionality not covered by the first test. The `test2` function checks the following features:\n",
    "\n",
    "- `full()` returns True and False appropriately\n",
    "- Whether an item can be added to a full queue\n",
    "- Tail wraparound functionality\n",
    "- Head wraparound functionality\n",
    "- Negative number in queue\n",
    "- Large number in queue\n",
    "\n",
    "The `test3` function checks whether an empty queue can be dequeued."
   ]
  },
  {
   "cell_type": "code",
   "execution_count": 5,
   "metadata": {},
   "outputs": [
    {
     "name": "stdout",
     "output_type": "stream",
     "text": [
      "test1 OK\n",
      "test2 OK\n",
      "test3 OK\n"
     ]
    }
   ],
   "source": [
    "# CORRECT SPECIFICATION:\n",
    "#\n",
    "# the Queue class provides a fized-size FIFO queue of integers\n",
    "#\n",
    "# the constructor takes a single parameter: an integer >0 that\n",
    "# is the maximum number of elements the queue can hold\n",
    "#\n",
    "# empty() returns True iff the queue holds no elements\n",
    "#\n",
    "# full() returns True iff the queue cannot hold any more elements\n",
    "#\n",
    "# enqueue(i) attempts to put the integer i into the queue; it returns\n",
    "# True if successful and False if the queue is full\n",
    "#\n",
    "# dequeue() removes an integer from the queue and returns it,\n",
    "# or else returns None if the queue is empty\n",
    "\n",
    "import array\n",
    "\n",
    "class Queue:\n",
    "    def __init__(self,size_max):\n",
    "        assert size_max > 0\n",
    "        self.max = size_max\n",
    "        self.head = 0\n",
    "        self.tail = 0\n",
    "        self.size = 0\n",
    "        self.data = array.array('i', range(size_max))\n",
    "\n",
    "    def empty(self):\n",
    "        return self.size == 0\n",
    "\n",
    "    def full(self):\n",
    "        return self.size == self.max\n",
    "\n",
    "    def enqueue(self,x):\n",
    "        if self.size == self.max:\n",
    "            return False\n",
    "        self.data[self.tail] = x\n",
    "        self.size += 1\n",
    "        self.tail += 1\n",
    "        if self.tail == self.max:\n",
    "            self.tail = 0\n",
    "        return True\n",
    "\n",
    "    def dequeue(self):\n",
    "        if self.size == 0:\n",
    "            return None\n",
    "        x = self.data[self.head]\n",
    "        self.size -= 1\n",
    "        self.head += 1\n",
    "        if self.head == self.max:\n",
    "            self.head = 0\n",
    "        return x\n",
    "\n",
    "\n",
    "def test1():\n",
    "    q = Queue(3)\n",
    "    res = q.empty()\n",
    "    if not res:\n",
    "        print \"test1 NOT OK\"\n",
    "        return\n",
    "    res = q.enqueue(10)\n",
    "    if not res:\n",
    "        print \"test1 NOT OK\"\n",
    "        return\n",
    "    res = q.enqueue(11)\n",
    "    if not res:\n",
    "        print \"test1 NOT OK\"\n",
    "        return\n",
    "    x = q.dequeue()\n",
    "    if x != 10:\n",
    "        print \"test1 NOT OK\"\n",
    "        return\n",
    "    x = q.dequeue()\n",
    "    if x != 11:\n",
    "        print \"test1 NOT OK\"\n",
    "        return\n",
    "    res = q.empty()\n",
    "    if not res:\n",
    "        print \"test1 NOT OK\"\n",
    "        return\n",
    "    print \"test1 OK\"\n",
    "\n",
    "def test2():\n",
    "    ###Your code here.\n",
    "    # full == True\n",
    "    # Enqueue items to fill up queue, dequeue an item,\n",
    "    # enqueue an item and test:\n",
    "        # tail is at 0\n",
    "        # dequeue an item and make sure it's the appropriate item\n",
    "        # head is at 0\n",
    "    # enqueue == False\n",
    "    # dequeue is None\n",
    "    q = Queue(2)\n",
    "    q.enqueue(-4)\n",
    "    \n",
    "    # Test full (True and False)\n",
    "    res = q.full()\n",
    "    if res:\n",
    "        print \"test2 NOT OK\"\n",
    "        return\n",
    "    \n",
    "    q.enqueue(1000000)\n",
    "    res = q.full()\n",
    "    if not res:\n",
    "        print \"test2 NOT OK\"\n",
    "        return\n",
    "    \n",
    "    # Test adding an item to a full queue\n",
    "    res = q.enqueue(5)\n",
    "    if res:\n",
    "        print \"test2 NOT OK\"\n",
    "        return\n",
    "    \n",
    "    # Test tail wraparound\n",
    "    res = q.tail\n",
    "    if res != 0:\n",
    "        print \"test2 NOT OK\"\n",
    "        return\n",
    "    \n",
    "    # Test negative number in queue\n",
    "    x = q.dequeue()\n",
    "    if x != -4:\n",
    "        print \"test2 NOT OK\"\n",
    "        return\n",
    "    \n",
    "    # Test large number in queue\n",
    "    x = q.dequeue()\n",
    "    if x != 1000000:\n",
    "        print \"test2 NOT OK\"\n",
    "        return\n",
    "    \n",
    "    # Test head wraparound\n",
    "    res = q.head\n",
    "    if res != 0:\n",
    "        print \"test2 NOT OK\"\n",
    "        return\n",
    "    \n",
    "    print \"test2 OK\"\n",
    "\n",
    "def test3():\n",
    "    ###Your code here.\n",
    "    # Enqueue, then dequeue an item, then test:\n",
    "        # Dequeue an item on empty queue and make sure it returns None\n",
    "    q = Queue(2)\n",
    "    q.enqueue(1)\n",
    "    q.dequeue()\n",
    "    res = q.dequeue()\n",
    "    if res:\n",
    "        print \"test3 NOT OK\"\n",
    "        return\n",
    "        \n",
    "    print \"test3 OK\"\n",
    "    \n",
    "test1()\n",
    "test2()\n",
    "test3()"
   ]
  },
  {
   "cell_type": "markdown",
   "metadata": {},
   "source": [
    "# Assertions\n",
    "\n",
    "Assertions can be used for sanity checking at the end of a function, but they are not meant to be used for error handling at the beginning of a function. That should be reserved for exceptions.\n",
    "\n",
    "<img src=\"../images/Screen Shot 2019-03-25 at 2.06.20 PM.png\" />\n"
   ]
  },
  {
   "cell_type": "code",
   "execution_count": 1,
   "metadata": {},
   "outputs": [],
   "source": [
    "# CORRECT SPECIFICATION:\n",
    "#\n",
    "# the Queue class provides a fized-size FIFO queue of integers\n",
    "#\n",
    "# the constructor takes a single parameter: an integer >0 that\n",
    "# is the maximum number of elements the queue can hold\n",
    "#\n",
    "# empty() returns True iff the queue holds no elements\n",
    "#\n",
    "# full() returns True iff the queue cannot hold any more elements\n",
    "#\n",
    "# enqueue(i) attempts to put the integer i into the queue; it returns\n",
    "# True if successful and False if the queue is full\n",
    "#\n",
    "# dequeue() removes an integer from the queue and returns it,\n",
    "# or else returns None if the queue is empty\n",
    "\n",
    "import array\n",
    "\n",
    "class Queue:\n",
    "    def __init__(self,size_max):\n",
    "        assert size_max > 0\n",
    "        self.max = size_max\n",
    "        self.head = 0\n",
    "        self.tail = 0\n",
    "        self.size = 0\n",
    "        self.data = array.array('i', range(size_max))\n",
    "\n",
    "    def empty(self):\n",
    "        return self.size == 0\n",
    "\n",
    "    def full(self):\n",
    "        return self.size == self.max\n",
    "\n",
    "    def enqueue(self,x):\n",
    "        if self.size == self.max:\n",
    "            return False\n",
    "        self.data[self.tail] = x\n",
    "        self.size += 1\n",
    "        self.tail += 1\n",
    "        if self.tail == self.max:\n",
    "            self.tail = 0\n",
    "        return True\n",
    "\n",
    "    def dequeue(self):\n",
    "        if self.size == 0:\n",
    "            return None\n",
    "        x = self.data[self.head]\n",
    "        self.size -= 1\n",
    "        self.head += 1\n",
    "        if self.head == self.max:\n",
    "            self.head = 0\n",
    "        return x\n",
    "\n",
    "    def checkRep(self):\n",
    "        assert self.size >= 0 and self.size <= self.max\n",
    "        ###Your code here.\n",
    "        assert not (self.size == self.max and self.tail != 0)\n",
    "        return\n",
    "\n"
   ]
  },
  {
   "cell_type": "code",
   "execution_count": 11,
   "metadata": {},
   "outputs": [
    {
     "data": {
      "text/plain": [
       "False"
      ]
     },
     "execution_count": 11,
     "metadata": {},
     "output_type": "execute_result"
    }
   ],
   "source": [
    "0 is False"
   ]
  },
  {
   "cell_type": "markdown",
   "metadata": {},
   "source": [
    "# Why Assertions\n",
    "\n",
    "<img src=\"../images/Screen Shot 2019-03-25 at 2.53.03 PM.png\" />\n"
   ]
  },
  {
   "cell_type": "markdown",
   "metadata": {},
   "source": [
    "# Are Assertions Used in Production\n",
    "\n",
    "<img src=\"../images/Screen Shot 2019-03-25 at 2.59.37 PM.png\" />"
   ]
  },
  {
   "cell_type": "markdown",
   "metadata": {},
   "source": [
    "# Disabling Assertions\n",
    "\n",
    "<img src=\"../images/Screen Shot 2019-03-25 at 3.02.11 PM.png\" />"
   ]
  },
  {
   "cell_type": "markdown",
   "metadata": {},
   "source": [
    "# When to Use Assertions\n",
    "\n",
    "<img src=\"../images/Screen Shot 2019-03-25 at 3.03.57 PM.png\" />\n",
    "\n",
    "<img src=\"../images/Screen Shot 2019-03-25 at 3.03.33 PM.png\" />"
   ]
  },
  {
   "cell_type": "markdown",
   "metadata": {},
   "source": [
    "# Domains and Ranges\n",
    "\n",
    "When writing our testing specification, it's possible to generate more than one reasonable but misaligned perspective. For instance, when documenting the square root function, we may consider the math domain and range (real and complex, respectively), while the compiler's domain and range (floating point and floating point unioned with exceptions) would be more appropriate.\n",
    "\n",
    "<img src=\"../images/Screen Shot 2019-03-27 at 8.43.32 AM.png\" />\n",
    "\n"
   ]
  },
  {
   "cell_type": "markdown",
   "metadata": {},
   "source": [
    "# Good Test Cases\n",
    "\n",
    "When writing test cases, we want to include valid and invalid inputs because there's no way to know what sort of values the user will pass to our function.\n",
    "\n",
    "<img src=\"../images/Screen Shot 2019-03-27 at 9.03.43 AM.png\" />\n",
    "\n",
    "<img src=\"../images/Screen Shot 2019-03-27 at 9.04.35 AM.png\" />"
   ]
  },
  {
   "cell_type": "markdown",
   "metadata": {},
   "source": [
    "# Crashme\n",
    "\n",
    "Whenever we have an interface that takes inputs from users, we have to test it on the full range of representable values. People are often not very good at this because there's always something that the software tester didn't think of that the user did.\n",
    "\n",
    "<img src=\"../images/Screen Shot 2019-03-28 at 3.48.29 PM.png\" />\n",
    "\n",
    "<img src=\"../images/Screen Shot 2019-03-28 at 3.48.06 PM.png\" />"
   ]
  },
  {
   "cell_type": "markdown",
   "metadata": {},
   "source": [
    "# Trust Relationships\n",
    "\n",
    "<img src=\"../images/Screen Shot 2019-03-28 at 3.57.15 PM.png\" />"
   ]
  },
  {
   "cell_type": "markdown",
   "metadata": {},
   "source": [
    "# Fault Injection\n",
    "\n",
    "For fault injection, we are trying to use defensive coding to guard our function against harmful inputs. We want to test our program using the simplest interface possible. We also want to limit the domain of inputs because we want the program to succeed some proportion of the time.\n",
    "\n",
    "<img src=\"../images/Screen Shot 2019-03-28 at 4.09.44 PM.png\" />\n"
   ]
  },
  {
   "cell_type": "markdown",
   "metadata": {},
   "source": [
    "# Timing Dependent Problems\n",
    "\n",
    "Timing matters for certain types of inputs. If the input is a web page and the data is scattered over a long period of time, it may result in a timeout. If you are accessing data from an API, and wait too long, the credentials may expire.\n",
    "\n",
    "<img src=\"../images/Screen Shot 2019-03-28 at 4.54.20 PM.png\" />\n"
   ]
  },
  {
   "cell_type": "markdown",
   "metadata": {},
   "source": [
    "# Therac 25\n",
    "\n",
    "**Race Condition:** An undesirable situation that occurs when a device or system attempts to perform two or more operations at the same time, but because of the nature of the device or system, the operations must be done in the proper sequence to be done correctly.\n",
    "\n",
    "Be careful with global variables. There's a reason for encapsulation. Changing one in one part of the program can have unforseen consequences in another part of the program.\n",
    "\n",
    "<img src=\"../images/Screen Shot 2019-03-29 at 11.07.03 AM.png\" />\n"
   ]
  },
  {
   "cell_type": "markdown",
   "metadata": {},
   "source": [
    "# Testing Timing\n",
    "\n",
    "<img src=\"../images/Screen Shot 2019-03-29 at 11.32.12 AM.png\" />\n"
   ]
  },
  {
   "cell_type": "markdown",
   "metadata": {},
   "source": [
    "# Non-Functional Inputs\n",
    "\n",
    "**Context Switches:** \n",
    "\n",
    "<img src=\"../images/Screen Shot 2019-03-29 at 11.42.39 AM.png\" />\n"
   ]
  },
  {
   "cell_type": "markdown",
   "metadata": {},
   "source": [
    "# Testing Survey\n",
    "\n",
    "<img src=\"../images/Screen Shot 2019-03-29 at 11.57.13 AM.png\" />"
   ]
  },
  {
   "cell_type": "markdown",
   "metadata": {},
   "source": [
    "# White- vs Black-Box Testing\n",
    "\n",
    "**White-box testing:** testing method in which the internal structure/design/implementation of the item being tested is known to the tester.\n",
    "\n",
    "**Black-box testing:** testing method in which the internal structure/design/implementation of the item being tested is not known to the tester.\n"
   ]
  },
  {
   "cell_type": "markdown",
   "metadata": {},
   "source": [
    "# Unit Testing\n",
    "\n",
    "**Unit Testing:** testing where individual units/ components of a software are tested. The purpose is to validate that each unit of the software performs as designed. A unit is the smallest testable part of any software. It usually has one or a few inputs and usually a single output."
   ]
  },
  {
   "cell_type": "markdown",
   "metadata": {},
   "source": [
    "# Integration Testing\n",
    "\n",
    "**Integration Testing:** testing where individual units are combined and tested as a group. The purpose of this level of testing is to expose faults in the interaction between integrated units. Test drivers and test stubs are used to assist in Integration Testing."
   ]
  },
  {
   "cell_type": "markdown",
   "metadata": {},
   "source": [
    "# System Testing\n",
    "\n",
    "**System Testing:** testing where a complete and integrated software is tested. The purpose of this test is to evaluate the system's compliance with the specified requirements. Definition by ISTQB."
   ]
  },
  {
   "cell_type": "markdown",
   "metadata": {},
   "source": [
    "# Differential Testing\n",
    "\n",
    "**Differential Testing:** attempts to detect bugs, by providing the same input to a series of similar applications (or to different implementations of the same application), and observing differences in their execution."
   ]
  },
  {
   "cell_type": "markdown",
   "metadata": {},
   "source": [
    "# Stress Testing\n",
    "\n",
    "**Stress Testing:** determines the robustness of software by testing beyond the limits of normal operation. Stress testing is particularly important for \"mission critical\" software, but is used for all types of software."
   ]
  },
  {
   "cell_type": "markdown",
   "metadata": {},
   "source": [
    "# Random Testing\n",
    "\n",
    "**Random Testing:** testing technique where programs are tested by generating random, independent inputs. Results of the output are compared against software specifications to verify that the test output is pass or fail."
   ]
  },
  {
   "cell_type": "markdown",
   "metadata": {},
   "source": [
    "# Being Great at Testing\n",
    "\n",
    "<img src=\"../images/Screen Shot 2019-03-29 at 12.07.00 PM.png\" />\n",
    "\n",
    "<img src=\"../images/Screen Shot 2019-03-29 at 12.08.21 PM.png\" />"
   ]
  },
  {
   "cell_type": "markdown",
   "metadata": {},
   "source": [
    "# Blackbox Testing"
   ]
  },
  {
   "cell_type": "code",
   "execution_count": null,
   "metadata": {},
   "outputs": [],
   "source": [
    "# CORRECT SPECIFICATION:\n",
    "#\n",
    "# the Queue class provides a fixed-size FIFO queue of integers\n",
    "#\n",
    "# the constructor takes a single parameter: an integer > 0 that\n",
    "# is the maximum number of elements the queue can hold.\n",
    "#\n",
    "# empty() returns True if and only if the queue currently \n",
    "# holds no elements, and False otherwise.\n",
    "#\n",
    "# full() returns True if and only if the queue cannot hold \n",
    "# any more elements, and False otherwise.\n",
    "#\n",
    "# enqueue(i) attempts to put the integer i into the queue; it returns\n",
    "# True if successful and False if the queue is full.\n",
    "#\n",
    "# dequeue() removes an integer from the queue and returns it,\n",
    "# or else returns None if the queue is empty.\n",
    "#\n",
    "# Example:\n",
    "# q = Queue(1)\n",
    "# is_empty = q.empty()\n",
    "# succeeded = q.enqueue(10)\n",
    "# is_full = q.full()\n",
    "# value = q.dequeue()\n",
    "#\n",
    "# 1. Should create a Queue q that can only hold 1 element\n",
    "# 2. Should then check whether q is empty, which should return True\n",
    "# 3. Should attempt to put 10 into the queue, and return True\n",
    "# 4. Should check whether q is now full, which should return True\n",
    "# 5. Should attempt to dequeue and put the result into value, which \n",
    "#    should be 10\n",
    "#\n",
    "# Your test function should run assertion checks and throw an \n",
    "# AssertionError for each of the 5 incorrect Queues. Pressing \n",
    "# submit will tell you how many you successfully catch so far.\n",
    "\n",
    "\n",
    "from queue_test import *\n",
    "from time import sleep\n",
    "\n",
    "def test1():\n",
    "    # Unit Testing\n",
    "    \n",
    "    # Test constructor parameters\n",
    "    try:\n",
    "        q = Queue(0)\n",
    "        q.enqueue(10)\n",
    "        assert False\n",
    "    except:\n",
    "        assert True\n",
    "    \n",
    "    try:\n",
    "        q = Queue(-1)\n",
    "        q.enqueue(10)\n",
    "        assert False\n",
    "    except:\n",
    "        assert True\n",
    "        \n",
    "    # Test empty, full, dequeue() and enqueue()\n",
    "    q = Queue(3)\n",
    "    \n",
    "    # Check whether empty queue shows as empty\n",
    "    assert q.empty() is True\n",
    "    \n",
    "    # Check whether empty queue shows as full\n",
    "    assert q.full() is False\n",
    "    \n",
    "    # Check whether element can be added to empty queue\n",
    "    # Check whether partially-filled queue shows as empty\n",
    "    # Check whether partially-filled queue shows as full\n",
    "    res = q.enqueue(1000000)\n",
    "    #sleep(2)\n",
    "    assert res is True\n",
    "    assert q.empty() is False\n",
    "    assert q.full() is False\n",
    "    \n",
    "    # Check whether element can be added to partially-filled queue\n",
    "    # Check whether full queue shows as empty\n",
    "    # Check whether full queue shows as full\n",
    "    res = q.enqueue(-1000)\n",
    "    assert res is True\n",
    "    assert q.empty() is False\n",
    "    assert q.full() is False\n",
    "    \n",
    "    # Check whether element can be added to partially-filled queue\n",
    "    # Check whether full queue shows as empty\n",
    "    # Check whether full queue shows as full\n",
    "    res = q.enqueue(0)\n",
    "    assert res is True\n",
    "    assert q.empty() is False\n",
    "    assert q.full() is True\n",
    "    \n",
    "    # Check whether element can be added to a full queue\n",
    "    # Check whether adding an element to a full queue changes it to empty\n",
    "    # Check whether adding an element to a full queue changes full status\n",
    "    res = q.enqueue(3)\n",
    "    assert res is False\n",
    "    assert q.empty() is False\n",
    "    assert q.full() is True\n",
    "    \n",
    "    # Check whether elements are dequeued in correct order\n",
    "    # Check whether removing an element from a full queue changes it to empty\n",
    "    # Check whether removing an element from a full queue changes full status\n",
    "    res = q.dequeue()\n",
    "    #sleep(1)\n",
    "    assert res == 1000000\n",
    "    assert q.empty() is False\n",
    "    assert q.full() is False\n",
    "    \n",
    "    # Check whether elements are dequeued in correct order\n",
    "    # Check whether removing an element from a partially-filled queue changes it to empty\n",
    "    # Check whether removing an element from a partially-filled queue changes full status\n",
    "    res = q.dequeue()\n",
    "    assert res == -1000\n",
    "    assert q.empty() is False\n",
    "    assert q.full() is False\n",
    "    \n",
    "    # Check whether elements are dequeued in correct order\n",
    "    # Check whether removing an element from a partially-filled queue changes it to empty\n",
    "    # Check whether removing an element from a partially-filled queue changes full status\n",
    "    res = q.dequeue()\n",
    "    assert res == 0\n",
    "    assert q.empty() is True\n",
    "    assert q.full() is False\n",
    "    \n",
    "    # Check whether an empty queue can be dequeued\n",
    "    # Check whether dequeueing an empty queue changes empty status\n",
    "    # Check whether dequeueing an empty queue changes full status\n",
    "    res = q.dequeue()\n",
    "    assert res is None\n",
    "    assert q.empty() is True\n",
    "    assert q.full() is False\n",
    "    \n",
    "    # Enqueue and dequeue, checking full()\n",
    "    for i in range(20):\n",
    "        res = q.enqueue(i)\n",
    "        assert res is True\n",
    "        assert q.full() is False\n",
    "        res = q.dequeue()\n",
    "        assert res == i\n",
    "    \n",
    "    # Check empty() wraparound\n",
    "    for i in range(20):\n",
    "        res = q.dequeue()\n",
    "        assert res is None\n",
    "        assert q.empty() is True\n",
    "        assert q.full() is False\n",
    "        \n",
    "    # Check full() wraparound\n",
    "    for i in range(20):\n",
    "        res = q.enqueue(i)\n",
    "        if i < 2:\n",
    "            assert res is True\n",
    "            assert q.empty() is False\n",
    "            assert q.full() is False\n",
    "        else:\n",
    "            if i == 2:\n",
    "                assert res is True\n",
    "                assert q.empty() is False\n",
    "                assert q.full() is True\n",
    "            else:\n",
    "                assert res is False\n",
    "                assert q.empty() is False\n",
    "                assert q.full() is True\n",
    "                \n",
    "    # Check larger queue enqueue and dequeue\n",
    "    x = Queue(50)\n",
    "    for i in range(-25, 24):\n",
    "        res = x.enqueue(i)\n",
    "        assert res is True\n",
    "        assert x.full() is False\n",
    "        \n",
    "    res = x.enqueue(24)\n",
    "    assert res is True\n",
    "    assert x.full() is True\n",
    "    x.enqueue(25)\n",
    "    assert x.full() is True\n",
    "    \n",
    "    for i in range(-25, 25):\n",
    "        res = x.dequeue()\n",
    "        assert res == i\n",
    "        assert x.full() is False\n",
    "\n",
    "\n",
    "def test():\n",
    "    ###Your code here.\n",
    "    test1()\n",
    "    \n",
    "\n",
    "\n"
   ]
  }
 ],
 "metadata": {
  "kernelspec": {
   "display_name": "Python [conda env:py27]",
   "language": "python",
   "name": "conda-env-py27-py"
  },
  "language_info": {
   "codemirror_mode": {
    "name": "ipython",
    "version": 2
   },
   "file_extension": ".py",
   "mimetype": "text/x-python",
   "name": "python",
   "nbconvert_exporter": "python",
   "pygments_lexer": "ipython2",
   "version": "2.7.15"
  }
 },
 "nbformat": 4,
 "nbformat_minor": 2
}
