{
 "cells": [
  {
   "cell_type": "markdown",
   "metadata": {},
   "source": [
    "# Random Testing\n",
    "\n",
    "When creating a random testing suite, it's helpful to include parameters in the output file. This helps make any testing failures reproducible.\n",
    "\n",
    "Assertions become even more important in random testing. They allow us to easily spot and trace any errors that may arise during testing. Less rigorous assertions allow silent errors to propogate through our code, which is the worst case scenario in testing.\n",
    "\n",
    "<img src='../images/Screen Shot 2019-04-09 at 7.18.16 AM.png' />\n"
   ]
  },
  {
   "cell_type": "markdown",
   "metadata": {},
   "source": [
    "# Testing a Unix Utility\n",
    "\n",
    "<img src='../images/Screen Shot 2019-04-09 at 7.38.31 AM.png' />"
   ]
  },
  {
   "cell_type": "markdown",
   "metadata": {},
   "source": [
    "# Fault Injection\n",
    "\n",
    "**Fault Injection:** a technique for improving the coverage of a test by introducing faults to test code paths, in particular error handling code paths, that might otherwise rarely be followed.\n"
   ]
  },
  {
   "cell_type": "markdown",
   "metadata": {},
   "source": [
    "# Input Validity\n",
    "\n",
    "Random testing should cover the codebase somewhat proportionally. Think about the domain you're trying to target when testing for input validity.\n",
    "\n",
    "<img src='../images/Screen Shot 2019-04-09 at 10.51.11 AM.png' />\n"
   ]
  },
  {
   "cell_type": "markdown",
   "metadata": {},
   "source": [
    "## Example: Browser Input Validity\n",
    "\n",
    "Here's a visual representation of the above concept. If the inputs are completely random, we don't get to hit much of the higher-order functionality.\n",
    "\n",
    "<img src='../images/Screen Shot 2019-04-09 at 11.03.58 AM.png' />\n"
   ]
  },
  {
   "cell_type": "markdown",
   "metadata": {},
   "source": [
    "# Luhn's Algorithm\n",
    "\n",
    "<img src='../images/Screen Shot 2019-04-09 at 11.22.27 AM.png' />\n",
    "\n",
    "<img src='../images/Screen Shot 2019-04-09 at 11.23.05 AM.png' />\n",
    "\n",
    "<img src='../images/Screen Shot 2019-04-09 at 11.23.54 AM.png' />\n",
    "\n",
    "<img src='../images/Screen Shot 2019-04-09 at 11.24.34 AM.png' />"
   ]
  },
  {
   "cell_type": "code",
   "execution_count": 7,
   "metadata": {},
   "outputs": [
    {
     "data": {
      "text/plain": [
       "411760573367906"
      ]
     },
     "execution_count": 7,
     "metadata": {},
     "output_type": "execute_result"
    }
   ],
   "source": [
    "# concise definition of the Luhn checksum:\n",
    "#\n",
    "# \"For a card with an even number of digits, double every odd numbered\n",
    "# digit and subtract 9 if the product is greater than 9. Add up all\n",
    "# the even digits as well as the doubled-odd digits, and the result\n",
    "# must be a multiple of 10 or it's not a valid card. If the card has\n",
    "# an odd number of digits, perform the same addition doubling the even\n",
    "# numbered digits instead.\"\n",
    "#\n",
    "# for more details see here:\n",
    "# http://www.merriampark.com/anatomycc.htm\n",
    "#\n",
    "# also see the Wikipedia entry, but don't do that unless you really\n",
    "# want the answer, since it contains working Python code!\n",
    "# \n",
    "# Implement the Luhn Checksum algorithm as described above.\n",
    "\n",
    "# is_luhn_valid takes a credit card number as input and verifies \n",
    "# whether it is valid or not. If it is valid, it returns True, \n",
    "# otherwise it returns False.\n",
    "\n",
    "import random\n",
    "\n",
    "# Goal: random tester for credit card processor\n",
    "\n",
    "\n",
    "def luhn_checksum(n):\n",
    "    # Checks the checksum digit for a credit card number n\n",
    "    # Applies Luhn's algorithm on the overall card number\n",
    "    old_number = str(n)\n",
    "    new_number = \"\"\n",
    "    for i in range(len(old_number)):\n",
    "        if (i + 1) % 2 == len(old_number) % 2:\n",
    "            new_digit = int(old_number[i]) * 2\n",
    "            while new_digit > 9:\n",
    "                new_digit -= 9\n",
    "        else:\n",
    "            new_digit = int(old_number[i])\n",
    "        new_number += str(new_digit)\n",
    "    \n",
    "    return sum(map(int, new_number)) % 10\n",
    "\n",
    "def is_luhn_valid(n):\n",
    "    # Checks whether the \n",
    "    return luhn_checksum(n) == 0\n",
    "\n",
    "def generate(pref, l):\n",
    "    account_number = pref\n",
    "    for i in range(l - len(pref)):\n",
    "        account_number += str(random.randint(0, 9))\n",
    "    while not is_luhn_valid(int(account_number)):\n",
    "        account_number = pref\n",
    "        for i in range(l - len(pref)):\n",
    "            account_number += str(random.randint(0, 9))\n",
    "        \n",
    "    return int(account_number)\n",
    "\n",
    "generate(\"4117\", 15)"
   ]
  },
  {
   "cell_type": "markdown",
   "metadata": {},
   "source": [
    "# Mandatory Input Validity\n",
    "\n",
    "We want to keep inputs valid because the point of random testing is usually to ensure that the software holds up to whatever our users throw at it. If we start throwing inputs that are not realistic, they end up waisting our software engineers' time because now human time is being spent looking at situations that the SUT wouldn't have to deal with anyway.\n",
    "\n",
    "<img src='../images/Screen Shot 2019-04-10 at 6.40.44 AM.png' />\n"
   ]
  },
  {
   "cell_type": "markdown",
   "metadata": {},
   "source": [
    "# Complaints About Random Testing\n",
    "\n",
    "<img src='../images/Screen Shot 2019-04-10 at 6.42.34 AM.png' />\n",
    "\n",
    "<img src='../images/Screen Shot 2019-04-10 at 6.43.28 AM.png' />\n",
    "\n",
    "<img src='../images/Screen Shot 2019-04-10 at 6.44.02 AM.png' />\n"
   ]
  },
  {
   "cell_type": "markdown",
   "metadata": {},
   "source": [
    "# Fuzzing\n",
    "\n",
    "**Fuzzing:** a quality assurance technique used to discover coding errors and security loopholes in software, operating systems or networks. It involves inputting massive amounts of random data, called fuzz, to the test subject in an attempt to make it crash.\n",
    "\n",
    "<img src='../images/Screen Shot 2019-04-10 at 6.45.52 AM.png' />\n"
   ]
  },
  {
   "cell_type": "markdown",
   "metadata": {},
   "source": [
    "# Fuzzing for Penetration Testing\n",
    "\n",
    "**Penetration Testing:** also called pen testing or ethical hacking, is the practice of testing a computer system, network or web application to find security vulnerabilities that an attacker could exploit. Penetration testing can be automated with software applications or performed manually.\n"
   ]
  },
  {
   "cell_type": "markdown",
   "metadata": {},
   "source": [
    "# Historical Bugs\n",
    "\n",
    "<img src='../images/Screen Shot 2019-04-10 at 7.03.36 AM.png' />\n"
   ]
  },
  {
   "cell_type": "markdown",
   "metadata": {},
   "source": [
    "## Fdiv\n",
    "\n",
    "One caveat in random testing is that you need a way to get to ground truth. In order to catch the Pentium fdiv bug, they'd need to check it against their existing 487 FPU algorithm. If they ran the tester constantly, their expected value was about .96 failures per day based on the hardware that was available at the time.\n",
    "\n",
    "<img src='../images/Screen Shot 2019-04-10 at 7.09.36 AM.png' />\n"
   ]
  },
  {
   "cell_type": "markdown",
   "metadata": {},
   "source": [
    "## 1988 Internet Worm\n",
    "\n",
    "<img src='../images/Screen Shot 2019-04-10 at 7.16.13 AM.png' />\n"
   ]
  },
  {
   "cell_type": "markdown",
   "metadata": {},
   "source": [
    "## APIs\n",
    "\n",
    "<img src='../images/Screen Shot 2019-04-10 at 7.23.30 AM.png' />\n"
   ]
  },
  {
   "cell_type": "markdown",
   "metadata": {},
   "source": [
    "# Fuzzing Filesystems\n",
    "\n",
    "**Test-case reduction:** the process of taking some value (a test case, usually represented as a sequence of bytes, though in property-based testing land it can be an arbitrary value) that demonstrates some property of interest (usually that it triggers a bug in some program) and turning it into a smaller and simpler test case with the same property.\n",
    "\n",
    "<img src='../images/Screen Shot 2019-04-10 at 7.35.55 AM.png' />\n"
   ]
  },
  {
   "cell_type": "markdown",
   "metadata": {},
   "source": [
    "# Generating Random Inputs\n",
    "\n",
    "<img src='../images/Screen Shot 2019-04-10 at 7.53.46 AM.png' />\n"
   ]
  },
  {
   "cell_type": "markdown",
   "metadata": {},
   "source": [
    "# Mutation-Based Random Testing\n",
    "\n",
    "<img src='../images/Screen Shot 2019-04-10 at 7.57.54 AM.png' />\n"
   ]
  },
  {
   "cell_type": "markdown",
   "metadata": {},
   "source": [
    "# Oracles\n",
    "\n",
    "<img src='../images/Screen Shot 2019-04-10 at 8.00.46 AM.png' />\n"
   ]
  },
  {
   "cell_type": "markdown",
   "metadata": {},
   "source": [
    "## Weak and Medium Oracles\n",
    "\n",
    "<img src='../images/Screen Shot 2019-04-10 at 8.04.54 AM.png' />\n"
   ]
  },
  {
   "cell_type": "markdown",
   "metadata": {},
   "source": [
    "## Strong Oracles: Overview\n",
    "\n",
    "<img src='../images/Screen Shot 2019-04-10 at 8.06.59 AM.png' />\n"
   ]
  },
  {
   "cell_type": "markdown",
   "metadata": {},
   "source": [
    "## Strong Oracles: Function Inverse Pair\n",
    "\n",
    "**Examples:**\n",
    "- Assembler / disassembler\n",
    "- Encryption / decryption\n",
    "- Compression / decompression\n",
    "- Save / load\n",
    "- Transmit / receive\n",
    "- Encode / decode\n",
    "    - Audio\n",
    "    - Video\n",
    "\n",
    "<img src='../images/Screen Shot 2019-04-10 at 8.07.44 AM.png' />\n"
   ]
  },
  {
   "cell_type": "markdown",
   "metadata": {},
   "source": [
    "## Strong Oracles: Null Space Transformations\n",
    "\n",
    "**Null Space Transformation:** Transform the test case in a non-trivial way while preserving the meaning of the test case. Ex: a + b vs (a + (b)).\n",
    "\n",
    "<img src='../images/Screen Shot 2019-04-10 at 8.15.34 AM.png' />\n"
   ]
  },
  {
   "cell_type": "code",
   "execution_count": 35,
   "metadata": {},
   "outputs": [
    {
     "name": "stdout",
     "output_type": "stream",
     "text": [
      "None\n"
     ]
    }
   ],
   "source": [
    "from pprint import pprint\n",
    "\n",
    "def check_rows(grid):\n",
    "    num_values = 0\n",
    "    \n",
    "    if len(grid) != 9 or not all([len(grid[i]) == 9 for i in range(len(grid))]):\n",
    "        return num_values, None\n",
    "    \n",
    "    for i in range(len(grid)):\n",
    "        values = set()\n",
    "        for j in range(len(grid[0])):\n",
    "            if grid[i][j] == 0:\n",
    "                continue\n",
    "            else:\n",
    "                if grid[i][j] in values:\n",
    "                    return num_values, False\n",
    "                values.add(grid[i][j])\n",
    "                num_values += 1\n",
    "                \n",
    "    return num_values, True\n",
    "\n",
    "def check_columns(grid):\n",
    "    for j in range(len(grid[0])):\n",
    "        values = set()\n",
    "        for i in range(len(grid)):\n",
    "            if grid[i][j] == 0:\n",
    "                continue\n",
    "            else:\n",
    "                if grid[i][j] in values:\n",
    "                    return False\n",
    "                values.add(grid[i][j])\n",
    "                \n",
    "    return True\n",
    "\n",
    "def check_subgrids(grid):\n",
    "    for row_start in range(0, 7, 3):\n",
    "        for col_start in range(0, 7, 3):\n",
    "            for i in range(row_start, row_start + 3):\n",
    "                values = set()\n",
    "                for j in range(col_start, col_start + 3):\n",
    "                    if grid[i][j] == 0:\n",
    "                        continue\n",
    "                    else:\n",
    "                        if grid[i][j] in values:\n",
    "                            return False\n",
    "                        values.add(grid[i][j])\n",
    "                        \n",
    "    return True\n",
    "\n",
    "def validate_sudoku(grid):\n",
    "    num_values, row_valid = check_rows(grid)\n",
    "    if not row_valid:\n",
    "        return num_values, row_valid\n",
    "    col_valid = check_columns(grid)\n",
    "    if not col_valid:\n",
    "        return num_values, False\n",
    "    subgrid_valid = check_subgrids(grid)\n",
    "    if not subgrid_valid:\n",
    "        return num_values, False\n",
    "    return num_values, True\n",
    "\n",
    "def find_next_cell(grid):\n",
    "    least_restrictive_values = list(range(1, 10))\n",
    "    least_restrictive_cell = None\n",
    "    row_possibilities = {}\n",
    "    col_restrictions = {}\n",
    "    subgrid_restrictions = {}\n",
    "    \n",
    "    # Row possibilities\n",
    "    for i in range(len(grid)):\n",
    "        row_possibilities[i] = set(range(1, 10)) - set(grid[i]) - set([0])\n",
    "    \n",
    "    # Column restrictions\n",
    "    for j in range(len(grid[0])):\n",
    "        col_restrictions[j] = set([grid[i][j] for i in range(len(grid[i]))]) - set([0])\n",
    "    \n",
    "    # Subgrid restrictions\n",
    "    for row_start in range(0, 7, 3):\n",
    "        for col_start in range(0, 7, 3):\n",
    "            subgrid_restrictions[(row_start, col_start)] = set()\n",
    "            for i in range(row_start, row_start + 3):                \n",
    "                for j in range(col_start, col_start + 3):\n",
    "                    if grid[i][j] == 0:\n",
    "                        continue\n",
    "                    else:\n",
    "                        subgrid_restrictions[(row_start, col_start)].add(grid[i][j])\n",
    "    \n",
    "    # Find cell with fewest possible values\n",
    "    for i in range(len(grid)):\n",
    "        for j in range(len(grid[0])):\n",
    "            if grid[i][j] == 0:\n",
    "                row_start = i // 3 * 3\n",
    "                col_start = j // 3 * 3                \n",
    "                possible_values = row_possibilities[i] - col_restrictions[j] - subgrid_restrictions[(row_start, col_start)]\n",
    "                if len(possible_values) <= len(least_restrictive_values):\n",
    "                    least_restrictive_values = possible_values\n",
    "                    least_restrictive_cell = (i, j)\n",
    "                    \n",
    "    return least_restrictive_cell, least_restrictive_values\n",
    "            \n",
    "    \n",
    "\n",
    "def check_helper(grid):\n",
    "    num_values, valid = validate_sudoku(grid)\n",
    "    if num_values == 81 or not valid:\n",
    "        return valid, grid\n",
    "    \n",
    "    next_cell, possible_values = find_next_cell(grid)\n",
    "    \n",
    "    for possible_value in possible_values:\n",
    "        grid[next_cell[0]][next_cell[1]] = possible_value\n",
    "        valid, solved_grid = check_helper(grid)\n",
    "        if not valid:\n",
    "            grid[next_cell[0]][next_cell[1]] = 0\n",
    "        else:\n",
    "            return valid, solved_grid\n",
    "        \n",
    "    return False, grid\n",
    "\n",
    "def check_sudoku(grid):\n",
    "    # Checks whether a grid is solved or can potentially\n",
    "    # be solved.\n",
    "    \n",
    "    num_values, valid = validate_sudoku(grid)\n",
    "    \n",
    "    if not valid:\n",
    "        return valid, grid\n",
    "    elif valid and num_values == 81:\n",
    "        return True, grid\n",
    "    \n",
    "    valid, solved_grid = check_helper(grid)\n",
    "    return valid, solved_grid\n",
    "\n",
    "def solve_sudoku(grid):\n",
    "    valid, solved_grid = check_sudoku(grid)\n",
    "    if not valid:\n",
    "        return valid\n",
    "    return solved_grid\n",
    "    \n",
    "\n",
    "test_grid = [[5,3,4,6,7,8,9,1,2],\n",
    "              [6,7,2,1,9,5,3,4,8],\n",
    "              [1,9,8,3,4,2,5,6,7],\n",
    "              [8,5,9,7,6,1,4,2,3],\n",
    "              [4,2,6,8,5,3,7,9],  # <---\n",
    "              [7,1,3,9,2,4,8,5,6],\n",
    "              [9,6,1,5,3,7,2,8,4],\n",
    "              [2,8,7,4,1,9,6,3,5],\n",
    "              [3,4,5,2,8,6,1,7,9]]\n",
    "\n",
    "solve_sudoku(test_grid)"
   ]
  },
  {
   "cell_type": "code",
   "execution_count": 14,
   "metadata": {},
   "outputs": [
    {
     "name": "stdout",
     "output_type": "stream",
     "text": [
      "('Matrix before:', [[None, None, None, None, None, None, None, None, None, None]])\n",
      "('Matrix after:', [[None, None, None, None, None, None, None, None, None, None]])\n",
      "('Matrix before:', [[None, None, None, None, None, None, None, None, None, None]])\n",
      "('Matrix after:', [[None, None, None, None, None, None, None, None, None, None]])\n",
      "('Matrix before:', [[None, None, None, None, None, None, None, None, None, None]])\n",
      "('Matrix after:', [[None, None, None, None, None, None, None, None, None, None]])\n",
      "('Matrix before:', [[None, None, None, None, None, None, None, None, None, None]])\n",
      "('Matrix after:', [[None, None, None, None, None, None, None, None, None, None]])\n",
      "('Matrix before:', [[None, None, None, None, None, None, None, None, None, None]])\n",
      "('Matrix after:', [[None, None, None, None, None, None, None, None, None, 9]])\n",
      "('New matrix after:', [[None, None, None, None, None, None, None, None, None, 9]])\n"
     ]
    },
    {
     "data": {
      "text/plain": [
       "9"
      ]
     },
     "execution_count": 14,
     "metadata": {},
     "output_type": "execute_result"
    }
   ],
   "source": [
    "def test_recursion_helper(matrix, count):\n",
    "    if count == 9:\n",
    "        return matrix, count\n",
    "    \n",
    "    for i in range(count, 5):\n",
    "        value = i + 5\n",
    "        print(\"Matrix before:\", matrix)\n",
    "        matrix[0][value] = value\n",
    "        new_matrix, count = test_recursion_helper(matrix, value)\n",
    "        if count == 9:\n",
    "            print(\"Matrix after:\", matrix)\n",
    "            print(\"New matrix after:\", new_matrix)\n",
    "            return new_matrix, count\n",
    "            \n",
    "        else:\n",
    "            matrix[0][value] = None\n",
    "            print(\"Matrix after:\", matrix)\n",
    "            \n",
    "    return matrix, count\n",
    "    \n",
    "def test_recursion():\n",
    "    matrix = [[None for i in range(10)]]\n",
    "    count, new_matrix = test_recursion_helper(matrix, 0)\n",
    "    return new_matrix\n",
    "\n",
    "test_recursion()"
   ]
  }
 ],
 "metadata": {
  "kernelspec": {
   "display_name": "Python [conda env:py27]",
   "language": "python",
   "name": "conda-env-py27-py"
  },
  "language_info": {
   "codemirror_mode": {
    "name": "ipython",
    "version": 2
   },
   "file_extension": ".py",
   "mimetype": "text/x-python",
   "name": "python",
   "nbconvert_exporter": "python",
   "pygments_lexer": "ipython2",
   "version": "2.7.15"
  }
 },
 "nbformat": 4,
 "nbformat_minor": 2
}
