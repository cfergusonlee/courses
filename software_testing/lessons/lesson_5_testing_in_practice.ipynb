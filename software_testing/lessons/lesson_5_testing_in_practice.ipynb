{
 "cells": [
  {
   "cell_type": "markdown",
   "metadata": {},
   "source": [
    "# Overwhelmed by Success\n",
    "\n",
    "Use critical thinking when reporting bugs. Sometimes, the solution is straight-forward. Other times, it requires a bird's eye perspective.\n",
    "\n",
    "<img src='../images/Screen Shot 2019-04-12 at 10.05.23 AM.png' />"
   ]
  },
  {
   "cell_type": "markdown",
   "metadata": {},
   "source": [
    "# Bug Triage\n",
    "\n",
    "One way to sort bugs is by looking at the relationships between the number of observed defects and symptoms:\n",
    "1. One to many\n",
    "2. Many to one\n",
    "3. One to one\n",
    "\n",
    "<img src='../images/Screen Shot 2019-04-12 at 10.08.27 AM.png' />\n"
   ]
  },
  {
   "cell_type": "markdown",
   "metadata": {},
   "source": [
    "# Bug Triage Strategies\n",
    "\n",
    "Several strategies exist for identifying sources of bugs:\n",
    "\n",
    "1. **Disambiguate based on assertion violation messages:** The simplest strategy is to simply examine assertion violation messages being generated and trace them back to the source.\n",
    "2. **Core dump or stack trace:** Slightly more challenging than an assertion violation, but same concept of tracing bug to source.\n",
    "3. **Search over version history:** If we're following the one feature per version protocol, we can see when bugs pop up by searching through the version history. This can help us quickly identify any new bugs in the codebase.\n",
    "4. **Examine bug-triggering test cases:** We can look at patterns in test cases that lead to failures.\n",
    "\n",
    "<img src='../images/Screen Shot 2019-04-12 at 10.38.14 AM.png' />\n"
   ]
  },
  {
   "cell_type": "markdown",
   "metadata": {},
   "source": [
    "# Test Case Reduction\n",
    "\n",
    "<img src='../images/Screen Shot 2019-04-12 at 10.53.48 AM.png' />\n"
   ]
  },
  {
   "cell_type": "markdown",
   "metadata": {},
   "source": [
    "# Delta Debugging Prequel\n",
    "\n",
    "**Delta Debugging:** a technique to iteratively test and reduce an input file until it is as small as possible while still maintaining a desired characteristic.\n",
    "\n",
    "<img src='../images/Screen Shot 2019-04-12 at 10.56.15 AM.png' />\n"
   ]
  },
  {
   "cell_type": "markdown",
   "metadata": {},
   "source": [
    "# Reporting Bugs\n",
    "\n",
    "<img src='../images/Screen Shot 2019-04-12 at 11.06.09 AM.png' />\n"
   ]
  },
  {
   "cell_type": "markdown",
   "metadata": {},
   "source": [
    "# Building a Test Suite\n",
    "\n",
    "**Regression Tests:** a type of software testing to confirm that a recent program or code change has not adversely affected existing features. Regression Testing is nothing but a full or partial selection of already executed test cases which are re-executed to ensure existing functionalities work fine.\n",
    "\n",
    "<img src='../images/Screen Shot 2019-04-12 at 11.09.44 AM.png' />\n",
    "\n",
    "<img src='../images/Screen Shot 2019-04-12 at 11.13.01 AM.png' />"
   ]
  },
  {
   "cell_type": "markdown",
   "metadata": {},
   "source": [
    "# Hard Testing Problems\n",
    "\n",
    "<img src='../images/Screen Shot 2019-04-12 at 11.14.23 AM.png' />\n",
    "\n",
    "<img src='../images/Screen Shot 2019-04-12 at 11.15.44 AM.png' />\n",
    "\n",
    "<img src='../images/Screen Shot 2019-04-12 at 11.17.22 AM.png' />"
   ]
  },
  {
   "cell_type": "markdown",
   "metadata": {},
   "source": [
    "# Summary Of Testing Principles\n",
    "\n",
    "<img src='../images/Screen Shot 2019-04-12 at 11.18.30 AM.png' />\n",
    "\n",
    "<img src='../images/Screen Shot 2019-04-12 at 11.19.46 AM.png' />\n",
    "\n",
    "<img src='../images/Screen Shot 2019-04-12 at 11.21.36 AM.png' />\n",
    "\n",
    "<img src='../images/Screen Shot 2019-04-12 at 11.22.13 AM.png' />\n",
    "\n",
    "<img src='../images/Screen Shot 2019-04-12 at 11.23.08 AM.png' />\n",
    "\n",
    "<img src='../images/Screen Shot 2019-04-12 at 11.23.34 AM.png' />"
   ]
  }
 ],
 "metadata": {
  "kernelspec": {
   "display_name": "Python [conda env:py27]",
   "language": "python",
   "name": "conda-env-py27-py"
  },
  "language_info": {
   "codemirror_mode": {
    "name": "ipython",
    "version": 2
   },
   "file_extension": ".py",
   "mimetype": "text/x-python",
   "name": "python",
   "nbconvert_exporter": "python",
   "pygments_lexer": "ipython2",
   "version": "2.7.15"
  }
 },
 "nbformat": 4,
 "nbformat_minor": 2
}
