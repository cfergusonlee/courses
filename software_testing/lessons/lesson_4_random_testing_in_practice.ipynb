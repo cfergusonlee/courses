{
 "cells": [
  {
   "cell_type": "markdown",
   "metadata": {},
   "source": [
    "# Introduction\n",
    "\n",
    "<img src='../images/Screen Shot 2019-04-11 at 11.01.39 AM.png' />"
   ]
  },
  {
   "cell_type": "markdown",
   "metadata": {},
   "source": [
    "# Random Testing In The Bigger Picture\n",
    "\n",
    "<img src='../images/Screen Shot 2019-04-11 at 11.05.34 AM.png' />\n",
    "\n",
    "<img src='../images/Screen Shot 2019-04-11 at 11.08.16 AM.png' />"
   ]
  },
  {
   "cell_type": "markdown",
   "metadata": {},
   "source": [
    "# How Random Testing Should Work\n",
    "\n",
    "Software systems that are not taking advantage of random testing are fundamentally flawed. If you're only testing for things you're looking for based on what you'd expect, you'll miss out on a lot of unknown unknowns.\n",
    "\n",
    "Once we get past unit tests, we want to try to set up random system tests as quickly as possible. This will allow us to spot weak flaws easily and will (hopefully) help us feed a steady stream of bugs to our developers. It's much better to present a few bugs at a time than a heavy flow at the end. The former can be analyzed and taken care of properly while the latter will most likely be triaged and patched. By coevolving our tester and SUT together over time, we can develop a system that is very robust.\n",
    "\n",
    "<img src='../images/Screen Shot 2019-04-11 at 11.13.29 AM.png' />"
   ]
  },
  {
   "cell_type": "markdown",
   "metadata": {},
   "source": [
    "# Tuning Rules and Probabilities\n",
    "\n",
    "Apply the process you've used for journaling to testing. The first solution rarely comes out completely formed. Reflection, iteration, \n",
    "and experimentation are key for getting to a final product.\n",
    "\n",
    "<img src='../images/Screen Shot 2019-04-11 at 12.13.54 PM.png' />\n"
   ]
  },
  {
   "cell_type": "markdown",
   "metadata": {},
   "source": [
    "# Filesystem Testing\n",
    "\n",
    "<img src='../images/Screen Shot 2019-04-11 at 12.19.26 PM.png' />\n"
   ]
  },
  {
   "cell_type": "markdown",
   "metadata": {},
   "source": [
    "# Fuzzing the Bounded Queue\n",
    "\n",
    "<img src='../images/Screen Shot 2019-04-11 at 12.28.14 PM.png' />\n"
   ]
  },
  {
   "cell_type": "markdown",
   "metadata": {},
   "source": [
    "# Testing Bitwise Functions\n",
    "\n",
    "Sometimes, we already have a function that produces the correct output, but it is too slow to be feasible. We may want to create a faster implementation. The issue is that the faster code may be more complicated to write. This is a prime opportunity for randomized testing to make sure the new algorithm does what it says it does.\n",
    "\n",
    "<img src='../images/Screen Shot 2019-04-11 at 12.29.53 PM.png' />\n",
    "\n",
    "<img src='../images/Screen Shot 2019-04-11 at 12.36.34 PM.png' />\n",
    "\n",
    "In this case, we used generative random testing to get inputs a and b, which led to incomplete code coverage. Switching to mutation-based random testing led to a higher probability of having a == b, which increased our code coverage from 89% to 100%. This doesn't necessarily mean that mutation-based random testing will always dominate, but that thinking critically about our testing implementation can help us create better tests.\n",
    "\n",
    "<img src='../images/Screen Shot 2019-04-11 at 12.41.00 PM.png' />\n",
    "\n",
    "<img src='../images/Screen Shot 2019-04-11 at 12.44.22 PM.png' />"
   ]
  },
  {
   "cell_type": "markdown",
   "metadata": {},
   "source": [
    "# Fuzzing Implicit Inputs\n",
    "\n",
    "<img src='../images/Screen Shot 2019-04-11 at 12.53.34 PM.png' />\n"
   ]
  },
  {
   "cell_type": "markdown",
   "metadata": {},
   "source": [
    "# Can Random Testing Inspire Confidence?\n",
    "\n",
    "<img src='../images/Screen Shot 2019-04-11 at 12.57.09 PM.png' />\n"
   ]
  },
  {
   "cell_type": "markdown",
   "metadata": {},
   "source": [
    "# Tradeoffs in Random Testing\n",
    "\n",
    "Pluses | Deltas\n",
    "--- | ---\n",
    "**Less tester bias:** By using random testing, we eliminate a lot of assumptions and it's easier to let the data speak for itself. | **Input validity:** It takes careful thought to come up with valid input for our SUT. If we don't establish proper input validity, we won't penetrate higher-order functionality.\n",
    "**Low Human Cost:** Once testing is automated, the human cost of testing goes to nearly zero. | **Oracles:** We need to compare our randomized inputs to ground truth and getting there is often difficult.\n",
    "**Often Surprises Us:** Random testers are inherently good at telling us things we didn't know about SUT. | **Stopping Criteria:** Often, there is no upward bound for the amount of time necessary to identify any bugs. Even if no bugs show up after running your testing suite for a day, it's still possible that a few more hours might generate your first.\n",
    "**Different Fuzzers find Different Bugs:** The purpose of writing tests is to identify vulnerabilities, so by creating more than one, we can cover more ground faster. | **Unimportant Bugs:** Some bugs have such a small impact that it's not worth the effort to fix them.\n",
    "**Fun!:** Automation is fun, as is exploration. Enjoy the process! | **Boring Tests:** By neglecting input validity and critical thinking, we end up waisting our time.\n",
    " | **Different Fuzzers find Different Bugs:** A simple fuzzer may find bugs that a more complicated fuzzer might miss and vice-versa. This is why iteration is so critical.\n",
    "\n",
    "<img src='../images/Screen Shot 2019-04-11 at 1.25.10 PM.png' />\n"
   ]
  },
  {
   "cell_type": "code",
   "execution_count": 17,
   "metadata": {},
   "outputs": [
    {
     "ename": "KeyboardInterrupt",
     "evalue": "",
     "output_type": "error",
     "traceback": [
      "\u001b[0;31m---------------------------------------------------------------------------\u001b[0m",
      "\u001b[0;31mKeyboardInterrupt\u001b[0m                         Traceback (most recent call last)",
      "\u001b[0;32m<ipython-input-17-591071aeb735>\u001b[0m in \u001b[0;36m<module>\u001b[0;34m()\u001b[0m\n\u001b[1;32m     36\u001b[0m \u001b[0;34m\u001b[0m\u001b[0m\n\u001b[1;32m     37\u001b[0m     \u001b[0mprocess\u001b[0m \u001b[0;34m=\u001b[0m \u001b[0msubprocess\u001b[0m\u001b[0;34m.\u001b[0m\u001b[0mPopen\u001b[0m\u001b[0;34m(\u001b[0m\u001b[0;34m[\u001b[0m\u001b[0mapp\u001b[0m\u001b[0;34m,\u001b[0m \u001b[0mfuzz_output\u001b[0m\u001b[0;34m]\u001b[0m\u001b[0;34m)\u001b[0m\u001b[0;34m\u001b[0m\u001b[0m\n\u001b[0;32m---> 38\u001b[0;31m     \u001b[0mtime\u001b[0m\u001b[0;34m.\u001b[0m\u001b[0msleep\u001b[0m\u001b[0;34m(\u001b[0m\u001b[0;36m1\u001b[0m\u001b[0;34m)\u001b[0m\u001b[0;34m\u001b[0m\u001b[0m\n\u001b[0m\u001b[1;32m     39\u001b[0m     \u001b[0mcrashed\u001b[0m \u001b[0;34m=\u001b[0m \u001b[0mprocess\u001b[0m\u001b[0;34m.\u001b[0m\u001b[0mpoll\u001b[0m\u001b[0;34m(\u001b[0m\u001b[0;34m)\u001b[0m\u001b[0;34m\u001b[0m\u001b[0m\n\u001b[1;32m     40\u001b[0m     \u001b[0;32mif\u001b[0m \u001b[0;32mnot\u001b[0m \u001b[0mcrashed\u001b[0m\u001b[0;34m:\u001b[0m\u001b[0;34m\u001b[0m\u001b[0m\n",
      "\u001b[0;31mKeyboardInterrupt\u001b[0m: "
     ]
    }
   ],
   "source": [
    "import math\n",
    "import random\n",
    "import string\n",
    "import subprocess\n",
    "import time\n",
    "\n",
    "file_list = [\"../data/poker_bot_notes.txt\", \"../data/portfolio todo.txt\"]\n",
    "\n",
    "apps = [\n",
    "    \"/Applications/Sublime Text.app/Contents/MacOS/Sublime Text\",\n",
    "    \"/Applications/TextEdit.app/Contents/MacOS/TextEdit\"\n",
    "]\n",
    "\n",
    "fuzz_output = \"../data/fuzz.txt\"\n",
    "\n",
    "FUZZ_FACTOR = 300\n",
    "NUM_TESTS = 100\n",
    "\n",
    "for i in range(NUM_TESTS):\n",
    "    file_choice = random.choice(file_list)\n",
    "    app = random.choice(apps)\n",
    "    \n",
    "    buf = bytearray(open(file_choice, 'rb').read())\n",
    "    \n",
    "    num_writes = random.randrange(math.ceil((float(len(buf)) / FUZZ_FACTOR))) + 1\n",
    "    \n",
    "    for j in range(num_writes):\n",
    "        rbyte = random.randrange(256)\n",
    "        rn = random.randrange(len(buf))\n",
    "        buf[rn] = \"{}\".format(chr(rbyte))\n",
    "        \n",
    "    with open(fuzz_output, 'wb') as f:\n",
    "        f.write(buf)\n",
    "\n",
    "#     open(fuzz_output, 'wb').write(buf)\n",
    "        \n",
    "    process = subprocess.Popen([app, fuzz_output])\n",
    "    time.sleep(1)\n",
    "    crashed = process.poll()\n",
    "    if not crashed:\n",
    "        process.terminate()"
   ]
  }
 ],
 "metadata": {
  "kernelspec": {
   "display_name": "Python [conda env:py27]",
   "language": "python",
   "name": "conda-env-py27-py"
  },
  "language_info": {
   "codemirror_mode": {
    "name": "ipython",
    "version": 2
   },
   "file_extension": ".py",
   "mimetype": "text/x-python",
   "name": "python",
   "nbconvert_exporter": "python",
   "pygments_lexer": "ipython2",
   "version": "2.7.15"
  }
 },
 "nbformat": 4,
 "nbformat_minor": 2
}
