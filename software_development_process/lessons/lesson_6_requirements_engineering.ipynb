{
 "cells": [
  {
   "cell_type": "markdown",
   "metadata": {},
   "source": [
    "# Overview\n",
    "\n",
    "<img src='../images/Screen Shot 2019-05-02 at 6.54.55 AM.png' />\n",
    "\n",
    "<img src='../images/Screen Shot 2019-05-02 at 6.55.02 AM.png' />\n",
    "\n",
    "<img src='../images/Screen Shot 2019-05-02 at 6.55.08 AM.png' />"
   ]
  },
  {
   "cell_type": "markdown",
   "metadata": {},
   "source": [
    "# Interview with Jane Cleland-Huang\n",
    "\n",
    "Software requirements basically provide us with a description of what a system has to do. Typically, they describe the funcitonality of the features that the system has to deliver in order to satisfy its stakeholders.\n",
    "\n",
    "Requirements engineering includes but is not limited to:\n",
    "1. Working with stakeholders to elicit or to proactively discover what the requirements of the system are\n",
    "2. Analyzing the requirements to understand the tradeoffs and emerge conflicts\n",
    "3. Validating the software to ensure it covers the requirements\n",
    "4. Requirements management, which includes change management to account for changing requirements.\n",
    "\n",
    "### What happens if we don't do requirements engineering right?\n",
    "\n",
    "One of the major reasons for a project failing is not getting the requirements right. We need to find the right group of stakeholders so we don't exclude major groups of stakeholders. We also need to make sure we understand the requirements correctly. Failing to satisfy any of the above criteria can set a software project on a faulty path, moving it away from its intended goal."
   ]
  },
  {
   "cell_type": "markdown",
   "metadata": {},
   "source": [
    "# General RE DEfinition\n",
    "\n",
    "**Requirements Engineering:** the process of establishing the services that the customer requires from the software system. In addition, RE involves the constraints under which the system operates and is developed. \n",
    "\n",
    "RE is all about answering the question, \"What are we trying to build?\". The question, \"How are we going to build it?\" is answered in the Design phase.\n",
    "\n",
    "<img src='../images/Screen Shot 2019-05-02 at 7.15.36 AM.png' />"
   ]
  },
  {
   "cell_type": "markdown",
   "metadata": {},
   "source": [
    "# Software Intensive Systems\n",
    "\n",
    "Software only becomes useful when we run it on some hardware in the context of some human activity that it can support. \n",
    "\n",
    "<img src='../images/Screen Shot 2019-05-02 at 7.21.04 AM.png' />\n"
   ]
  },
  {
   "cell_type": "markdown",
   "metadata": {},
   "source": [
    "# Software Quality\n",
    "\n",
    "<img src='../images/Screen Shot 2019-05-02 at 7.22.57 AM.png' />"
   ]
  },
  {
   "cell_type": "markdown",
   "metadata": {},
   "source": [
    "# Identifying Purpose\n",
    "\n",
    "<img src='../images/Screen Shot 2019-05-02 at 7.24.36 AM.png' />"
   ]
  },
  {
   "cell_type": "markdown",
   "metadata": {},
   "source": [
    "# Completeness and Pertinence\n",
    "\n",
    "**Completeness:** Does a software product satisfy all requirements? In other words, do we have a complete picture of the purpose of the software?\n",
    "**Pertinence:** Describes the relevance of the requirements. Pertinence failures lead to bloated software or an unattainable product.\n",
    "\n",
    "<img src='../images/Screen Shot 2019-05-02 at 7.27.56 AM.png' />"
   ]
  },
  {
   "cell_type": "markdown",
   "metadata": {},
   "source": [
    "# Irrelevant Requirements\n",
    "\n",
    "<img src='../images/Screen Shot 2019-05-02 at 7.35.12 AM.png' />"
   ]
  },
  {
   "cell_type": "markdown",
   "metadata": {},
   "source": [
    "# Best Practices\n",
    "\n",
    "<img src='../images/Screen Shot 2019-05-02 at 7.36.20 AM.png' />"
   ]
  },
  {
   "cell_type": "markdown",
   "metadata": {},
   "source": [
    "# RE Definition Breakdown\n",
    "\n",
    "<img src='../images/Screen Shot 2019-05-02 at 7.40.23 AM.png' />"
   ]
  },
  {
   "cell_type": "markdown",
   "metadata": {},
   "source": [
    "# Defining Requirements\n",
    "\n",
    "**Domain Properties:** The assumptions that we make about the domain.\n",
    "\n",
    "**Requirements:** The actual requirements that we aim to collect\n",
    "\n",
    "**Computer:** Hardware\n",
    "\n",
    "**Program:** Software\n",
    "\n",
    "Specifications describe shared phenomena across both the machine domain and application domain. They usually fall under one of two categories:\n",
    "1. Events in the real world that the machine can directly send. Examples can include:\n",
    "    1. A button being pressed\n",
    "    2. A sensor being activated\n",
    "2. Actions in the real world that the machine can directly cause. Examples can include:\n",
    "    1. An image appearing on a screen\n",
    "    2. A device turning on or off\n",
    "\n",
    "<img src='../images/Screen Shot 2019-05-02 at 7.42.03 AM.png' />"
   ]
  },
  {
   "cell_type": "markdown",
   "metadata": {},
   "source": [
    "# Functional and Nonfunctional Requirements\n",
    "\n",
    "**Functional requirements:** those which are related to the technical functionality of the system. \n",
    "\n",
    "**Non-functional requirement:** a requirement that specifies criteria that can be used to judge the operation of a system in particular conditions, rather than specific behaviors.\n",
    "\n",
    "<img src='../images/Screen Shot 2019-05-02 at 8.03.07 AM.png' />"
   ]
  },
  {
   "cell_type": "markdown",
   "metadata": {},
   "source": [
    "# User and System Requirements\n",
    "\n",
    "<img src='../images/Screen Shot 2019-05-02 at 8.05.29 AM.png' />\n",
    "\n",
    "<img src='../images/Screen Shot 2019-05-02 at 8.06.19 AM.png' />"
   ]
  },
  {
   "cell_type": "markdown",
   "metadata": {},
   "source": [
    "# Requirement Origins\n",
    "\n",
    "<img src='../images/Screen Shot 2019-05-02 at 8.09.00 AM.png' />"
   ]
  },
  {
   "cell_type": "markdown",
   "metadata": {},
   "source": [
    "# Elicitation Problems\n",
    "\n",
    "Thin spread of domain knowledge: The developer often needs to speak with many people.\n",
    "\n",
    "Knowledge is tacit: Stakeholders often have difficulty fully unpacking the task they're trying to accomplish.\n",
    "\n",
    "Limited observability: Sometimes, stakeholders are too busy to fully explain the problem they're trying to solve.\n",
    "\n",
    "Bias: People may not feel free to or may not want to explain what you need to know.\n",
    "\n",
    "<img src='../images/Screen Shot 2019-05-02 at 8.11.12 AM.png' />"
   ]
  },
  {
   "cell_type": "markdown",
   "metadata": {},
   "source": [
    "# Traditional Techniques\n",
    "\n",
    "Background reading: Collecting information from organizational charts, documentation, etc. Drawbacks can include out-of-date or irrelevant information. \n",
    "\n",
    "Hard data and samples: Consists of deciding which hard data we want to colect and choosing the sample of the population for which to collect such data. This can include but is not limited to:\n",
    "- Forms\n",
    "- Invoices\n",
    "- Marketing data\n",
    "- Financial information\n",
    "- Survey results\n",
    "\n",
    "Interviews: Can be structured or open-ended and are designed to elicit feedback in a more intimate one-on-one setting. Great for collecting both facts and opinions and for in-depth probing. One drawback is that interviewing requires a special set of skills that are difficult to master and require experience.\n",
    "\n",
    "Surveys: Allow engineers to collect information quickly and more conveniently at the cost of quality.\n",
    "\n",
    "Meetings: Helpful for summarization of findings and collection of feedback.\n",
    "\n",
    "<img src='../images/Screen Shot 2019-05-02 at 8.17.56 AM.png' />"
   ]
  },
  {
   "cell_type": "markdown",
   "metadata": {},
   "source": [
    "# Other Techniques\n",
    "\n",
    "Collaborative techniques: Created to support incremental development of complex systems with large, diverse user populations.\n",
    "\n",
    "Social approaches: techniques that exploit the social sciences to better collect information from the stakeholders and environment.\n",
    "\n",
    "Cognitive techniques: leverage cognitive science approaches to discover expert knowledge.\n",
    "\n",
    "<img src='../images/Screen Shot 2019-05-02 at 8.39.15 AM.png' />"
   ]
  },
  {
   "cell_type": "markdown",
   "metadata": {},
   "source": [
    "# Modeling Requirements\n",
    "\n",
    "<img src='../images/Screen Shot 2019-05-02 at 8.45.20 AM.png' />"
   ]
  },
  {
   "cell_type": "markdown",
   "metadata": {},
   "source": [
    "# Analyzing Requirements\n",
    "\n",
    "Verification involves the developer comparing the gathered requirements to the customer needs.\n",
    "\n",
    "Validation elicits feedback from the stakeholders on whether the plan fits their needs.\n",
    "\n",
    "Risk analysis aims to identify and analyze the main risks involved with the development of the system being considered.\n",
    "\n",
    "<img src='../images/Screen Shot 2019-05-02 at 8.48.22 AM.png' />"
   ]
  },
  {
   "cell_type": "markdown",
   "metadata": {},
   "source": [
    "# Requirements Prioritization\n",
    "\n",
    "<img src='../images/Screen Shot 2019-05-02 at 8.56.03 AM.png' />"
   ]
  },
  {
   "cell_type": "markdown",
   "metadata": {},
   "source": [
    "# Requirements Engineering Process\n",
    "\n",
    "<img src='../images/Screen Shot 2019-05-02 at 9.00.34 AM.png' />"
   ]
  },
  {
   "cell_type": "markdown",
   "metadata": {},
   "source": [
    "# Software Requirements Specification (SRS)\n",
    "\n",
    "<img src='../images/Screen Shot 2019-05-02 at 9.01.54 AM.png' />\n",
    "\n",
    "<img src='../images/Screen Shot 2019-05-02 at 9.02.55 AM.png' />"
   ]
  }
 ],
 "metadata": {
  "kernelspec": {
   "display_name": "Python 3",
   "language": "python",
   "name": "python3"
  },
  "language_info": {
   "codemirror_mode": {
    "name": "ipython",
    "version": 3
   },
   "file_extension": ".py",
   "mimetype": "text/x-python",
   "name": "python",
   "nbconvert_exporter": "python",
   "pygments_lexer": "ipython3",
   "version": "3.7.1"
  }
 },
 "nbformat": 4,
 "nbformat_minor": 2
}
