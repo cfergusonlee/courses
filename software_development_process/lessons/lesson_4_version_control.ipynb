{
 "cells": [
  {
   "cell_type": "markdown",
   "metadata": {},
   "source": [
    "# Version Control System Introduction\n",
    "\n",
    "<img src='../images/Screen Shot 2019-04-24 at 8.31.52 AM.png' />\n",
    "\n",
    "<img src='../images/Screen Shot 2019-04-24 at 8.33.21 AM.png' />"
   ]
  },
  {
   "cell_type": "markdown",
   "metadata": {},
   "source": [
    "# \"Don'ts\" in VCS\n",
    "\n",
    "Don't add executables or bulky binaries to the repo.\n",
    "\n",
    "Don't store versioned copies locally. It's tempting to store backups of the repo, but bad practice in general. It leads to confusion. Trust the VCS and use the proper channels. \n",
    "\n",
    "<img src='../images/Screen Shot 2019-04-24 at 8.48.43 AM.png' />\n"
   ]
  },
  {
   "cell_type": "markdown",
   "metadata": {},
   "source": [
    "# Two Main Types of VCS\n",
    "\n",
    "The Git + Github workflow uses a decentralized system to allow smaller local iterations before pushing to a central repo.\n",
    "\n",
    "<img src='../images/Screen Shot 2019-04-24 at 8.52.47 AM.png' />\n"
   ]
  },
  {
   "cell_type": "markdown",
   "metadata": {},
   "source": [
    "# GIT Workflow\n",
    "\n",
    "Here's a visual representation of the git workflow:\n",
    "- `git add` updates the index aka stages changes\n",
    "- `git commit` updates the local repository\n",
    "- `git push` pushes changes to the central repo\n",
    "\n",
    "<img src='../images/Screen Shot 2019-04-24 at 9.13.29 AM.png' />\n"
   ]
  },
  {
   "cell_type": "markdown",
   "metadata": {},
   "source": [
    "# GIT Demo: Git + Eclipse\n",
    "\n",
    "<img src='../images/Screen Shot 2019-04-24 at 11.00.03 AM.png' />\n"
   ]
  },
  {
   "cell_type": "markdown",
   "metadata": {},
   "source": [
    "# GIT Recap: Local Repositories\n",
    "\n",
    "`git mv`: a more explicit way of moving files within the repo.\n",
    "`git rm`: needed to remove a file if not using `git add .`. If using `git add <files>` explicitly, git will not recognize that a file was removed.\n",
    "\n",
    "<img src='../images/Screen Shot 2019-04-24 at 10.55.55 AM.png' />\n"
   ]
  },
  {
   "cell_type": "markdown",
   "metadata": {},
   "source": [
    "# GIT Recap: Remote Repositories\n",
    "\n",
    "<img src='../images/Screen Shot 2019-04-24 at 10.57.33 AM.png' />\n"
   ]
  }
 ],
 "metadata": {
  "kernelspec": {
   "display_name": "Python 3",
   "language": "python",
   "name": "python3"
  },
  "language_info": {
   "codemirror_mode": {
    "name": "ipython",
    "version": 3
   },
   "file_extension": ".py",
   "mimetype": "text/x-python",
   "name": "python",
   "nbconvert_exporter": "python",
   "pygments_lexer": "ipython3",
   "version": "3.7.1"
  }
 },
 "nbformat": 4,
 "nbformat_minor": 2
}
