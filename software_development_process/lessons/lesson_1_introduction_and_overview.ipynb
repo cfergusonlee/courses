{
 "cells": [
  {
   "cell_type": "markdown",
   "metadata": {},
   "source": [
    "# What is Software Engineering?\n",
    "\n",
    "Key takeaways:\n",
    "\n",
    "1. **Efficient Program Development:** We want to build our product as efficiently as possible.\n",
    "2. **Systematic Building:** In order to ensure reliability, we need to be systematic.\n",
    "3. **Working with Stakeholders:** We need to be able to understand and work with our stakeholders to meet their needs.\n",
    "4. **Life Cycle:** The software lifecycle doesn't end after development. The majority of the budget is spent on maintenance and longevity.\n",
    "5. **Quality:** Does the product meet design specifications?\n",
    "6. **Envisioning and Realizing Value:** At its core, software engineering involves bringing an idea to fruition.\n",
    "7. **Meeting Requirements and Design Specifications:** Does the product do what it set out to do?\n",
    "7. **Scalability:** How efficient is the system? Can it be tweaked easily to meet new needs?\n",
    "7. **Reliability:** Does the system work consistently?\n",
    "8. **Safety and Security:** Does the system break easily? Is any sensitive information exposed?\n"
   ]
  },
  {
   "cell_type": "markdown",
   "metadata": {},
   "source": [
    "# The Software Crisis\n",
    "\n",
    "Software demand has grown exponentially. Programming alone is not sufficient to keep up with demand. We need software engineering to build efficient, high-quality, reliable large-scale systems.\n",
    "\n",
    "<img src='../images/Screen Shot 2019-04-17 at 7.41.02 AM.png' />\n",
    "\n",
    "<img src='../images/Screen Shot 2019-04-17 at 7.47.03 AM.png' />\n",
    "\n",
    "<img src='../images/Screen Shot 2019-04-17 at 7.45.34 AM.png' />"
   ]
  },
  {
   "cell_type": "markdown",
   "metadata": {},
   "source": [
    "# Evidence of the Software Crisis\n",
    "\n",
    "Software that was delivered but never successfully used and software that was not delivered represented $\\$$5M / $\\$$7M of the money spent on 9 software development contracts.\n",
    "\n",
    "<img src='../images/Screen Shot 2019-04-17 at 7.52.23 AM.png' />\n"
   ]
  },
  {
   "cell_type": "markdown",
   "metadata": {},
   "source": [
    "# Software Development\n",
    "\n",
    "<img src='../images/Screen Shot 2019-04-17 at 8.03.01 AM.png' />\n"
   ]
  },
  {
   "cell_type": "markdown",
   "metadata": {},
   "source": [
    "# Software Process Models\n",
    "\n",
    "<img src='../images/Screen Shot 2019-04-17 at 8.04.24 AM.png' />\n"
   ]
  },
  {
   "cell_type": "markdown",
   "metadata": {},
   "source": [
    "# LOC / Day\n",
    "\n",
    "On average, professional software developers produce around 50 - 100 loc / day. This is because programming is not the only concern. Careful thought is necessary to build systematic, scalable products."
   ]
  },
  {
   "cell_type": "markdown",
   "metadata": {},
   "source": [
    "# Software Phases\n",
    "\n",
    "<img src='../images/Screen Shot 2019-04-17 at 8.11.15 AM.png' />\n"
   ]
  },
  {
   "cell_type": "markdown",
   "metadata": {},
   "source": [
    "# Tools of the Trade\n",
    "\n",
    "<img src='../images/Screen Shot 2019-04-17 at 8.12.56 AM.png' />\n",
    "\n",
    "<img src='../images/Screen Shot 2019-04-17 at 8.13.47 AM.png' />"
   ]
  }
 ],
 "metadata": {
  "kernelspec": {
   "display_name": "Python [conda env:py27]",
   "language": "python",
   "name": "conda-env-py27-py"
  },
  "language_info": {
   "codemirror_mode": {
    "name": "ipython",
    "version": 2
   },
   "file_extension": ".py",
   "mimetype": "text/x-python",
   "name": "python",
   "nbconvert_exporter": "python",
   "pygments_lexer": "ipython2",
   "version": "2.7.15"
  }
 },
 "nbformat": 4,
 "nbformat_minor": 2
}
