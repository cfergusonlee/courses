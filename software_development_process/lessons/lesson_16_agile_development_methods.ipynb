{
 "cells": [
  {
   "cell_type": "markdown",
   "metadata": {},
   "source": [
    "# Lesson Overview\n",
    "\n",
    "When some of the assumptions we've made about software development are no longer valid, we can change the way we look at software processes and the way we look at software development in general. This change in perspective allows us to rethink software processes to make them more agile and better suited for contexts in which changes are the norm and we need to adapt fast.\n",
    "\n",
    "<img src='../images/Screen Shot 2019-07-19 at 9.34.26 AM.png' />"
   ]
  },
  {
   "cell_type": "markdown",
   "metadata": {},
   "source": [
    "# Cost of Change\n",
    "\n",
    "To set the stage, let's retrace the rationale behind the waterfall method in which each phase in the process is executed sequentially. Once a phase is complete, it is not revisited. This makes sense based on Boehm's statement about the cost of change:\n",
    "\n",
    "> \"The cost of change grows exponentially with time.\"\n",
    "\n",
    "\n",
    "\n",
    "<img src='../images/Screen Shot 2019-07-19 at 9.37.33 AM.png' />\n",
    "\n",
    "<img src='../images/Screen Shot 2019-07-19 at 9.43.56 AM.png' />\n",
    "\n",
    "<img src='../images/Screen Shot 2019-07-19 at 9.44.23 AM.png' />\n",
    "\n",
    "## Technology Improvements\n",
    "\n",
    "- Storage Capacity\n",
    "- Speed\n",
    "- Cost\n",
    "- Automation\n",
    "\n",
    "<img src='../images/Screen Shot 2019-07-19 at 9.45.22 AM.png' />\n",
    "\n",
    "<img src='../images/Screen Shot 2019-07-19 at 9.59.28 AM.png' />\n"
   ]
  },
  {
   "cell_type": "markdown",
   "metadata": {},
   "source": [
    "# Agile Software Development\n",
    "\n",
    "<img src='../images/Screen Shot 2019-07-19 at 10.01.08 AM.png' />\n",
    "\n",
    "If cost is flat, upfront work becomes a liability. We want to shorten the development ramp so we can get feedback on what's working and what isn't quickly and iterate.\n",
    "\n",
    "<img src='../images/Screen Shot 2019-07-19 at 10.03.50 AM.png' />\n",
    "\n",
    "Agile methods aim at flat costs and decreasing traditional overhead by following the following principals.\n",
    "\n",
    "<img src='../images/Screen Shot 2019-07-19 at 10.06.24 AM.png' />\n"
   ]
  },
  {
   "cell_type": "markdown",
   "metadata": {},
   "source": [
    "# Extreme Programming (XP)\n",
    "\n",
    "<img src='../images/Screen Shot 2019-07-19 at 10.08.32 AM.png' />\n",
    "\n",
    "- **Lightweight:** Doesn't overburden the developers with an invasive process.\n",
    "\n",
    "- **Humanistic:** Centered on people (developers, customers).\n",
    "\n",
    "- **Discipline:** Includes practices that we need to follow.\n",
    "\n",
    "- **Software Development:** It's about sofware development specifically.\n",
    "\n",
    "<img src='../images/Screen Shot 2019-07-19 at 10.08.55 AM.png' />\n",
    "\n",
    "## Key Concept: XP is About Steering, not Pointing\n",
    "\n",
    "Developing is a lot more like driving a car than navigating a boat. We need to negotiate turns, pay attention to traffic conditions, and keep our eyes on the road. The environment changes rapidly and when we don't accomodate these changes appropriately, we can end up in an accident or drive off the road. We can also end up getting lost if we don't have a clear destination, but immediate concerns are often just as important if not more so than long-term concerns.\n",
    "\n",
    "<img src='../images/Screen Shot 2019-07-19 at 10.13.33 AM.png' />\n",
    "\n",
    "If you had all the time in the world, you would write proper tests, restructure often, speak with fellow programmers and the customer more often. In other words, you'd focus on steering much of the time.\n",
    "\n",
    "<img src='../images/Screen Shot 2019-07-19 at 10.23.08 AM.png' />\n",
    "\n",
    "\n"
   ]
  },
  {
   "cell_type": "markdown",
   "metadata": {},
   "source": [
    "# XP's Values, Principles, and Practices\n",
    "\n",
    "- **Communication:** There is no good project without communication. In general, it's about constantly sharing information.\n",
    "\n",
    "- **Simplicity:** Strive to build the simplest product *that works*. Live for today without worrying too much about tomorrow.\n",
    "\n",
    "- **Feedback:** It occurs at different level and is used to drive change. For example, developers write test cases, which is immediate feedback. If your test cases fail, there's something wrong with the code or there's something that you still haven't developed. Developers also estimate new stories as soon as they get them from the customer. Finally, on a slightly longer time frame, customers and testers develop functional system test cases to assess the overall system. In this case, that's a great way to provide feedback and help communication.\n",
    "\n",
    "- **Courage:** It takes courage to throw away code if it doesn't work, change it if you find a way to improve it, fix it if you find a problem or try out new things if you think they might work better than what you have right now. Now that we can build systems much faster, we can afford to be more brave.\n",
    "\n",
    "<img src='../images/Screen Shot 2019-07-19 at 10.38.08 AM.png' />\n",
    "\n",
    "<img src='../images/Screen Shot 2019-07-19 at 10.38.26 AM.png' />\n"
   ]
  },
  {
   "cell_type": "markdown",
   "metadata": {},
   "source": [
    "# Incremental Planning\n",
    "\n",
    "**Story Cards:** use cases or scenarios that the customer provides.\n",
    "\n",
    "Incremental planning is based on the idea that requirements are recorded on story cards.\n",
    "\n",
    "## Overview\n",
    "\n",
    "Incremental planning is an iterative process that can be broken down into the following steps. \n",
    "\n",
    "1. **Select user stories:** The scenarios that we choose to include depend on the time available and the priority (eg: scenarios that we want to realize right away because they're of particular importance for the customer).\n",
    "\n",
    "2. **Break stories into tasks:** We take the user stories and identify specific development tasks we need to perform in order to realize these stories. \n",
    "\n",
    "3. **Plan release:** Set up timelines.\n",
    "\n",
    "4. **Develop, integrate and test:** This step is iterative. Following the principals of XP, this step is meant to be refined as we gain new information.\n",
    "\n",
    "5. **Release software:** Development -> Staging -> Production\n",
    "\n",
    "6. **Evaluate system and iteration:** The release software is evaluated by software developers and the customer.\n",
    "\n",
    "<img src='../images/Screen Shot 2019-07-19 at 10.55.00 AM.png' />\n",
    "\n"
   ]
  },
  {
   "cell_type": "markdown",
   "metadata": {},
   "source": [
    "# Small Releases\n",
    "\n",
    "## Advantages\n",
    "- Deliver value sooner\n",
    "- Increased customer confidence\n",
    "- Increased customer satisfaction\n",
    "- Increased feedback -> better requirements alignment\n",
    "- Increased sense of accomplishment\n",
    "- Risk reduction\n",
    "- Quicker adaptation to changing requirements\n",
    "\n",
    "<img src='../images/Screen Shot 2019-07-19 at 11.08.37 AM.png' />\n"
   ]
  },
  {
   "cell_type": "markdown",
   "metadata": {},
   "source": [
    "# Simple Design\n",
    "\n",
    "<img src='../images/Screen Shot 2019-07-19 at 1.41.47 PM.png' />\n"
   ]
  },
  {
   "cell_type": "markdown",
   "metadata": {},
   "source": [
    "# Test First Development\n",
    "\n",
    "Create unit tests before functionality is created, but as you write more code, more tests pass.\n",
    "\n",
    "<img src='../images/Screen Shot 2019-07-19 at 1.43.44 PM.png' />\n"
   ]
  },
  {
   "cell_type": "markdown",
   "metadata": {},
   "source": [
    "# Refactoring\n",
    "\n",
    "We take the code we've built and refactor it as soon as the opportunity arises. This is important because our code has evolved to accommodate changing requirements and as that happens, efficiency and structural organization suffers. By refactoring, we're able to accomplish the same goals with increased efficiency and better maintainability.\n",
    "\n",
    "We don't want to refactor on speculation. Instead it should happen in response to changing demand, when the system and process need it.\n",
    "\n",
    "<img src='../images/Screen Shot 2019-07-19 at 1.47.43 PM.png' />\n"
   ]
  },
  {
   "cell_type": "markdown",
   "metadata": {},
   "source": [
    "# Pair Programming\n",
    "\n",
    "Pair programming involves two people working on one machine with one keyboard and mouse. A lot like a spotter and sniper? One developer takes on the role of programmer while the other serves as the strategist. What's working and what's not working?\n",
    "\n",
    "<img src='../images/Screen Shot 2019-07-19 at 1.53.03 PM.png' />\n"
   ]
  },
  {
   "cell_type": "markdown",
   "metadata": {},
   "source": [
    "# Continuous Integration\n",
    "\n",
    "<img src='../images/Screen Shot 2019-07-19 at 1.54.59 PM.png' />\n"
   ]
  },
  {
   "cell_type": "markdown",
   "metadata": {},
   "source": [
    "# On Site Customer\n",
    "\n",
    "The on-site customer is an important part of the development team. They're able to share an important perspective while development is under way. If the project is not worth the time of a single customer to participate in this capacity, it's most likely not worth the time to develop.\n",
    "\n",
    "<img src='../images/Screen Shot 2019-07-19 at 1.56.09 PM.png' />\n"
   ]
  },
  {
   "cell_type": "markdown",
   "metadata": {},
   "source": [
    "# Requirements Engineering\n",
    "\n",
    "Over the course of a 3-month project, around 50-100 story cards may be generated.\n",
    "\n",
    "<img src='../images/Screen Shot 2019-07-19 at 2.00.02 PM.png' />\n",
    "\n",
    "<img src='../images/Screen Shot 2019-07-19 at 2.01.11 PM.png' />\n",
    "\n",
    "<img src='../images/Screen Shot 2019-07-19 at 2.00.48 PM.png' />\n"
   ]
  },
  {
   "cell_type": "markdown",
   "metadata": {},
   "source": [
    "# Testing Strategy\n",
    "\n",
    "<img src='../images/Screen Shot 2019-07-19 at 2.04.32 PM.png' />\n",
    "\n",
    "<img src='../images/Screen Shot 2019-07-19 at 2.05.35 PM.png' />\n"
   ]
  },
  {
   "cell_type": "markdown",
   "metadata": {},
   "source": [
    "# Scrum Intro\n",
    "\n",
    "**Product Owner:** Obvious\n",
    "\n",
    "**Team:** Obvious\n",
    "\n",
    "**Scrum Master:** Responsible for supervising the overall scrum process. He / she removes obstacles, facilitates event, helps with communication, etc.\n",
    "\n",
    "<img src='../images/Screen Shot 2019-07-19 at 2.08.45 PM.png' />\n"
   ]
  },
  {
   "cell_type": "markdown",
   "metadata": {},
   "source": [
    "# High Level Scrum Process\n",
    "\n",
    "**Product backlog:** Single source of requirements for the process. It's a living list and is defined by the product owner.\n",
    "\n",
    "**Sprint planning:** The next increment is defined based on the values, priorities and necessities of the product backlog.\n",
    "\n",
    "**Sprint backlog:** Work order generated during the sprint planning session.\n",
    "\n",
    "**Sprint:** One iteration of the scrum process, composed of:\n",
    "    - Main part (long-term): 2-4 weeks of development\n",
    "      - Several daily scrums: 24 hours\n",
    "        - Beginning of the day\n",
    "        - Discussion of accomplishments since the last meeting\n",
    "        - Generates a todo list for the next meeting\n",
    "        - Obstacle analysis\n",
    "    - Sprint review and retrospective: \n",
    "      - 4 hour meeting \n",
    "      - Discusses the accomplishments of the sprint\n",
    "      - Team discusses issues that were encountered and solved\n",
    "      - Demo of the deliverable\n",
    "      - Product owner will discuss the backlog\n",
    "      - The entire team will decide what to do next\n",
    "    - Potentially shippable product increment:\n",
    "      - Sprint may result in:\n",
    "        - Patch version bump\n",
    "        - Minor version bump\n",
    "        - Major version bump\n",
    "      \n",
    "\n",
    "<img src='../images/Screen Shot 2019-07-19 at 2.12.24 PM.png' />\n"
   ]
  }
 ],
 "metadata": {
  "kernelspec": {
   "display_name": "Python [conda env:ufc]",
   "language": "python",
   "name": "conda-env-ufc-py"
  },
  "language_info": {
   "codemirror_mode": {
    "name": "ipython",
    "version": 3
   },
   "file_extension": ".py",
   "mimetype": "text/x-python",
   "name": "python",
   "nbconvert_exporter": "python",
   "pygments_lexer": "ipython3",
   "version": "3.7.3"
  }
 },
 "nbformat": 4,
 "nbformat_minor": 2
}
