{
 "cells": [
  {
   "cell_type": "markdown",
   "metadata": {},
   "source": [
    "# Gathering Requirements\n",
    "\n",
    "<img src='../images/Screen Shot 2019-04-25 at 10.32.16 AM.png' />\n",
    "\n",
    "<img src='../images/Screen Shot 2019-04-25 at 10.32.27 AM.png' />\n",
    "\n",
    "## Requirements Gathering Exercise\n",
    "\n",
    "**Problem statement:** Software to calculate average length of sentences in an essay.\n",
    "\n",
    "**Follow-up questions:**\n",
    "1. Why is this being created?\n",
    "2. What document format(s) will be used?\n",
    "3. Which section(s) of the document should be included?\n",
    "4. What's the size range for the essays?\n",
    "5. How do they want the output displayed?\n",
    "6. Any other relevant output(s) that should be included?\n",
    "7. Is this a web app or a standalone application?\n",
    "8. If it's a standalone application, which operating systems should be supported?\n",
    "9. What's the longevity of the tool?\n",
    "10. Is a tutorial or help file needed?"
   ]
  },
  {
   "cell_type": "markdown",
   "metadata": {},
   "source": [
    "# Requirements Interview\n",
    "\n",
    "## Investigative Questioning\n",
    "\n",
    "<img src='../images/Screen Shot 2019-04-25 at 10.49.49 AM.png' />\n",
    "\n",
    "<img src='../images/Screen Shot 2019-04-25 at 10.50.12 AM.png' />\n",
    "\n",
    "<img src='../images/Screen Shot 2019-04-25 at 10.50.44 AM.png' />\n",
    "\n",
    "<img src='../images/Screen Shot 2019-04-25 at 10.51.12 AM.png' />\n",
    "\n",
    "<img src='../images/Screen Shot 2019-04-25 at 10.52.11 AM.png' />\n",
    "\n",
    "<img src='../images/Screen Shot 2019-04-25 at 10.52.35 AM.png' />\n",
    "\n",
    "<img src='../images/Screen Shot 2019-04-25 at 10.52.49 AM.png' />\n",
    "\n",
    "<img src='../images/Screen Shot 2019-04-25 at 10.53.16 AM.png' />\n",
    "\n",
    "<img src='../images/Screen Shot 2019-04-25 at 10.53.22 AM.png' />\n",
    "\n",
    "<img src='../images/Screen Shot 2019-04-25 at 10.53.33 AM.png' />\n",
    "\n",
    "<img src='../images/Screen Shot 2019-04-25 at 10.53.53 AM.png' />\n",
    "\n",
    "<img src='../images/Screen Shot 2019-04-25 at 10.54.05 AM.png' />\n"
   ]
  },
  {
   "cell_type": "markdown",
   "metadata": {},
   "source": [
    "## Summary\n",
    "\n",
    "<img src='../images/Screen Shot 2019-04-25 at 11.09.59 AM.png' />\n",
    "\n",
    "<img src='../images/Screen Shot 2019-04-25 at 11.10.05 AM.png' />\n",
    "\n",
    "<img src='../images/Screen Shot 2019-04-25 at 11.10.10 AM.png' />\n",
    "\n",
    "<img src='../images/Screen Shot 2019-04-25 at 11.10.24 AM.png' />\n",
    "\n",
    "<img src='../images/Screen Shot 2019-04-25 at 11.10.28 AM.png' />\n",
    "\n",
    "<img src='../images/Screen Shot 2019-04-25 at 11.10.33 AM.png' />\n",
    "\n",
    "<img src='../images/Screen Shot 2019-04-25 at 11.10.47 AM.png' />\n",
    "\n",
    "<img src='../images/Screen Shot 2019-04-25 at 11.10.39 AM.png' />\n",
    "\n",
    "<img src='../images/Screen Shot 2019-04-25 at 11.11.56 AM.png' />\n",
    "\n",
    "<img src='../images/Screen Shot 2019-04-25 at 11.19.39 AM.png' />\n",
    "\n",
    "<img src='../images/Screen Shot 2019-04-25 at 11.19.52 AM.png' />\n"
   ]
  },
  {
   "cell_type": "markdown",
   "metadata": {},
   "source": [
    "# Wrapup\n",
    "\n",
    "<img src='../images/Screen Shot 2019-04-25 at 11.20.20 AM.png' />\n",
    "\n",
    "<img src='../images/Screen Shot 2019-04-25 at 11.20.32 AM.png' />\n",
    "\n",
    "<img src='../images/Screen Shot 2019-04-25 at 11.20.50 AM.png' />\n",
    "\n",
    "<img src='../images/Screen Shot 2019-04-25 at 11.21.02 AM.png' />\n",
    "\n",
    "<img src='../images/Screen Shot 2019-04-25 at 10.56.08 AM.png' />\n",
    "\n",
    "<img src='../images/Screen Shot 2019-04-25 at 11.01.56 AM.png' />"
   ]
  }
 ],
 "metadata": {
  "kernelspec": {
   "display_name": "Python 3",
   "language": "python",
   "name": "python3"
  },
  "language_info": {
   "codemirror_mode": {
    "name": "ipython",
    "version": 3
   },
   "file_extension": ".py",
   "mimetype": "text/x-python",
   "name": "python",
   "nbconvert_exporter": "python",
   "pygments_lexer": "ipython3",
   "version": "3.7.1"
  }
 },
 "nbformat": 4,
 "nbformat_minor": 2
}
