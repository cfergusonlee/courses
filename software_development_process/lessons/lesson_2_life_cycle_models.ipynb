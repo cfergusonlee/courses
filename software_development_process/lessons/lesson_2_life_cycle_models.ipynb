{
 "cells": [
  {
   "cell_type": "markdown",
   "metadata": {},
   "source": [
    "# Introduction with Barry Boehm\n",
    "\n",
    "### Common Models\n",
    "\n",
    "<img src='../images/Screen Shot 2019-04-22 at 8.42.18 AM.png' />\n",
    "\n",
    "### Common Mistakes\n",
    "\n",
    "<img src='../images/Screen Shot 2019-04-22 at 8.42.30 AM.png' />\n",
    "\n",
    "### Fundamental Questions\n",
    "\n",
    "<img src='../images/Screen Shot 2019-04-22 at 8.45.06 AM.png' />"
   ]
  },
  {
   "cell_type": "markdown",
   "metadata": {},
   "source": [
    "# Traditional Software Phases\n",
    "\n",
    "<img src='../images/Screen Shot 2019-04-22 at 8.46.23 AM.png' />\n"
   ]
  },
  {
   "cell_type": "markdown",
   "metadata": {},
   "source": [
    "# Requirements Engineering\n",
    "\n",
    "**Requirements Engineering:** The process of establishing hte needs of stakeholders that are to be solved by software.\n",
    "\n",
    "Requirements engineering is arguably the most important step in the software development life cycle because of the investment cost involved. The cost of mistakes made in this phase grow exponentially in later phases.\n",
    "\n",
    "It's also important to realize that requirements engineering is an iterative process. It's not uncommon to go back and forth between analysis, specification, management, etc.\n",
    "\n",
    "<img src='../images/Screen Shot 2019-04-22 at 8.48.51 AM.png' />\n"
   ]
  },
  {
   "cell_type": "markdown",
   "metadata": {},
   "source": [
    "# Design\n",
    "\n",
    "**Software Design:** The phase where software requirements are analyzed in order to produce a description of the internal structure and organization of the system. This description will serve as the basis for the construction of the actual system.\n",
    "\n",
    "<img src='../images/Screen Shot 2019-04-22 at 8.59.55 AM.png' />\n"
   ]
  },
  {
   "cell_type": "markdown",
   "metadata": {},
   "source": [
    "# Implementation\n",
    "\n",
    "**Implementation:** The phase where we realize the design of the system we've created.\n",
    "\n",
    "<img src='../images/Screen Shot 2019-04-22 at 9.03.58 AM.png' />\n"
   ]
  },
  {
   "cell_type": "markdown",
   "metadata": {},
   "source": [
    "# Verification and Validation\n",
    "\n",
    "**Verification:** Did we build the right system?\n",
    "\n",
    "**Validation:** Did we build the system properly?\n",
    "\n",
    "<img src='../images/Screen Shot 2019-04-22 at 9.05.52 AM.png' />\n"
   ]
  },
  {
   "cell_type": "markdown",
   "metadata": {},
   "source": [
    "# Maintenance\n",
    "\n",
    "**Maintenance:** The activity that sustains the software product as it develops throughout its lifecycle.\n",
    "\n",
    "**Corrective Maintenance:** performed to identify, isolate, and rectify a fault so that the failed equipment, machine, or system can be restored to an operational condition within the tolerances or limits established for in-service operations.\n",
    "\n",
    "**Perfective Maintenance:** Modification of a software product after delivery to improve performance or maintainability.\n",
    "\n",
    "**Adaptive Maintenance:** Modification of a software product performed after delivery to keep a software product usable in a changed or changing environment.\n",
    "\n",
    "<img src='../images/Screen Shot 2019-04-22 at 9.11.00 AM.png' />\n"
   ]
  },
  {
   "cell_type": "markdown",
   "metadata": {},
   "source": [
    "# Software Process Model Introduction\n",
    "\n",
    "What should we do next and how long should we do it for?\n",
    "\n",
    "<img src='../images/Screen Shot 2019-04-22 at 9.13.00 AM.png' />\n"
   ]
  },
  {
   "cell_type": "markdown",
   "metadata": {},
   "source": [
    "# Waterfall Process\n",
    "\n",
    "<img src='../images/Screen Shot 2019-04-22 at 9.18.47 AM.png' />\n"
   ]
  },
  {
   "cell_type": "markdown",
   "metadata": {},
   "source": [
    "# Spiral Process\n",
    "\n",
    "**Cyclical phases:**\n",
    "1. **Objectives determination and identify alternative solutions:** Requirements are gathered from the customers and the objectives are identified, elaborated and analyzed at the start of every phase. Then alternative solutions possible for the phase are proposed in this quadrant.\n",
    "2. **Identify and resolve Risks:** During the second quadrant all the possible solutions are evaluated to select the best possible solution. Then the risks associated with that solution is identified and the risks are resolved using the best possible strategy. At the end of this quadrant, Prototype is built for the best possible solution.\n",
    "3. **Develop next version of the Product:** During the third quadrant, the identified features are developed and verified through testing. At the end of the third quadrant, the next version of the software is available.\n",
    "4. **Review and plan for the next Phase:** In the fourth quadrant, the Customers evaluate the so far developed version of the software. In the end, planning for the next phase is started.\n",
    "\n",
    "<img src='../images/Screen Shot 2019-04-22 at 9.21.46 AM.png' />\n"
   ]
  },
  {
   "cell_type": "markdown",
   "metadata": {},
   "source": [
    "# Evolutionary Prototyping Process\n",
    "\n",
    "<img src='../images/Screen Shot 2019-04-22 at 9.24.14 AM.png' />\n"
   ]
  },
  {
   "cell_type": "markdown",
   "metadata": {},
   "source": [
    "# Rational Unified Process\n",
    "\n",
    "<img src='../images/Screen Shot 2019-04-22 at 9.25.33 AM.png' />\n"
   ]
  },
  {
   "cell_type": "markdown",
   "metadata": {},
   "source": [
    "# Agile Process\n",
    "\n",
    "<img src='../images/Screen Shot 2019-04-22 at 9.28.41 AM.png' />\n"
   ]
  },
  {
   "cell_type": "markdown",
   "metadata": {},
   "source": [
    "# Choosing a Model\n",
    "\n",
    "<img src='../images/Screen Shot 2019-04-22 at 9.31.14 AM.png' />\n"
   ]
  },
  {
   "cell_type": "markdown",
   "metadata": {},
   "source": [
    "# Lifecycle Documents\n",
    "\n",
    "<img src='../images/Screen Shot 2019-04-22 at 9.35.54 AM.png' />\n"
   ]
  },
  {
   "cell_type": "markdown",
   "metadata": {},
   "source": [
    "# Classic Mistakes: People\n",
    "\n",
    "<img src='../images/Screen Shot 2019-04-22 at 9.42.20 AM.png' />\n"
   ]
  },
  {
   "cell_type": "markdown",
   "metadata": {},
   "source": [
    "# Classic Mistakes: Process\n",
    "\n",
    "<img src='../images/Screen Shot 2019-04-22 at 9.44.07 AM.png' />\n"
   ]
  },
  {
   "cell_type": "markdown",
   "metadata": {},
   "source": [
    "# Classic Mistakes: Product\n",
    "\n",
    "**Gold Plating:** Including more requirements than are necessary for the users. Having more requirements lengthens the project's schedule in an unnecessary way.\n",
    "\n",
    "**Feature Creep:** Adding more and more features to the product that were not initially planned for adds time and budget costs. On average, most products experience 25% growth from the initial requirements engineering phase.\n",
    "\n",
    "**Research != Development:** Straining the limits of your field by developing new algorithms to design your product is not feasible. You are doing too much. This is the metaphor of building the plane while you're flying it.\n",
    "\n",
    "<img src='../images/Screen Shot 2019-04-22 at 9.46.06 AM.png' />\n"
   ]
  },
  {
   "cell_type": "markdown",
   "metadata": {},
   "source": [
    "# Classic Mistakes: Technology\n",
    "\n",
    "**Silver-bullet syndrome:** too much reliance on the advertised benefits of some previously unused technology.\n",
    "\n",
    "**Switching Tools:** introducing new tools in the middle of a product costs time and money. The new tools may have a steep learning curve.\n",
    "\n",
    "**No version control:** It's far too easy to make mistakes, use out of date versions, find a previous working version, etc.\n",
    "\n",
    "<img src='../images/Screen Shot 2019-04-22 at 9.57.42 AM.png' />\n"
   ]
  }
 ],
 "metadata": {
  "kernelspec": {
   "display_name": "Python 3",
   "language": "python",
   "name": "python3"
  },
  "language_info": {
   "codemirror_mode": {
    "name": "ipython",
    "version": 3
   },
   "file_extension": ".py",
   "mimetype": "text/x-python",
   "name": "python",
   "nbconvert_exporter": "python",
   "pygments_lexer": "ipython3",
   "version": "3.7.1"
  }
 },
 "nbformat": 4,
 "nbformat_minor": 2
}
