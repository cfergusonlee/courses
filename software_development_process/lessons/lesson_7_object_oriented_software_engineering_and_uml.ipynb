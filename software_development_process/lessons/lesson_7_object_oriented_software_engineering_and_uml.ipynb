{
 "cells": [
  {
   "cell_type": "markdown",
   "metadata": {},
   "source": [
    "# Object Orientation Introduction\n",
    "\n",
    "Information hiding is a fundamental concept in object oriented programming. This keeps classes modular, which means that one class doesn't need to know how another class works, it only needs access to its end products.\n",
    "\n",
    "<img src='../images/Screen Shot 2019-08-13 at 11.12.01 AM.png' />\n"
   ]
  },
  {
   "cell_type": "markdown",
   "metadata": {},
   "source": [
    "# Objects and Classes\n",
    "\n",
    "- **Object:** A computing unit organized around a collection of states (instance or class variables) and methods (operations). An object is an instance of a class.\n",
    "- **Instance Variables:** A variable defined in a class, for which each instantiated object of the class has a separate copy, or instance.\n",
    "- **Operations:** A set of methods that operate on the state of an object.\n",
    "\n",
    "In traditional object oriented language, we would say that operations are invoked by sending a message to the appropriate object, which is what we normally call a method invocation.\n",
    "\n",
    "<img src='../images/Screen Shot 2019-08-13 at 11.32.20 AM.png' />\n",
    "\n",
    "- **Class:** A blueprint from which an object can be created.\n",
    "\n",
    "\n",
    "Object oriented programming makes software design cleaner, more modular, and hence more maintainable.\n",
    "\n",
    "\n",
    "\n",
    "<img src='../images/Screen Shot 2019-08-13 at 11.34.57 AM.png' />\n"
   ]
  },
  {
   "cell_type": "markdown",
   "metadata": {},
   "source": [
    "# Benefits of OO\n",
    "\n",
    "OOP limits the effects of changes, which helps reduce costs. This makes it easier to modify parts of the system without affecting the entire system.\n",
    "\n",
    "OOP favors code and design reuse. By making the pieces bigger, we can reduce the amount of boilerplate code we need to write.\n",
    "\n",
    "Encapsulation, information hiding, high cohesion and low coupling are prioritized when we use OOP.\n",
    "\n",
    "<img src='../images/Screen Shot 2019-08-13 at 11.46.19 AM.png' />\n"
   ]
  },
  {
   "cell_type": "markdown",
   "metadata": {},
   "source": [
    "# OO Benefits\n",
    "\n",
    "<img src='../images/Screen Shot 2019-08-13 at 11.48.40 AM.png' />\n"
   ]
  },
  {
   "cell_type": "markdown",
   "metadata": {},
   "source": [
    "# OO Analysis History\n",
    "\n",
    "- **Object Model:** Models the objects that exist within software.\n",
    "- **Functional Model:** Models how the functions interact within a software system.\n",
    "- **Control Model:** Models the dynamic aspects of a system and uses state machines to represent how a system would evolve over time.\n",
    "\n",
    "<img src='../images/Screen Shot 2019-08-13 at 11.53.18 AM.png' />\n"
   ]
  },
  {
   "cell_type": "markdown",
   "metadata": {},
   "source": [
    "# OO Analysis Overview\n",
    "\n",
    "Traditional analysis and design techniques were funcitonally oriented. Modern software analysis and design focuses on the data and their relationships, while the functions are defined later and associated with specific objects which are sets of data.\n",
    "\n",
    "OO Analysis starts with a textual description of the problem and underlines the nouns within that description to identify classes. We then underline adjectives to identify the attributes of those classes. We then focus on the active verbs, which give us the operations we need to define for our classes.\n",
    "\n",
    "<img src='../images/Screen Shot 2019-08-13 at 12.41.42 PM.png' />\n"
   ]
  },
  {
   "cell_type": "markdown",
   "metadata": {},
   "source": [
    "# Modeling Classes Example\n",
    "\n",
    "<img src='../images/Screen Shot 2019-08-13 at 12.43.44 PM.png' />\n"
   ]
  },
  {
   "cell_type": "markdown",
   "metadata": {},
   "source": [
    "# Running Example Explanation\n",
    "\n",
    "<img src='../images/Screen Shot 2019-08-13 at 12.46.03 PM.png' />\n"
   ]
  },
  {
   "cell_type": "markdown",
   "metadata": {},
   "source": [
    "# UML Structural Diagrams: Class Diagram\n",
    "\n",
    "<img src='../images/Screen Shot 2019-08-13 at 12.47.15 PM.png' />\n"
   ]
  },
  {
   "cell_type": "markdown",
   "metadata": {},
   "source": [
    "# Class Diagram: Class\n",
    "\n",
    "Class diagrams consist of the following:\n",
    "- Class name\n",
    "- Attributes\n",
    "- Operations\n",
    "\n",
    "Private attributes and operations use (-) for bullets, and public ones use (+).\n",
    "\n",
    "<img src='../images/Screen Shot 2019-08-13 at 12.48.50 PM.png' />\n",
    "\n",
    "<img src='../images/Screen Shot 2019-08-13 at 1.03.18 PM.png' />\n",
    "\n",
    "<img src='../images/Screen Shot 2019-08-13 at 12.56.22 PM.png' />\n"
   ]
  },
  {
   "cell_type": "markdown",
   "metadata": {},
   "source": [
    "# Class Diagram: Attributes\n",
    "\n",
    "<img src='../images/Screen Shot 2019-08-13 at 1.06.05 PM.png' />\n"
   ]
  },
  {
   "cell_type": "markdown",
   "metadata": {},
   "source": [
    "# Class Diagram: Operations\n",
    "\n",
    "Just because a verb is tied to a noun in the class diagram does not necessarily mean that the corresponding object will perform that operation in the software.\n",
    "\n",
    "<img src='../images/Screen Shot 2019-08-13 at 1.07.23 PM.png' />\n",
    "\n",
    "<img src='../images/Screen Shot 2019-08-13 at 1.10.03 PM.png' />"
   ]
  },
  {
   "cell_type": "markdown",
   "metadata": {},
   "source": [
    "# Class Diagram: Relationships\n",
    "\n",
    "<img src='../images/Screen Shot 2019-08-13 at 1.12.08 PM.png' />\n"
   ]
  },
  {
   "cell_type": "markdown",
   "metadata": {},
   "source": [
    "# Class Diagram Relationships Quiz\n",
    "\n",
    "<img src='../images/Screen Shot 2019-08-13 at 1.15.18 PM.png' />\n"
   ]
  },
  {
   "cell_type": "markdown",
   "metadata": {},
   "source": [
    "# Class Diagram: Dependency Relationship\n",
    "\n",
    "<img src='../images/Screen Shot 2019-08-13 at 3.08.15 PM.png' />"
   ]
  },
  {
   "cell_type": "code",
   "execution_count": 28,
   "metadata": {},
   "outputs": [
    {
     "name": "stdout",
     "output_type": "stream",
     "text": [
      "../images/Screen Shot 2019-08-13 at 1.03.18 PM.png\n",
      "../images/Screen Shot 2019-08-13 at 1.04.49 PM.png\n",
      "../images/Screen Shot 2019-08-13 at 1.06.05 PM.png\n",
      "../images/Screen Shot 2019-08-13 at 1.07.23 PM.png\n",
      "../images/Screen Shot 2019-08-13 at 1.10.03 PM.png\n",
      "../images/Screen Shot 2019-08-13 at 1.12.08 PM.png\n",
      "../images/Screen Shot 2019-08-13 at 1.15.18 PM.png\n",
      "../images/Screen Shot 2019-08-13 at 11.12.01 AM.png\n",
      "../images/Screen Shot 2019-08-13 at 11.32.20 AM.png\n",
      "../images/Screen Shot 2019-08-13 at 11.34.57 AM.png\n",
      "../images/Screen Shot 2019-08-13 at 11.46.19 AM.png\n",
      "../images/Screen Shot 2019-08-13 at 11.48.40 AM.png\n",
      "../images/Screen Shot 2019-08-13 at 11.53.18 AM.png\n",
      "../images/Screen Shot 2019-08-13 at 12.41.42 PM.png\n",
      "../images/Screen Shot 2019-08-13 at 12.43.44 PM.png\n",
      "../images/Screen Shot 2019-08-13 at 12.46.03 PM.png\n",
      "../images/Screen Shot 2019-08-13 at 12.47.15 PM.png\n",
      "../images/Screen Shot 2019-08-13 at 12.48.50 PM.png\n",
      "../images/Screen Shot 2019-08-13 at 12.56.22 PM.png\n",
      "../images/Screen Shot 2019-08-13 at 3.08.15 PM.png\n",
      "../images/Screen Shot 2019-08-13 at 3.21.35 PM.png\n"
     ]
    }
   ],
   "source": [
    "!ls ../images/*2019-08-13*"
   ]
  },
  {
   "cell_type": "markdown",
   "metadata": {},
   "source": [
    "# Class Diagram: Association & Aggregation Relationships\n",
    "\n",
    "**Association:** 'has a' relationship\n",
    "\n",
    "<img src='../images/Screen Shot 2019-08-13 at 3.21.35 PM.png' />\n",
    "\n",
    "**Aggregation:** 'is a' relationship\n",
    "\n",
    "\n",
    "<img src='../images/' />"
   ]
  },
  {
   "cell_type": "markdown",
   "metadata": {},
   "source": [
    "# \n",
    "\n",
    "<img src='../images/' />\n",
    "\n",
    "<img src='../images/' />"
   ]
  },
  {
   "cell_type": "markdown",
   "metadata": {},
   "source": [
    "# \n",
    "\n",
    "<img src='../images/' />\n",
    "\n",
    "<img src='../images/' />"
   ]
  },
  {
   "cell_type": "markdown",
   "metadata": {},
   "source": [
    "# \n",
    "\n",
    "<img src='../images/' />\n",
    "\n",
    "<img src='../images/' />"
   ]
  },
  {
   "cell_type": "markdown",
   "metadata": {},
   "source": [
    "# \n",
    "\n",
    "<img src='../images/' />\n",
    "\n",
    "<img src='../images/' />"
   ]
  },
  {
   "cell_type": "markdown",
   "metadata": {},
   "source": [
    "# \n",
    "\n",
    "<img src='../images/' />\n",
    "\n",
    "<img src='../images/' />"
   ]
  },
  {
   "cell_type": "markdown",
   "metadata": {},
   "source": [
    "# \n",
    "\n",
    "<img src='../images/' />\n",
    "\n",
    "<img src='../images/' />"
   ]
  },
  {
   "cell_type": "markdown",
   "metadata": {},
   "source": [
    "# \n",
    "\n",
    "<img src='../images/' />\n",
    "\n",
    "<img src='../images/' />"
   ]
  },
  {
   "cell_type": "markdown",
   "metadata": {},
   "source": [
    "# \n",
    "\n",
    "<img src='../images/' />\n",
    "\n",
    "<img src='../images/' />"
   ]
  }
 ],
 "metadata": {
  "kernelspec": {
   "display_name": "Python 3",
   "language": "python",
   "name": "python3"
  },
  "language_info": {
   "codemirror_mode": {
    "name": "ipython",
    "version": 3
   },
   "file_extension": ".py",
   "mimetype": "text/x-python",
   "name": "python",
   "nbconvert_exporter": "python",
   "pygments_lexer": "ipython3",
   "version": "3.7.3"
  }
 },
 "nbformat": 4,
 "nbformat_minor": 4
}
