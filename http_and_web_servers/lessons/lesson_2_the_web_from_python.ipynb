{
 "cells": [
  {
   "cell_type": "markdown",
   "metadata": {},
   "source": [
    "# Learning Objectives\n",
    "\n",
    "\n",
    "- Practice with http.server Python's module.\n",
    "- Use encode() to send data from the server.\n",
    "- Explain queries and quoting as a way to send data in a request.\n",
    "- Differentiate a GET Request and a POST Request.\n",
    "- Demonstrate Post-Redirect-Get\n",
    "- Define JSON"
   ]
  },
  {
   "cell_type": "markdown",
   "metadata": {},
   "source": [
    "# \n",
    "\n",
    "<img src='../images/' />\n",
    "\n",
    "<img src='../images/' />"
   ]
  },
  {
   "cell_type": "markdown",
   "metadata": {},
   "source": [
    "# \n",
    "\n",
    "<img src='../images/' />\n",
    "\n",
    "<img src='../images/' />"
   ]
  },
  {
   "cell_type": "markdown",
   "metadata": {},
   "source": [
    "# \n",
    "\n",
    "<img src='../images/' />\n",
    "\n",
    "<img src='../images/' />"
   ]
  },
  {
   "cell_type": "markdown",
   "metadata": {},
   "source": [
    "# \n",
    "\n",
    "<img src='../images/' />\n",
    "\n",
    "<img src='../images/' />"
   ]
  },
  {
   "cell_type": "markdown",
   "metadata": {},
   "source": [
    "# \n",
    "\n",
    "<img src='../images/' />\n",
    "\n",
    "<img src='../images/' />"
   ]
  },
  {
   "cell_type": "markdown",
   "metadata": {},
   "source": [
    "# \n",
    "\n",
    "<img src='../images/' />\n",
    "\n",
    "<img src='../images/' />"
   ]
  },
  {
   "cell_type": "markdown",
   "metadata": {},
   "source": [
    "# \n",
    "\n",
    "<img src='../images/' />\n",
    "\n",
    "<img src='../images/' />"
   ]
  },
  {
   "cell_type": "markdown",
   "metadata": {},
   "source": [
    "# \n",
    "\n",
    "<img src='../images/' />\n",
    "\n",
    "<img src='../images/' />"
   ]
  },
  {
   "cell_type": "markdown",
   "metadata": {},
   "source": [
    "# \n",
    "\n",
    "<img src='../images/' />\n",
    "\n",
    "<img src='../images/' />"
   ]
  },
  {
   "cell_type": "markdown",
   "metadata": {},
   "source": [
    "# \n",
    "\n",
    "<img src='../images/' />\n",
    "\n",
    "<img src='../images/' />"
   ]
  },
  {
   "cell_type": "markdown",
   "metadata": {},
   "source": [
    "# \n",
    "\n",
    "<img src='../images/' />\n",
    "\n",
    "<img src='../images/' />"
   ]
  },
  {
   "cell_type": "markdown",
   "metadata": {},
   "source": [
    "# \n",
    "\n",
    "<img src='../images/' />\n",
    "\n",
    "<img src='../images/' />"
   ]
  }
 ],
 "metadata": {
  "kernelspec": {
   "display_name": "Python [conda env:py27]",
   "language": "python",
   "name": "conda-env-py27-py"
  },
  "language_info": {
   "codemirror_mode": {
    "name": "ipython",
    "version": 2
   },
   "file_extension": ".py",
   "mimetype": "text/x-python",
   "name": "python",
   "nbconvert_exporter": "python",
   "pygments_lexer": "ipython2",
   "version": "2.7.15"
  }
 },
 "nbformat": 4,
 "nbformat_minor": 2
}
