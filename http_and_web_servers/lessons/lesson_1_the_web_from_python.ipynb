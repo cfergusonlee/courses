{
 "cells": [
  {
   "cell_type": "markdown",
   "metadata": {},
   "source": [
    "# Learning Objectives\n",
    "- Practice with some of the software tools you will need to use to become a Web Developer.\n",
    "- Define the HTTP protocol.\n",
    "- Analyze the parts of URI\n",
    "- Describe the behavior of the GET Requests\n",
    "- Describe the behavior of the HTTP Responses.\n",
    "\n",
    "<img src='../images/Screen Shot 2019-04-17 at 1.32.37 PM.png' />"
   ]
  },
  {
   "cell_type": "markdown",
   "metadata": {},
   "source": [
    "# Your first Web Server\n",
    "\n",
    "**Server:** a program that uses HTTP (Hypertext Transfer Protocol) to serve the files that form Web pages to users, in response to their requests, which are forwarded by their computers' HTTP clients.\n",
    "\n",
    "When you start a server program, it waits for clients to connect to it — like the demo server waiting for your web browser to ask it for a page. Then when a connection comes in, the server runs a piece of code — like calling a function — to handle each incoming connection. A connection in this sense is like a phone call: it's a channel through which the client and server can talk to each other. Web clients send requests over these connections, and servers send responses back.\n",
    "\n",
    "**Webclient:** a piece of computer hardware or software that accesses a service made available by a server.\n",
    "\n",
    "**Request:** a component of a network packet sent by a browser or client to the server to request for a specific page or data on the Web server.\n"
   ]
  },
  {
   "cell_type": "markdown",
   "metadata": {},
   "source": [
    "# Parts of a URI\n",
    "\n",
    "**URI (Uniform Resource Identifier):** a sequence of characters that identifies a logical or physical resource.\n",
    "\n",
    "Ex: `https://en.wikipedia.org/wiki/Fish`\n",
    "- `https` is the **scheme:** it tells the client how to go about accessing the resource (ex: http, https, file, mailto, data, magnet). Schemes are always followed by `:`.\n",
    "- `en.wikipedia.org` is the **hostname:** it tells the client which server to connect to. The `//` always goes before the hostname.\n",
    "- `/wiki/Fish` is the **path:** it identifies a particular resource on a server. Same as directory structure on a computer.\n",
    "\n",
    "\n",
    "Ex: `https://en.wikipedia.org/wiki/Oxygen#Discovery`\n",
    "- `Discovery` is called the **fragment**: it lets a link point to a specific named part of a resource.\n",
    "\n",
    "\n",
    "Ex: `https://www.google.com/search?q=fish`\n",
    "- `?q=fish` the **query** (PHP) gets sent to the server."
   ]
  },
  {
   "cell_type": "markdown",
   "metadata": {},
   "source": [
    "# Hostnames and Ports\n",
    "\n",
    "**Domain Name System:** a hierarchical and decentralized naming system for computers, services, or other resources connected to the Internet or a private network. It associates various information with domain names assigned to each of the participating entities.\n",
    "\n",
    "**IP address:** a unique string of numbers separated by periods that identifies a computer on a network. The browser uses the hostname to find the appropriate IP address and port number to connect your client to the server.\n",
    "\n",
    "IP addresses come in two different varieties: the older IPv4 and the newer IPv6. When you see an address like 127.0.0.1 or 216.58.194.164, those are IPv4 addresses. IPv6 addresses are much longer, such as 2607:f8b0:4005:804::2004, although they can also be abbreviated.\n",
    "\n",
    "**Port number:** identifies a program on a computer on the network.\n",
    "\n",
    "When you told your browser to connect to the demo server, you gave it the URI http://localhost:8000/. This URI has a port number of 8000. But most of the web addresses you see in the wild don't have a port number on them. This is because the client usually figures out the port number from the URI scheme.\n",
    "\n",
    "For instance, HTTP URIs imply a port number of 80, whereas HTTPS URIs imply a port number of 443. Your Python demo web server is running on port 8000. Since this isn't the default port, you have to write the port number in URIs for it.\n",
    "\n",
    "<img src='../images/Screen Shot 2019-04-17 at 2.42.19 PM.png' />"
   ]
  },
  {
   "cell_type": "markdown",
   "metadata": {},
   "source": [
    "# HTTP GET Requests\n",
    "\n",
    "Below are the most common HTTP verbs.\n",
    "\n",
    "<img src='../images/Screen Shot 2019-04-17 at 3.01.38 PM.png' />\n",
    "\n",
    "<img src='../images/Screen Shot 2019-04-17 at 3.01.52 PM.png' />\n"
   ]
  },
  {
   "cell_type": "markdown",
   "metadata": {},
   "source": [
    "# HTTP Responses\n",
    "\n",
    "<img src='../images/Screen Shot 2019-04-17 at 3.21.04 PM.png' />\n",
    "\n",
    "- **Status line:** the first line of text that the server sends back.\n",
    "- **Headers:** the other lines up until the first blank line.\n",
    "- **Response Body:** the rest — in this case, it's a piece of HTML.\n",
    "\n",
    "### Status Line\n",
    "\n",
    "In the response you got from your demo server, the status line said HTTP/1.0 200 OK. In the one from Google, it says HTTP/1.1 301 Moved Permanently. The status line tells the client whether the server understood the request, whether the server has the resource the client asked for, and how to proceed next. It also tells the client which dialect of HTTP the server is speaking.\n",
    "\n",
    "The numbers 200 and 301 here are HTTP status codes. There are dozens of different status codes. The first digit of the status code indicates the general success of the request. As a shorthand, web developers describe all of the codes starting with 2 as \"2xx\" codes, for instance — the x's mean \"any digit\". Here's a more complete list of [status codes](https://www.w3.org/Protocols/rfc2616/rfc2616-sec10.html).\n",
    "\n",
    "- 1xx — Informational. The request is in progress or there's another step to take.\n",
    "- 2xx — Success! The request succeeded. The server is sending the data the client asked for.\n",
    "- 3xx — Redirection. The server is telling the client a different URI it should redirect to. The headers will usually contain a Location header with the updated URI. Different codes tell the client whether a redirect is permanent or temporary.\n",
    "- 4xx — Client error. The server didn't understand the client's request, or can't or won't fill it. Different codes tell the client whether it was a bad URI, a permissions problem, or another sort of error.\n",
    "- 5xx — Server error. Something went wrong on the server side.\n",
    "\n",
    "### Headers\n",
    "An HTTP response can include many headers. Each header is a line that starts with a keyword, such as Location or Content-type, followed by a colon and a value. Headers are a sort of metadata for the response. They aren't displayed by browsers or other clients; instead, they tell the client various information about the response.\n",
    "\n",
    "Many, many features of the Web are implemented using headers. For instance, cookies are a Web feature that lets servers store data on the browser, for instance to keep a user logged in. To set a cookie, the server sends the Set-Cookie header. The browser will then send the cookie data back in a Cookie header on subsequent requests. You'll see more about cookies later in this course.\n",
    "\n",
    "### Response body\n",
    "The headers end with a blank line. Everything after that blank line is part of the response body. If the request was successful (a 200 OK status, for instance), this is a copy of whatever resource the client asked for — such as a web page, image, or other pieces of data.\n",
    "\n",
    "But in the case of an error, the response body is where the error message goes! If you request a page that doesn't exist, and you get a 404 Not Found error, the actual error message shows up in the response body.\n"
   ]
  },
  {
   "cell_type": "code",
   "execution_count": null,
   "metadata": {},
   "outputs": [],
   "source": []
  }
 ],
 "metadata": {
  "kernelspec": {
   "display_name": "Python 3",
   "language": "python",
   "name": "python3"
  },
  "language_info": {
   "codemirror_mode": {
    "name": "ipython",
    "version": 3
   },
   "file_extension": ".py",
   "mimetype": "text/x-python",
   "name": "python",
   "nbconvert_exporter": "python",
   "pygments_lexer": "ipython3",
   "version": "3.7.1"
  }
 },
 "nbformat": 4,
 "nbformat_minor": 2
}
