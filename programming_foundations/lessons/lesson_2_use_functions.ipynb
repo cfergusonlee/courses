{
 "cells": [
  {
   "cell_type": "markdown",
   "metadata": {},
   "source": [
    "# Abstraction Exercise\n",
    "\n",
    "Below is one approach for renaming a group of files on your computer:\n",
    "\n",
    "1. Access the directory\n",
    "2. Iterate through the files in the directory\n",
    "    1. Use a regex to find and replace numbers in the filename with the empty string\n",
    "    2. Rename each file"
   ]
  },
  {
   "cell_type": "code",
   "execution_count": null,
   "metadata": {},
   "outputs": [],
   "source": []
  }
 ],
 "metadata": {
  "kernelspec": {
   "display_name": "Python [conda env:py27]",
   "language": "python",
   "name": "conda-env-py27-py"
  },
  "language_info": {
   "codemirror_mode": {
    "name": "ipython",
    "version": 2
   },
   "file_extension": ".py",
   "mimetype": "text/x-python",
   "name": "python",
   "nbconvert_exporter": "python",
   "pygments_lexer": "ipython2",
   "version": "2.7.15"
  }
 },
 "nbformat": 4,
 "nbformat_minor": 2
}
