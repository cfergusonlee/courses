{
 "cells": [
  {
   "cell_type": "markdown",
   "metadata": {},
   "source": [
    "# Zoo Schema\n",
    "\n",
    "## Reference\n",
    "For reference, here's a list of all the tables in the zoo database:\n",
    "\n",
    "### animals\n",
    "This table lists individual animals in the zoo. Each animal has only one row. There may be multiple animals with the same name, or even multiple animals with the same name and species.\n",
    "- name — the animal's name (example: 'George')\n",
    "- species — the animal's species (example: 'gorilla')\n",
    "- birthdate — the animal's date of birth (example: '1998-05-18')\n",
    "\n",
    "### diet\n",
    "This table matches up species with the foods they eat. Every species in the zoo eats at least one sort of food, and many eat more than one. If a species eats more than one food, there will be more than one row for that species.\n",
    "- species — the name of a species (example: 'hyena')\n",
    "- food — the name of a food that species eats (example: 'meat')\n",
    "\n",
    "### taxonomy\n",
    "This table gives the (partial) biological taxonomic names for each species in the zoo. It can be used to find which species are more closely related to each other evolutionarily.\n",
    "- name — the common name of the species (e.g. 'jackal')\n",
    "- species — the taxonomic species name (e.g. 'aureus')\n",
    "- genus — the taxonomic genus name (e.g. 'Canis')\n",
    "- family — the taxonomic family name (e.g. 'Canidae')\n",
    "- t_order — the taxonomic order name (e.g. 'Carnivora')\n",
    "If you've never heard of this classification, don't worry about it; the details won't be necessary for this course. But if you're curious, Wikipedia articles Taxonomy and Biological classification may help.\n",
    "\n",
    "### ordernames\n",
    "This table gives the common names for each of the taxonomic orders in the taxonomy table.\n",
    "- t_order — the taxonomic order name (e.g. 'Cetacea')\n",
    "- name — the common name (e.g. 'whales and dolphins')\n",
    "\n",
    "## The SQL for it\n",
    "And here are the SQL commands that were used to create those tables. We won't cover the create table command until lesson 4, but it may be interesting to look at:\n",
    "\n",
    "```sql\n",
    "create table animals (  \n",
    "       name text,\n",
    "       species text,\n",
    "       birthdate date);\n",
    "\n",
    "create table diet (\n",
    "       species text,\n",
    "       food text);  \n",
    "\n",
    "create table taxonomy (\n",
    "       name text,\n",
    "       species text,\n",
    "       genus text,\n",
    "       family text,\n",
    "       t_order text); \n",
    "\n",
    "create table ordernames (\n",
    "       t_order text,\n",
    "       name text);\n",
    "```"
   ]
  },
  {
   "cell_type": "markdown",
   "metadata": {},
   "source": [
    "# Why Do it in the Database?\n",
    "\n",
    "<img src='../images/Screen Shot 2019-04-02 at 9.20.32 AM.png' />"
   ]
  },
  {
   "cell_type": "markdown",
   "metadata": {},
   "source": [
    "# Restricting After Aggregating\n",
    "\n",
    "<img src='../images/Screen Shot 2019-04-02 at 9.35.15 AM.png' />\n"
   ]
  }
 ],
 "metadata": {
  "kernelspec": {
   "display_name": "Python [conda env:py27]",
   "language": "python",
   "name": "conda-env-py27-py"
  },
  "language_info": {
   "codemirror_mode": {
    "name": "ipython",
    "version": 2
   },
   "file_extension": ".py",
   "mimetype": "text/x-python",
   "name": "python",
   "nbconvert_exporter": "python",
   "pygments_lexer": "ipython2",
   "version": "2.7.15"
  }
 },
 "nbformat": 4,
 "nbformat_minor": 2
}
