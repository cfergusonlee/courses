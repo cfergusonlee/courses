{
 "cells": [
  {
   "cell_type": "markdown",
   "metadata": {},
   "source": [
    "# What's a DB-API\n",
    "\n",
    "<img src='../images/Screen Shot 2019-04-03 at 12.35.16 PM.png'/>\n",
    "\n",
    "<img src='../images/Screen Shot 2019-04-03 at 12.38.13 PM.png'/>"
   ]
  },
  {
   "cell_type": "markdown",
   "metadata": {},
   "source": [
    "# Writing Code with DB API\n",
    "\n",
    "After importing the SQL library, we connect to our database. After connecting to the db, we create a cursor object that is used to interact with our database. We use the cursor to execute queries and fetch results. If we wanted to insert into the database, we need to run the commit() command to save our results to the database. If we make an error after commiting, we can use the rollback() command to undo the changes we've made.\n",
    "\n",
    "<img src='../images/Screen Shot 2019-04-03 at 12.39.35 PM.png'/>\n"
   ]
  },
  {
   "cell_type": "code",
   "execution_count": 6,
   "metadata": {},
   "outputs": [
    {
     "name": "stdout",
     "output_type": "stream",
     "text": [
      "blah blah blah (some text)\n",
      "blah blah blah (some text)\n"
     ]
    }
   ],
   "source": [
    "test_1 = \"blah blah blah (%s)\" % \"some text\"\n",
    "test_2 = \"blah blah blah (%s)\" % (\"some text\",)\n",
    "print test_1\n",
    "print test_2"
   ]
  },
  {
   "cell_type": "code",
   "execution_count": 3,
   "metadata": {},
   "outputs": [
    {
     "name": "stdout",
     "output_type": "stream",
     "text": [
      "Let's try some content: ('some variable',)\n"
     ]
    }
   ],
   "source": [
    "content = ('some variable',)\n",
    "print(f\"Let's try some content: {content}\")"
   ]
  },
  {
   "cell_type": "code",
   "execution_count": 11,
   "metadata": {},
   "outputs": [
    {
     "name": "stdout",
     "output_type": "stream",
     "text": [
      "Help on built-in function format:\n",
      "\n",
      "format(...)\n",
      "    S.format(*args, **kwargs) -> string\n",
      "    \n",
      "    Return a formatted version of S, using substitutions from args and kwargs.\n",
      "    The substitutions are identified by braces ('{' and '}').\n",
      "\n"
     ]
    }
   ],
   "source": [
    "help(\"blah\".format)"
   ]
  },
  {
   "cell_type": "code",
   "execution_count": 5,
   "metadata": {
    "scrolled": true
   },
   "outputs": [
    {
     "name": "stdout",
     "output_type": "stream",
     "text": [
      "testing out (('some variable',))\n"
     ]
    }
   ],
   "source": [
    "content = 'some variable'\n",
    "print(\"testing out ({!s})\".format((content,)))"
   ]
  },
  {
   "cell_type": "markdown",
   "metadata": {},
   "source": [
    "# Inserts in DB API\n",
    "\n",
    "<img src='../images/Screen Shot 2019-04-03 at 12.57.41 PM.png'/>\n",
    "\n",
    "<img src='../images/Screen Shot 2019-04-03 at 12.58.05 PM.png'/>\n",
    "\n",
    "<img src='../images/Screen Shot 2019-04-03 at 12.58.22 PM.png'/>\n",
    "\n",
    "<img src='../images/Screen Shot 2019-04-04 at 6.58.34 AM.png'/>\n",
    "\n",
    "<img src='../images/Screen Shot 2019-04-04 at 6.58.43 AM.png'/>\n",
    "\n",
    "<img src='../images/Screen Shot 2019-04-04 at 6.58.54 AM.png'/>"
   ]
  },
  {
   "cell_type": "markdown",
   "metadata": {},
   "source": [
    "# Hello PostgreSQL\n",
    "\n",
    "The `psql` command-line tool is really powerful. There's a complete reference to it in the [PostgreSQL documentation](http://www.postgresql.org/docs/9.4/static/app-psql.html).\n",
    "\n",
    "To connect `psql` to a database running on the same machine (such as your VM), all you need to give it is the database name. For instance, the command `psql forum` will connect to the `forum` database.\n",
    "\n",
    "From within `psql`, you can run any SQL statement using the tables in the connected database. Make sure to use single quotes and end SQL statements with a semicolon, which is not always required from Python.\n",
    "\n",
    "You can also use a number of special `psql` commands to get information about the database and make configuration changes. The `\\d posts` command shown in the video is one example — this displays the columns of the `posts` table.\n",
    "\n",
    "Some other things you can do:\n",
    "\n",
    "`\\dt` — list all the tables in the database.\n",
    "\n",
    "`\\dt+` — list tables plus additional information (notably, how big each table is on disk).\n",
    "\n",
    "`\\H` — switch between printing tables in plain text vs. HTML.\n",
    "\n",
    "Here's a fun one to run in `psql` while your forum web app is running:\n",
    "\n",
    "`select * from posts \\watch`\n",
    "\n",
    "(Note that `\\watch` replaces the semicolon.) This will display the contents of the `posts` table and refresh it every two seconds, so you can see changes to the table as you use the app.\n",
    "\n",
    "In order to do this, you'll need two terminal sessions into your VM — one running the forum app, and the other running `psql`. You can connect to the VM from any number of terminal windows at once — just open up another terminal, change to the `vagrant` directory, and type `vagrant ssh` again."
   ]
  },
  {
   "cell_type": "markdown",
   "metadata": {},
   "source": [
    "# SQL Injection Attacks and Sanitation\n",
    "\n",
    "<img src='../images/Screen Shot 2019-04-04 at 8.34.47 AM.png'/>\n",
    "\n",
    "<img src='../images/Screen Shot 2019-04-04 at 8.35.06 AM.png'/>"
   ]
  },
  {
   "cell_type": "markdown",
   "metadata": {},
   "source": [
    "# Script Injection Attacks\n",
    "\n",
    "<img src='../images/Screen Shot 2019-04-04 at 11.53.11 AM.png'/>\n"
   ]
  },
  {
   "cell_type": "markdown",
   "metadata": {},
   "source": [
    "# HTML Sanitation\n",
    "\n",
    "<img src='../images/Screen Shot 2019-04-04 at 11.56.26 AM.png'/>\n",
    "\n",
    "<img src='../images/Screen Shot 2019-04-04 at 11.56.38 AM.png'/>"
   ]
  },
  {
   "cell_type": "markdown",
   "metadata": {},
   "source": [
    "# Input vs Output Sanitization\n",
    "\n",
    "- **Input Sanitization:** Sanitizing input data before it crosses a trust boundary.\n",
    "- **Output Sanitization:** Sanitizing input data after it crosses a trust boundary.\n",
    "\n",
    "There are arguments for both. It's easier to prevent malicious from entering the database than it is to remove it after the fact, but there are still reasons for performing output sanitization. For instance, harmful code may already be present or we may want to pinpoint which user(s) did the damage.\n",
    "\n",
    "<img src='../images/Screen Shot 2019-04-04 at 11.59.42 AM.png'/>\n"
   ]
  },
  {
   "cell_type": "markdown",
   "metadata": {},
   "source": [
    "# Updating Away the Spam\n",
    "\n",
    "<img src='../images/Screen Shot 2019-04-04 at 12.08.32 PM.png'/>\n",
    "\n",
    "<img src='../images/Screen Shot 2019-04-04 at 12.24.44 PM.png'/>"
   ]
  }
 ],
 "metadata": {
  "kernelspec": {
   "display_name": "Python [conda env:py27]",
   "language": "python",
   "name": "conda-env-py27-py"
  },
  "language_info": {
   "codemirror_mode": {
    "name": "ipython",
    "version": 2
   },
   "file_extension": ".py",
   "mimetype": "text/x-python",
   "name": "python",
   "nbconvert_exporter": "python",
   "pygments_lexer": "ipython2",
   "version": "2.7.15"
  }
 },
 "nbformat": 4,
 "nbformat_minor": 2
}
