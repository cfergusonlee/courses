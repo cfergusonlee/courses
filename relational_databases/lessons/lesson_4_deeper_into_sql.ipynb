{
 "cells": [
  {
   "cell_type": "markdown",
   "metadata": {},
   "source": [
    "# Normalized Design\n",
    "\n",
    "<img src='../images/Screen Shot 2019-04-05 at 12.41.31 PM.png' />\n",
    "\n",
    "<img src='../images/Screen Shot 2019-04-05 at 12.43.17 PM.png' />\n",
    "\n",
    "<img src='../images/Screen Shot 2019-04-05 at 12.47.46 PM.png' />\n",
    "\n",
    "<img src='../images/Screen Shot 2019-04-05 at 12.44.53 PM.png' />\n",
    "\n",
    "<img src='../images/Screen Shot 2019-04-05 at 12.45.25 PM.png' />\n",
    "\n",
    "<img src='../images/Screen Shot 2019-04-05 at 12.46.34 PM.png' />\n",
    "\n",
    "<img src='../images/Screen Shot 2019-04-05 at 12.47.20 PM.png' />\n",
    "\n",
    "<img src='../images/Screen Shot 2019-04-05 at 12.47.36 PM.png' />"
   ]
  },
  {
   "cell_type": "markdown",
   "metadata": {},
   "source": [
    "# Create Table and Types\n",
    "\n",
    "<img src='../images/Screen Shot 2019-04-05 at 12.55.31 PM.png' />\n",
    "\n",
    "<img src='../images/Screen Shot 2019-04-05 at 12.55.56 PM.png' />\n",
    "\n",
    "<img src='../images/Screen Shot 2019-04-05 at 12.59.03 PM.png' />\n",
    "\n",
    "It's best practice to create all tables upfront during database creation in SQL rather than in the app. While it's possible to create tables with Python, it is not a standard workflow. The database is part of the code, but it's a part written in SQL rather than in Python.\n",
    "\n",
    "<img src='../images/Screen Shot 2019-04-05 at 12.59.31 PM.png' />\n",
    "\n",
    "There are occasions where you'd want to create tables from within your application's code. For instance, this can be a handy way to have it set itself up when you first run it. (That's what your browser does when it creates your cookies file, for instance.)"
   ]
  },
  {
   "cell_type": "markdown",
   "metadata": {},
   "source": [
    "# Creating and Dropping\n",
    "\n",
    "<img src='../images/Screen Shot 2019-04-05 at 1.09.08 PM.png' />\n",
    "\n",
    "<img src='../images/Screen Shot 2019-04-05 at 1.09.29 PM.png' />\n",
    "\n",
    "<img src='../images/Screen Shot 2019-04-05 at 1.09.44 PM.png' />\n",
    "\n",
    "<img src='../images/Screen Shot 2019-04-05 at 1.32.10 PM.png' />\n"
   ]
  },
  {
   "cell_type": "markdown",
   "metadata": {},
   "source": [
    "# Declaring Primary Keys\n",
    "\n",
    "<img src='../images/Screen Shot 2019-04-05 at 1.32.44 PM.png' />\n",
    "\n",
    "<img src='../images/Screen Shot 2019-04-05 at 1.37.48 PM.png' />\n",
    "\n",
    "<img src='../images/Screen Shot 2019-04-05 at 1.35.54 PM.png' />\n",
    "\n",
    "<img src='../images/Screen Shot 2019-04-05 at 1.36.20 PM.png' />"
   ]
  },
  {
   "cell_type": "markdown",
   "metadata": {},
   "source": [
    "# Declaring Relationships\n",
    "\n",
    "<img src='../images/Screen Shot 2019-04-05 at 1.39.05 PM.png' />\n",
    "\n",
    "<img src='../images/Screen Shot 2019-04-05 at 1.39.31 PM.png' />\n",
    "\n",
    "<img src='../images/Screen Shot 2019-04-05 at 1.39.52 PM.png' />\n",
    "\n",
    "<img src='../images/Screen Shot 2019-04-05 at 1.40.01 PM.png' />\n",
    "\n",
    "If the column we are referencing exists in another table under the same name, we can simply use the key word references.\n",
    "\n",
    "<img src='../images/Screen Shot 2019-04-05 at 1.40.38 PM.png' />\n",
    "\n",
    "If the reference column has a different name, however; we need to specify it in parentheses.\n",
    "\n",
    "<img src='../images/Screen Shot 2019-04-05 at 1.43.16 PM.png' />\n",
    "\n",
    "<img src='../images/Screen Shot 2019-04-05 at 1.40.56 PM.png' />\n",
    "\n",
    "<img src='../images/Screen Shot 2019-04-05 at 1.41.11 PM.png' />"
   ]
  },
  {
   "cell_type": "markdown",
   "metadata": {},
   "source": [
    "# Foreign Keys\n",
    "\n",
    "<img src='../images/Screen Shot 2019-04-05 at 1.45.57 PM.png' />\n",
    "\n",
    "<img src='../images/Screen Shot 2019-04-05 at 1.46.34 PM.png' />\n",
    "\n",
    "<img src='../images/Screen Shot 2019-04-05 at 1.46.28 PM.png' />"
   ]
  },
  {
   "cell_type": "markdown",
   "metadata": {},
   "source": [
    "# Self Joins\n",
    "\n",
    "<img src='../images/Screen Shot 2019-04-06 at 5.44.35 AM.png' />\n"
   ]
  },
  {
   "cell_type": "markdown",
   "metadata": {},
   "source": [
    "# Counting What isn't There\n",
    "\n",
    "Be careful when using count with joins. There is more than one way to interpret what the generic count function will do, so you need to think about which table you want to count when using it. Consider the following tables:\n",
    "\n",
    "```sql\n",
    "create table animals (\n",
    "   name text,\n",
    "   species text,\n",
    "   birthdate date\n",
    ");\n",
    "create table diet (\n",
    "   species text,\n",
    "   food text\n",
    ");\n",
    "```\n",
    "\n",
    "If we wanted the number of consumers for each type of food, we could use a left join and count(diet.species). If, however; we wanted to count the number of animals and the type of food they eat, we would use a left join and count(animals.species). The first query would probably be of more use for final reporting, but the second would be good for checking our work. The first would tell us how much food to order while the second would tell us whether all animals were being fed.\n"
   ]
  },
  {
   "cell_type": "markdown",
   "metadata": {},
   "source": [
    "# Subqueries\n",
    "\n",
    "<img src='../images/Screen Shot 2019-04-06 at 6.50.09 AM.png' />\n",
    "\n",
    "<img src='../images/Screen Shot 2019-04-06 at 6.50.22 AM.png' />\n",
    "\n",
    "<img src='../images/Screen Shot 2019-04-06 at 6.52.24 AM.png' />\n",
    "\n",
    "<img src='../images/Screen Shot 2019-04-06 at 6.52.38 AM.png' />"
   ]
  },
  {
   "cell_type": "markdown",
   "metadata": {},
   "source": [
    "# One Query Not Two\n",
    "\n",
    "<img src='../images/Screen Shot 2019-04-06 at 6.54.00 AM.png' />\n",
    "\n",
    "<img src='../images/Screen Shot 2019-04-06 at 7.27.31 AM.png' />\n",
    "\n",
    "<img src='../images/Screen Shot 2019-04-06 at 7.27.53 AM.png' />\n"
   ]
  },
  {
   "cell_type": "markdown",
   "metadata": {},
   "source": [
    "# Views\n",
    "\n",
    "<img src='../images/Screen Shot 2019-04-06 at 7.32.49 AM.png' />\n",
    "\n",
    "<img src='../images/Screen Shot 2019-04-06 at 7.32.41 AM.png' />\n",
    "\n",
    "<img src='../images/Screen Shot 2019-04-06 at 7.33.11 AM.png' />\n",
    "\n",
    "<img src='../images/Screen Shot 2019-04-06 at 7.33.35 AM.png' />\n",
    "\n",
    "<img src='../images/Screen Shot 2019-04-06 at 7.33.58 AM.png' />"
   ]
  }
 ],
 "metadata": {
  "kernelspec": {
   "display_name": "Python 3",
   "language": "python",
   "name": "python3"
  },
  "language_info": {
   "codemirror_mode": {
    "name": "ipython",
    "version": 3
   },
   "file_extension": ".py",
   "mimetype": "text/x-python",
   "name": "python",
   "nbconvert_exporter": "python",
   "pygments_lexer": "ipython3",
   "version": "3.7.1"
  }
 },
 "nbformat": 4,
 "nbformat_minor": 2
}
