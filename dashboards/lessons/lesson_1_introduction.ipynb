{
 "cells": [
  {
   "cell_type": "markdown",
   "metadata": {},
   "source": [
    "# Introduction\n",
    "\n",
    "\n",
    "## Dashboard Value Proposition\n",
    "\n",
    "Dashboards are composed of multiple visualizations in a single window so all the relevant information is available at once and can be simultaneously evaluated.\n",
    "\n",
    "Compare this:\n",
    "\n",
    "<img src=https://assets.website-files.com/5c197923e5851742d9bc835d/5cace6bb8d24c18b7a6130da_5c9268b10e85f0e2916b4590_AFYXiUdQ6-_HNEsFGXBPBxipDDpE6SACOSrmw4OmKegt3mm7EmHizuM9-w6j_Ts7C6SQ_PZzp7qXmmx4C4n9dDfgAhfk-yVcISGlcLPIFO66zynZQVnjlxFeB-p3RG2XxJYODX-9.jpg />\n",
    "\n",
    "with this:\n",
    "\n",
    "<img src=https://assets.website-files.com/5c197923e5851742d9bc835d/5cace6cd51b22942feb0fcb4_dash%20zoom.jpg />"
   ]
  },
  {
   "cell_type": "markdown",
   "metadata": {},
   "source": [
    "The data displayed in the top image is much more useful for the driver because it provides a more complete understanding of the situation. Although the speed of the car is important, the other gauges are necessary for safe operation of the vehicle. Is there enough gas to get to the destination? Is my engine being overworked? Is it overheating? What gear am I in?\n",
    "\n",
    "A similar case could be made for a jobseeker in the charts below. Compare the following:\n",
    "\n",
    "<img src=https://assets.website-files.com/5c197923e5851742d9bc835d/5cace7708d24c150426132ad_5c9268b10e85f0caa86b458f_8w_fQ303Xf6cI8pkaTji-vn-d1-IBsM9QP_IDSsIm_4-tHtu8Laaib-F2_yRQVn6iQARSEpbfz9iPQojxSVgh8dJSVIaSR4oP7xIxRIewAsow3MAsppRoh6ArkPR-3AJuMX3CWaw.png />\n",
    "\n",
    "with this:\n",
    "\n",
    "<img src=https://assets.website-files.com/5c197923e5851742d9bc835d/5cace7d0832adc26ef602091_5cab6f5bee421faa37ce4a55_4JzOAJAeR5zzkC_Qmir8PdX503K6AXppycdGGaY36cKfAdKWEj4C3Bgt8D1rmh6lFlN1r5tbF4fRJveKLCiylK2R_mqIPuMfzWYDfIr_FhqMedP3fZt2Q84GwL5yVR6grIsC7KVl.png />\n"
   ]
  },
  {
   "cell_type": "markdown",
   "metadata": {},
   "source": [
    "Although the second set of visualizations provides more information, it wouldn't be considered a dashboard yet because there is still more information that could help the decider make a better-informed decision."
   ]
  },
  {
   "cell_type": "markdown",
   "metadata": {},
   "source": [
    "## Ongoing Decision Support\n",
    "\n",
    "The strongest use case for dashboards are one that are created to support ongoing decision making. In this way they are built with the same ethos of modern software development using design thinking and iteration. The data powering the visualizations is regularly updated and the dashboard is designed around the audience who will be using it, often times being updated as use cases shift.\n",
    "\n",
    "<img src=https://assets.website-files.com/5c197923e5851742d9bc835d/5cace68b51b229cebdb0fc4c_5c81b2f8cf5a793fa7742f9c_Building_a_Great_Dashboard-Dashboard.jpg />\n",
    "\n",
    "This dashboard displays many types of data from different sources:\n",
    "\n",
    "- Revenue - Payment provider such as Stripe\n",
    "- Cost - Accounting software such as Quickbooks\n",
    "- User Count and Activity - Your production database using tools such as Segment"
   ]
  },
  {
   "cell_type": "markdown",
   "metadata": {},
   "source": [
    "## Summary\n",
    "- Dashboards are a dynamic display of information to support high quality decision making\n",
    "- People leverage data all the time to make important decisions in their personal lives and in their organizations\n",
    "- There is more data available than ever before within organizations\n",
    "- Dashboards help individuals  make informed decisions based on multiple sources of  data within an organization"
   ]
  }
 ],
 "metadata": {
  "kernelspec": {
   "display_name": "Python 3",
   "language": "python",
   "name": "python3"
  },
  "language_info": {
   "codemirror_mode": {
    "name": "ipython",
    "version": 3
   },
   "file_extension": ".py",
   "mimetype": "text/x-python",
   "name": "python",
   "nbconvert_exporter": "python",
   "pygments_lexer": "ipython3",
   "version": "3.7.1"
  }
 },
 "nbformat": 4,
 "nbformat_minor": 2
}
