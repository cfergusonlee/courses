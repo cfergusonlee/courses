{
 "cells": [
  {
   "cell_type": "markdown",
   "metadata": {},
   "source": [
    "# What Makes a Great Dashboard (ACES)\n",
    "\n",
    "An optimal dashboard is Accurate, Clear, Empowering, and Succinct. These key tenets can be remembered with the acronym ACES.\n",
    "\n",
    "## Accurate\n",
    "\n",
    "A dashboard lives and dies by the trust the viewers have in what they are seeing. If the viewers doubt the accuracy it will not be used to make decisions.\n",
    "\n",
    "Viewers belief in the Accuracy of the dashboard can be affected in multiple ways:\n",
    "\n",
    "- Data Quality: \n",
    "    - Is the data being displayed correct?\n",
    "    - How recently was the data last updated?\n",
    "- Metric Comprehension\n",
    "    - How easily digestible is the information?\n",
    "    - Does the dashboard include formulas, notes or definitions?\n",
    "- Visualization Design\n",
    "    - Everything from plotting data in R course\n",
    "    \n",
    "## Clear\n",
    "\n",
    "Use muted color tones:\n",
    "\n",
    "<img src=https://assets.website-files.com/5c197923e5851742d9bc835d/5cab72aee277f745edaf8792_A6VNQXDL-tUtyKaL1Z8sfhJFDfTRhEZWlf2iP9woyEycyDKFxkisn-2f-qVip5wBBbFwJd7O1JTb3WNScjmaP5tXEJyN-QIZIfxHOfQLlmj4ALMpXpsy5KUaqPZalgtDac9AtE1y.png />\n",
    "\n",
    "Colors should also be consistent when representing the same metric or type of metric from chart to chart.\n",
    "\n",
    "<img src=https://assets.website-files.com/5c197923e5851742d9bc835d/5c926d2f35b5d620b3025ac1_9Z1xfJw0MFTjfj4MBQr6EEzetgwfq3WDzvg6LA7QQ7GPc2Ei8tOLfqEwMP3W9iH093xjZ7y2ZV7VRwG_NjeacJBlJeTiON6_BPjKjfqdcHnVu6f4WoM0qciLJGg6f_bMJSNmfCzM.png />\n"
   ]
  },
  {
   "cell_type": "markdown",
   "metadata": {},
   "source": [
    "### Context\n",
    "\n",
    "Details make all the difference in the following charts:\n",
    "- A descriptive title\n",
    "- Categorical labels\n",
    "- Value labels when it is hard to compare against an axis\n",
    "\n",
    "<img src=https://assets.website-files.com/5c197923e5851742d9bc835d/5c926d2f35b5d61976025aab_kT5CLHUbT4yJy0uAYOoJ2bd4rdyfPca1dslxkl_-5XE9NX2-lU-_sKvGZJAJl2kuDz-U2ZU2f4DCUObjYN0W5PKnXicURlS5h95fbCtN2AZTrvSf9RIGEvbmRjR7JGBVpYyvU2iH.png />\n",
    "\n",
    "<img src=https://assets.website-files.com/5c197923e5851742d9bc835d/5c926d2fba1051744f0958e0_VFKwsIuaIZkSMQqLcq96c9GQKuSDB8-xusXZrrzytNAuEoK0LEGo1vqrC_6d6Lt0t3MIPzWlNSf7izegHHY1zVDAAar2bX1LHA2LYv6eA6pIvehyt-WCyC4TOy2FddGuRlRcYqK5.png />\n",
    "\n",
    "If data is hard to decipher, it won’t be read. The more explanation or context needed to understand charts on a dashboard  the less the dashboard is an effective intelligence tool."
   ]
  },
  {
   "cell_type": "markdown",
   "metadata": {},
   "source": [
    "### Layout\n",
    "\n",
    "Viewers in most countries read from left to right and top to bottom. Therefore the most important information should be top left and the least important information on the bottom right.\n",
    "\n",
    "<img src=https://assets.website-files.com/5c197923e5851742d9bc835d/5cab72ae23424367bf45e284_PMvKBIFKwzuNiHkKzwSC_V56ZGdcEYrGMlV3ev0P2N9O7VgYU7NZ6LW2H16FyQXVONfsKVgY4TF0KsZRnkoz2o2iDHs5Af_-vMDCaHs3DMgyIEU9bBAW6620ZMjt6fKF5o_jU4tH.png />\n",
    "\n",
    "Visualizations should be aligned. Having a chart unaligned with the other visualizations will distract from the goal of presenting all of the information clearly to the viewer.\n",
    "\n",
    "<img src=https://assets.website-files.com/5c197923e5851742d9bc835d/5c926d2f0e85f047846d5e5b_7xKyoViMIOHjx_hxBA3Hjy-T_tN4TnsB47FHZbWmilbbD5-xTUpT_C-0jYol5TWAIycF3RqbdvI6eAqUD8qwYoDHtYWLPvH7VAln3PzqL7S6FYGWSXfEgoZSoHF7TS5sx95HwUNn.png />"
   ]
  },
  {
   "cell_type": "markdown",
   "metadata": {},
   "source": [
    "## Empowering\n",
    "\n",
    "Does a dashboard get used regularly and does it help people make decisions? These qualities are best evaluated after the dashboard is created by the end user/viewer of the dashboard.\n",
    "\n",
    "- Do they view it regularly?\n",
    "- Does it factor into their decision making?\n",
    "\n",
    "### Do they view it regularly?\n",
    "\n",
    "<img src=https://assets.website-files.com/5c197923e5851742d9bc835d/5c926d2fbafe0452e59d202f_jdoWYLISPDsfh1-7OJNjWyzEHmQetjxotx2Ed-1SJDmnZwCJjb3JEr6N6otpEgUB8ut_KfetsY5mPmvZ0LutbadciV3UsafQhHyXMyiw2vOYXOU7yQSIy1mbIrNtH1rEPm7PuaYw.png />\n",
    "\n",
    "If you start to see a drop off in views, you should follow up with the individuals who are no longer viewing the dashboard. Asking the following questions can help:\n",
    "\n",
    "- Is the dashboard useful to them?\n",
    "- Is the dashboard missing some critical information?\n",
    "- What sources are they currently using  to access  accurate data for making decisions?\n",
    "- How can the dashboard be updated to better serve their needs??\n",
    "\n",
    "Some dashboards may be viewed less frequently if they are set up for longer-term decisions. These gaps indicate when the dashboard is not being used. The regular spikes show when it is used and how useful it is.\n",
    "\n",
    "<img src=https://assets.website-files.com/5c197923e5851742d9bc835d/5c926d2fed88234cf2b797d1_NyKMwfvelkTCKsLnOOPDyPohysbNjkkucaaxmgNW3FPt_0wWGKaOPwPnVsOiL9Rz63472GYiVS2Wq4zKjy7EmIQUdi0QEIi6W7aqXpP8aHb0gh11g2y-8JyjUlZWpSb5vcwjIQCC.png />\n",
    "\n",
    "In this case, the views might be related to quarterly planning or reporting, if you look at a shorter time frame it appears not useful.\n",
    "\n",
    "<img src=https://assets.website-files.com/5c197923e5851742d9bc835d/5cae7c2761e6fb1eaf187bc2_Screen%20Shot%202019-04-10%20at%204.28.18%20PM.png />\n",
    "\n",
    "### Does the data displayed on the dashboard factor into their decision making?\n",
    "A simple way to check this is to ask the viewer, if the numbers on this dashboard went to 0 or if the numbers doubled would you do anything? If the answer is no, then the dashboard is probably not useful. If the answer is yes, then the dashboard is probably useful."
   ]
  },
  {
   "cell_type": "markdown",
   "metadata": {},
   "source": [
    "## Succinct\n",
    "\n",
    "One of the main benefits of a dashboard is that it shows multiple data visualizations simultaneously which facilitates processing all of the information together. Due to people’s limited working memory, needing to scroll to see other data visualizations prevents viewers from being able to compare the various visualizations side by side to reach significant conclusions.\n",
    "\n",
    "<img src=https://assets.website-files.com/5c197923e5851742d9bc835d/5c81b2bb32b01728f174af7e_DASHBOARD-vs-REPORT-PNG-1.jpeg />\n",
    "\n",
    "Having information on a dashboard hidden “below the fold” or below the bottom of the screen usually indicates that there is too much information on that dashboard.  Ask yourself if the data is necessary or if it can be displayed in a smaller space without comprimising its clarity.\n",
    "\n",
    "Data that is relevant to other pieces of information on the dashboard should be placed in close proximity on your dashboard:\n",
    "\n",
    "<img src=https://assets.website-files.com/5c197923e5851742d9bc835d/5c926d2fbafe0473e29d2030_smh7v8ndmVC7GH98CEfo7hHFaQ1Em98GlJ8j5b6nG0zlfXWcximEwzq-g9Gutf4zj0NE6KuhELcafGJUdY3RDStvZnXyug5M8EJgg91cDnLOiOZ65Qfc_P44qriTglCdX2u1Up0R.png />\n",
    "\n",
    "## Summary- think ACES\n",
    "- Accurate - If the data that is visualized is incorrect or the visualization biases how it is interpreted the dashboard becomes unusable\n",
    "- Clear- clarity allows for speed of insight\n",
    "- Empowering - will people access the dashboard regularly to make decisions (makes sure the dashboard delivered on it goal of supporting decisions)\n",
    "- Succinct - keeping it brief and relevant to critical information makes it easy to evaluate all of the data simultaneously and make decisions"
   ]
  }
 ],
 "metadata": {
  "kernelspec": {
   "display_name": "Python 3",
   "language": "python",
   "name": "python3"
  },
  "language_info": {
   "codemirror_mode": {
    "name": "ipython",
    "version": 3
   },
   "file_extension": ".py",
   "mimetype": "text/x-python",
   "name": "python",
   "nbconvert_exporter": "python",
   "pygments_lexer": "ipython3",
   "version": "3.7.1"
  }
 },
 "nbformat": 4,
 "nbformat_minor": 2
}
