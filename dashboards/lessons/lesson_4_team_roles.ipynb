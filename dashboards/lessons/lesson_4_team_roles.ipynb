{
 "cells": [
  {
   "cell_type": "markdown",
   "metadata": {},
   "source": [
    "# Identifying Key Roles\n",
    "\n",
    "In a dashboard design project, multiple people are involved in making it a success. Key stakeholders need to be defined from the start to facilitate optimal collaboration and communication during the appropriate steps of the process. There are 4 key stakeholders with corresponding responsibilities in a typical dashboard project."
   ]
  },
  {
   "cell_type": "markdown",
   "metadata": {},
   "source": [
    "## 4 Key Stakeholders\n",
    "\n",
    "### Designer\n",
    "\n",
    "<img src=https://assets.website-files.com/5c197923e5851742d9bc835d/5cab80c70fe624e8d8e50ab5_fw577JU9DCnYfGHXe23snvGuSnBQR3gU5Pttt5YZP2ARsSc_0eJ47QNdw1KTb0UCOyv6J1aamuPfdxe8R7JAf_Fe1S7muKIszxuVvtzCu0hOJQzwnCNmQxaGBEkoT9h0dL0l03GK.png />\n",
    "\n",
    "This is the person that is responsible for creating the dashboard, and managing the project.  As you are the one reading this book this is likely you. Since you will be involved in all steps you should be in charge of coordinating all efforts of the project.\n",
    "\n",
    "Designer responsibilities:\n",
    "- Define the stakeholders\n",
    "- Metric calculation\n",
    "- SQL queries\n",
    "- Chart determination\n",
    "- Dashboard build\n",
    "- Point Person approval\n",
    "\n",
    "### Audience\n",
    "\n",
    "<img src=https://assets.website-files.com/5c197923e5851742d9bc835d/5cab80c7f237c4105702fd64_Gezaf_5XbPUWfnLrjcYF1Zml47hgebAyWdt55cUfzvzMrllMH8GO6wPQmT1nIvph8isg2zWpo_4KaM4KteCdiIVepcT7PN8iUj688s9topix6O9H1Gun0woX0cvuSbZ1PJOqV8dh.png />\n",
    "\n",
    "Audience Responsibilities:\n",
    "- Provide feedback on whether or not the dashboard is useful\n",
    "\n",
    "Pretty much every decision that is made in this project should be made with the Consumer in mind.\n",
    "\n",
    "Questions to keep in mind about Consumers:\n",
    "- What devices will they use to view this dashboard?\n",
    "- How much context is needed for each metric?\n",
    "- How often will they be referring to this dashboard?\n",
    "\n",
    "### Point Person\n",
    "\n",
    "<img src=https://assets.website-files.com/5c197923e5851742d9bc835d/5cab80c70fe6246621e50ad8_mq-4ZynQYpjMv6d81gUL6ksbQMFmGi3tUzkK6TguGXR41h65RHNfCZjDkkuT6xkBw-SjWKGIheX-5IwHAlOe3fdMLHM0Wpjj8j7c7BJOzPGZJ2IU101gzlO-_QPkDSOu34u6vULu.png />\n",
    "\n",
    "The Point Person is the one that is requesting the dashboard. This is the person who has the business need for creating the dashboard, such as wanting to understand the marketing funnel or how users are engaging with the product over time. They should be involved in all of the decision points since they have the most context to ensure the dashboard is useful.\n",
    "\n",
    "Point Person’s responsibilities:\n",
    "- Provide the decisions this dashboard will inform\n",
    "- Identify the key metrics\n",
    "- Identify the audience of this dashboard\n",
    "- Provide approval on the dashboard design\n",
    "\n",
    "### Data Gatekeeper\n",
    "\n",
    "<img src=https://assets.website-files.com/5c197923e5851742d9bc835d/5cab80c74e3ff15ac382f564_95SpcuMcKoT7wf9n3nf6m2gzicHINapHRo_wM8DbNaJVKrLezUGNlmtBitsNXN5qdvnC0GNTR5U4Pt4L0Phur49f7k5RZ6DhgePl9dEiAV6KXfoNdZD1SZmMMvVY0RYMF-FjaPPu.png />\n",
    "\n",
    "This is a member of the data team that understands the data source, schema, and any other library that will be used to create the metrics. This may also be you or perhaps not.\n",
    "\n",
    "Data Gatekeeper’s main responsibilities include:\n",
    "- Setting up permissions and access to the data\n",
    "- Helping others understand the data source schema\n",
    "- Helping with SQL queries"
   ]
  },
  {
   "cell_type": "markdown",
   "metadata": {},
   "source": [
    "## Summary\n",
    "\n",
    "- Creating a great dashboard is a team effort, and all roles are vital in its completion.\n",
    "- Designers coordinate the project and create the dashboard\n",
    "- Consumers are the audience, and the design should meet their needs\n",
    "- Point People define the central decisions that a dashboard needs to support\n",
    "- Data Gatekeepers help find the relevant data in the database\n"
   ]
  }
 ],
 "metadata": {
  "kernelspec": {
   "display_name": "Python 3",
   "language": "python",
   "name": "python3"
  },
  "language_info": {
   "codemirror_mode": {
    "name": "ipython",
    "version": 3
   },
   "file_extension": ".py",
   "mimetype": "text/x-python",
   "name": "python",
   "nbconvert_exporter": "python",
   "pygments_lexer": "ipython3",
   "version": "3.7.1"
  }
 },
 "nbformat": 4,
 "nbformat_minor": 2
}
