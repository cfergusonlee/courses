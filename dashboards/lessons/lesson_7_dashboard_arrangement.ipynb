{
 "cells": [
  {
   "cell_type": "markdown",
   "metadata": {},
   "source": [
    "# Arranging Your Visualizations as a Dashboard\n",
    "\n",
    "Arranging the charts is where the science of a dashboard project starts to cede some of its control to art. There are many things to consider when arranging and sizing charts and selecting fonts and colors. How visualizations are composed in a dashboard can either facilitate or hinder the decision making process."
   ]
  },
  {
   "cell_type": "markdown",
   "metadata": {},
   "source": [
    "## Alignment & Grouping\n",
    "\n",
    "In the dashboard that we have been working to create with this book, we ended up with thirteen individual charts, monitoring eight different metrics. Some metrics were monitored twice so the current status, as well as a trend analysis over time, could be analyzed. When we started to create the dashboard we ended up with thirteen charts in three zones. By grouping charts and metrics that are closely associated with each other it gives us a larger picture.\n",
    "\n",
    "<img src=https://assets.website-files.com/5c197923e5851742d9bc835d/5c81b2bc4ed4fb4dba655b96_DASHBOARD-COURSE-Dashbaord-PNG-2.jpeg />\n",
    "\n",
    "Here we can see revenue and operations metrics shaded in blue, marketing metrics shaded in orange and user metrics shaded in green. Group charts that are about similar topics together.\n",
    "\n",
    "### Alignment Quick Tips\n",
    "\n",
    "- If a specific metric is displayed in two ways, these should be right next to each other. For example here we can see both the current Count of Users, and we can see how they have been trending in the graph next to it this year\n",
    "\n",
    "<img src=https://assets.website-files.com/5c197923e5851742d9bc835d/5cab82ce33340c416b7aa01d_ztQocddbJ6jD_EFwNPH8F2Hk_xflutTR-dAtkHDew6DkwH6nXjF6NgyGKJhqbQ0JuF1ReAMFK57yMKfWIKqjXx7SiOSe4uTXiiXc8C6zwZOXY7j7jH1nshDLflM0YD4oWbrFRQTX.png />\n",
    "\n",
    "- Line charts with the same time frame should be stacked vertically to facilitate comparisons. For example below we can see how our MRR (Monthly Recurring Revenue) compares to our operational costs by department.\n",
    "\n",
    "<img src=https://assets.website-files.com/5c197923e5851742d9bc835d/5cab82cedbbbfa840b5144eb_KWA7uJHktCsBvDnOHColh_8SVA0Jw1j1zg1pb4J7AKOW1SSHMiiE3MkS-H7GN33tCFOQn-Y3zjG_7aSiHbiRj6K4nKsPovVCYrvc_OPVGC3U9j_kOvmCL5CwtgyUwskN1qOrVe70.png />\n",
    "\n",
    "- Put items next to each other with no separation to use the same title for both visualizations. Here you can see that there does not appear to be any separation between these two visualizations. This groups the data and makes it clear they are describing the same thing.\n",
    "\n",
    "<img src=https://assets.website-files.com/5c197923e5851742d9bc835d/5cab82cedbbbfa2d6f5144ec_olrVLifT67e9u0PrPBw3_SGQ0wBpkBtnfplODXVXUpoyG6D46Sw7CsEoV2kEtbCFLPHPaHigsbHskTdR9fVjjKxRMiYMCX_tMlJ9sL8084LNxY6tQErtnhXurx6ZeCzQPkrHHuQS.png />\n"
   ]
  },
  {
   "cell_type": "markdown",
   "metadata": {},
   "source": [
    "## Examine Layouts\n",
    "\n",
    "Determine the aspect ratio of the device (iphone, laptop, tv, etc) the dashboard you are building will ultimately be delivered on by consulting with the Point Person. View our templates to get ideas about how you could compose visualizations together.\n",
    "\n",
    "<img src=https://assets.website-files.com/5c197923e5851742d9bc835d/5c92857d806e733a920280ee_pRVXBpPzk4zgiuPjLZLKFY8ucGgOI4VRkcUZmxi0J545Hg4KHgu_ZDj9JgmQFx_NLeggNTQnsD6r8d4Y5vhwUc39eABiiHEJl6GnGMBRGmqQYlnInZ-YRGOY_4glEXWzEGmcMrfi.png />\n",
    "\n",
    "Also now is a good time to use google and apps that you use with a dashboard interface to get inspired about what combinations work.\n",
    "\n",
    "Here are some great layouts used by Google Analytics:\n",
    "\n",
    "<img src=https://assets.website-files.com/5c197923e5851742d9bc835d/5cab82ce04c305997c0ad96f_l0F78LwJMe6mamSJNPgGUIKlEdm1bJjsGr9tqu7tL0J3qXNa5ZoL69Lkv7tW4LIcwPRP7HS9DqUqbcIpbFOIVBmqRzb88EcKBUjVhUI_5V44JPZLT8IiF0bmschMH93J-d1Krqbi.png />\n",
    "\n",
    "<img src=https://cdn-images-1.medium.com/max/1400/1*pVhLMfxXmHTtHPCh1_ac_Q.png />\n",
    "\n",
    "<img src=https://cdn-images-1.medium.com/max/2400/1*mKKPFwkERtIu7Af_K0DKEQ.png />\n",
    "\n",
    "While being innovative in dashboard design can challenge the way we look at things in a positive way it is also likely to confuse the audience. Stick with simple arrangements that don’t violate ACES dashboard design qualities."
   ]
  },
  {
   "cell_type": "markdown",
   "metadata": {},
   "source": [
    "## Limited Variety\n",
    "\n",
    "At Chartio we have also noticed that dashboards with multiple chart type get more views to a point. Viewership peaks when three different types of charts are used.\n",
    "\n",
    "<img src=https://assets.website-files.com/5c197923e5851742d9bc835d/5cab82ce23c44c2b6bbed73c_-6owPLlD_bT8s_ES2wJSLooh-IbhDtUAVwG42tqSvS6Qays_s8jtI6w8tagzxAwzXUPWaAf00ZShIVhQYxTz1wFFDhBJXs3AD3zCAYSdyyG8L6PDoSYBQL54CjDwv2-4b5uH8aGR.png />"
   ]
  },
  {
   "cell_type": "markdown",
   "metadata": {},
   "source": [
    "## Avoid Too Much Information (TMI)\n",
    "\n",
    "In addition to not including too many cool BI Tool features in your dashboard, remember to not include too many visualizations in your dashboard either. There will be many opportunities to overload the dashboard with too much information. Information overload deteriorates the power of the dashboard.\n",
    "\n",
    "At Chartio we took a look at the number of visualizations per dashboard and found that it is heavily skewed, the vast majority only use a few charts.\n",
    "\n",
    "<img src=https://assets.website-files.com/5c197923e5851742d9bc835d/5cab82ce4a57f0d3e59cd7a3_LMeQfyeuj18Zpr2UtPC-4QSXPSCBYhhLOvK1pLN4okJjqfnN_FOOZEwxjCCRpcfg-tDuV4dtGpkQtsIBAfx5NxsQA5r46l5jwAWpU9DLvCpy3QWM5RL0RGFu1C8jjK9cKHl0uZuu.png />\n",
    "\n",
    "If information needs to be viewed as is and aggregated at a more granular level, you need a second dashboard containing this has a more drilled down view. Don’t be afraid to link out to other dashboards. This preserves the decisions and goals of the dashboard at hand and lets people explore the data in more detail if they wish.\n",
    "\n",
    "## Summary\n",
    "- Align visualizations to facilitate comparisons\n",
    "- Group visualizations to facilitate insight\n",
    "- Familiarize yourself with various dashboard layouts to help develop useful arrangements for your own dashboard.\n",
    "- Be wary of flashy dashboards arrangements made possible in BI tools\n",
    "- Do not overcrowd the dashboard with too many visualizations, link out to provide further investigation where appropriate"
   ]
  }
 ],
 "metadata": {
  "kernelspec": {
   "display_name": "Python 3",
   "language": "python",
   "name": "python3"
  },
  "language_info": {
   "codemirror_mode": {
    "name": "ipython",
    "version": 3
   },
   "file_extension": ".py",
   "mimetype": "text/x-python",
   "name": "python",
   "nbconvert_exporter": "python",
   "pygments_lexer": "ipython3",
   "version": "3.7.1"
  }
 },
 "nbformat": 4,
 "nbformat_minor": 2
}
