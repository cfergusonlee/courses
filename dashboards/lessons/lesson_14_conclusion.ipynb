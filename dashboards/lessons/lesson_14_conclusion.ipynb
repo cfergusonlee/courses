{
 "cells": [
  {
   "cell_type": "markdown",
   "metadata": {},
   "source": [
    "# Conclusion\n",
    "\n",
    "We have covered dashboard design best practices and outlined a process to create useful dashboards for any organization. You are now equipped to design and build a dashboards to help your organization be more data driven. We hope you enjoyed the book and look forward to hearing your thoughts in Slack.\n",
    "\n",
    "<img src=https://assets.website-files.com/5c197923e5851742d9bc835d/5cab8bbde0ca165c8b24e372_PeVjjHTn7zJncsMxMg1ojq-v6sHexP05eAtXopOXXqMHfb0f8v7tv1dQ4CNgcttL8URk-6uYt8MTrWE4hAv708yd0YGC0nnx-AkWjfU6V2RfOglwrUHW7n2xtQiIExbXg23dqXvr.png />\n"
   ]
  }
 ],
 "metadata": {
  "kernelspec": {
   "display_name": "Python 3",
   "language": "python",
   "name": "python3"
  },
  "language_info": {
   "codemirror_mode": {
    "name": "ipython",
    "version": 3
   },
   "file_extension": ".py",
   "mimetype": "text/x-python",
   "name": "python",
   "nbconvert_exporter": "python",
   "pygments_lexer": "ipython3",
   "version": "3.7.1"
  }
 },
 "nbformat": 4,
 "nbformat_minor": 2
}
