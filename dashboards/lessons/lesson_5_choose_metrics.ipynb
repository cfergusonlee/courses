{
 "cells": [
  {
   "cell_type": "markdown",
   "metadata": {},
   "source": [
    "# Determine the Metrics to Monitor\n",
    "\n",
    "After defining the stakeholders involved we need to get clear about what decisions this dashboard is going to help people with. The point of a dashboard is to help people find insights and make decisions. The Point Person will help you determine this since they are the main audience member who will be using the dashboard to make decisions.\n",
    "\n",
    "Often times the Point Person will have really vague overall goal for wanting a dashboard. It is your job to help them refine their vision to a few key decisions that need to be made and then finding metrics that will help inform those decisions."
   ]
  },
  {
   "cell_type": "markdown",
   "metadata": {},
   "source": [
    "## Understanding the Point Person\n",
    "\n",
    "### Overall Goal\n",
    "\n",
    "While there is a lot written about strategies for defining goals, they all boil down to the same thing. State a specific result that you want to achieve. The more specific the easier it is to act on. What specific result is the Point Person hoping to achieve by having a dashboard?\n",
    "\n",
    "Ask them: *What does success look like?*\n",
    "\n",
    "### Motivation\n",
    "\n",
    "Understanding what they want out of the dashboard is a great start but we want to dig deeper to understand their motivation and the pain the dashboard will solve for them. We can understand this be learning how they are currently solving their problem. Dig into their stated goal using a customer development framework such as:\n",
    "\n",
    "- What is the hardest thing about achieving [stated goal]?\n",
    "- Why is that hard?\n",
    "- Can you tell me about a time when you last tried achieving that goal?\n",
    "- How did you overcome the hardest parts?\n",
    "- What don’t you like about your solution?\n",
    "\n",
    "We will learn a lot from the Point Person’s answers. If it is not hard for them to achieve their goal a new dashboard is unlikely to be valuable to them. Understanding why achieving their goal is hard gives insight into why a dashboard might be the solution they need. Hearing a story about their struggle in achieving their goal will give you insight into full process involved. If they have not tried to overcome the hard parts they likely do not care that deeply about the goal. If they did try to overcome the hard parts then you might be able to borrow from their solution in your dashboard. Understanding what they didn’t like about their solution will make sure you do not repeat the same mistake in your dashboard.\n",
    "\n"
   ]
  },
  {
   "cell_type": "markdown",
   "metadata": {},
   "source": [
    "## Define the Decisions\n",
    "\n",
    "### Best Case Scenario\n",
    "\n",
    "Start with ideal scenario, and work backwards. Have the Point Person imagine that they have achieved their goal and then think backwards.\n",
    "\n",
    "- How did this happen?\n",
    "- What decisions did they make in order to achieve their goal?\n",
    "- What data did they have to make those decisions on?\n",
    "\n",
    "### Worst Case Scenario\n",
    "\n",
    "Explore the worst scenarios, and work backwards. Have the Point Person imagine completely failing at achieving their goal.\n",
    "\n",
    "- How did this happen?\n",
    "- What bad decisions lead to this outcome?\n",
    "- What decisions were made with a lack of data?\n",
    "\n",
    "This exercise identifies decisions that definitely need data to support them. It focuses on identifying what could go wrong so it will likely surface more practical decisions.\n",
    "\n",
    "### Prioritize\n",
    "\n",
    "Take the list of aspirational and practical decisions and rank order them with the Point Person. While there is no hard number for the number of decisions you want to support with a dashboard the fewer the better. After determining the decisions for this dashboard we need to see how we could inform those decisions with metrics\n"
   ]
  },
  {
   "cell_type": "markdown",
   "metadata": {},
   "source": [
    "## Define the Metrics\n",
    "\n",
    "After we know what decisions are important we need to figure out which metrics would best support those decisions.\n",
    "\n",
    "Work with the Point Person to write out how they want to aggregate, group by, and filter the metrics. If you are skilled at extracting metric formulas from business people this may not be necessary, but if you want a clear way to document their metric definitions we suggest using the following Metric Spreadsheet:\n",
    "\n",
    "<img src=https://assets.website-files.com/5c197923e5851742d9bc835d/5cab816e4e3ff1c8a48334fa_MTnsjLYAkEY3RxD-Bw4TvqBxcYxRXo6AC-whMyFVsG7caGkT_x1lNvJIiVUuRhVCWa5zTH_pbxVPl3S4VbhuI5j41xJjOiGinm8Wpq9GsbA1iQQPrWzy-mUp2VUxNEAXzzqaIule.png />\n",
    "\n",
    "There are two approaches that can assist with figuring out the proper metrics that will support their decision making. Visual and conversational. They can be helpful independently or used together.\n",
    "\n",
    "### Visual Method\n",
    "\n",
    "Some people who are requesting a dashboard will struggle to articulate what they need. An easy hack for this is to have them fill out what a dashboard would look like that would help them make decisions.\n",
    "\n",
    "<img src=https://assets.website-files.com/5c197923e5851742d9bc835d/5c9280d9704ee8f28d5452a8_rH9f6GCK5sxm-e_Un5NcHvYpXWeMcF8u6yWNeEkbMxIxuqaij4ukKgU2YAGMRkZA2YYmknrlLNGNzTmHu4ShG-paA_PYeOHDbFXP2gaTZf_oXx8yNRtXeeG3lb9T_Us92Gmr-TXx.png />\n",
    "\n",
    "After they fill this out it is easier to talk with them in more detail about the underlying metrics in the visualizations they drew."
   ]
  },
  {
   "cell_type": "markdown",
   "metadata": {},
   "source": [
    "### Conversational Method\n",
    "\n",
    "After determining their prioritized list of decisions that they need to make, clarify what metrics would inform those decisions with the following questions:\n",
    "\n",
    "- What data would help inform that decision?\n",
    "\n",
    "You should also directly prompt them at each question by asking “What other data might be useful” or “How else could we improve this decision’s quality?” The data they want to see will become the metrics that you will be visualizing for them in the dashboard.\n",
    "\n",
    "## Bringing it all Together\n",
    "\n",
    "After determining the set of metrics the Point Person is interested in from their drawings or through conversation, get specific about each one.\n",
    "\n",
    "- How is this metric calculated?\n",
    "- Write out formula behind each one. For example: LTV is Average Revenue Per Customer / Customer Churn Rate\n",
    "- How do you want to group the data?\n",
    "- Category, Timeframe, etc\n",
    "- How do you want to filter the data?\n",
    "- Group\n",
    "- Timeframe\n",
    "- Specific Criteria\n",
    "\n",
    "It is valuable to push the Point Person to think about the question in different ways. Go through common aggregations(SUM, COUNT, AVG, MAX, MIN, etc) and groupings (Time, Category, etc) to see if they find any value in them. Looking at a metric in multiple ways can help people develop better insights around that data.\n",
    "\n",
    "We will use the Metric Spreadsheet to keep track, the questions above map to directly to it’s columns:\n",
    "\n",
    "<img src=https://assets.website-files.com/5c197923e5851742d9bc835d/5cab816e30ee5fe22ca9427c__KlTj99IGX8yjso-TbJzfUUZ0Gm3_7ISmX2PCuz5hBsDLAaIcYpaAQYCW4oC5dk3VPA8wksfHHeljePpD9Xb30O9jAup9OOmmhkv7WLLxhLxxYRoheTHEzkUFVeKd_fBFSWZ2nhG.png />\n",
    "\n",
    "## Summary\n",
    "- The first step in building a great dashboard is understanding the central premise or purpose for building the dashboard.\n",
    "- This understanding can be obtained by interviewing the Point Person of the dashboard and first finding out the question they want to have answered.\n",
    "- Then you can work with the Point Person to define the metrics that are involved in answering the questions that will guide their decision making."
   ]
  }
 ],
 "metadata": {
  "kernelspec": {
   "display_name": "Python 3",
   "language": "python",
   "name": "python3"
  },
  "language_info": {
   "codemirror_mode": {
    "name": "ipython",
    "version": 3
   },
   "file_extension": ".py",
   "mimetype": "text/x-python",
   "name": "python",
   "nbconvert_exporter": "python",
   "pygments_lexer": "ipython3",
   "version": "3.7.1"
  }
 },
 "nbformat": 4,
 "nbformat_minor": 2
}
