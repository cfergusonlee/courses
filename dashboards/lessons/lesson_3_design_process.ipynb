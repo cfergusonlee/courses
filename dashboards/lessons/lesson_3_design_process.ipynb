{
 "cells": [
  {
   "cell_type": "markdown",
   "metadata": {},
   "source": [
    "# Dashboard Design Process\n",
    "\n",
    "## Why is Process Important\n",
    "\n",
    "People get very attached to their solutions for a problem. The more they invest time and effort in their solution the stronger they believe in it regardless of the quality of the solution. This is why it is critical to avoid jumping right to solving the problem by building a dashboard.\n",
    "\n",
    "Spend time understanding why we are building a dashboard and give ourselves time to explore multiple ideas before selecting what we will actually build.\n",
    "\n",
    "The process starts with defining our stakeholders and what the metrics they care about. Then we prototype dashboards, get feedback, and iterate. After getting feedback that the prototype meets the goals of the project we need to find the actual data and build the dashboard. Finally we need to share the dashboard and maintain it so it becomes a useful tool for the audience.\n",
    "\n",
    "<img src=https://assets.website-files.com/5c197923e5851742d9bc835d/5cab6df7afc1aae51285ec64_7whuE2Xy1o6-AL1Xjio-Z_-Hbfb9QU4vGmqhHFWxCiNtHCIcs6SFAzWFteCTBY6DbN8hYw6rnxKYiyqHpWVkAz156MpNsk382LitTuA6AIpJLl63_6OGvdcbO_0_Q-T4ltHKt2TQ.jpeg />\n",
    "\n"
   ]
  },
  {
   "cell_type": "markdown",
   "metadata": {},
   "source": [
    "## Define\n",
    "\n",
    "<img src=https://assets.website-files.com/5c197923e5851742d9bc835d/5cab74819562db50cb557a8a_FkkOWNdLwmba37ySn2lYNhuDxV1z4ZLdcUp-B_vIyo9LGgWQfyjPgdmUVKzjAoiQwGChqUq-2mt8kMvUVms30nCfOk7ce_BvkbcQVFYXMUGCl6-Q7GMa_-tv6D8mQBWEdQVsarPr.png />\n",
    "\n",
    "Having clarity about who this dashboard is for and what metrics matter to them is critical to creating a dashboard that will be used.\n",
    "\n",
    "### Stakeholders\n",
    "There are 4 main stakeholders:\n",
    "\n",
    "- The designer (you)\n",
    "- The audience (who will be viewing this dashboard)\n",
    "- The point person (the member of the audience who has the most experience\n",
    "- The Data Gatekeeper (member of the data team who will help with the database)\n",
    "\n",
    "### Metrics\n",
    "\n",
    "You will work with the point person to go from vague goals to query-able metrics. This process involves a lot of back and forth to weed out interesting but ultimately not relevant metrics to mission critical data for decisions to be based on.\n"
   ]
  },
  {
   "cell_type": "markdown",
   "metadata": {},
   "source": [
    "## Prototype\n",
    "\n",
    "<img src=https://assets.website-files.com/5c197923e5851742d9bc835d/5cab74815e4349b72e708466_7Zc02onZFF8Dc0IUDJsCGiSsU0iijEcKmxcOhvAfamGkVzi1SnvGtzvunFgeB2O0avSpIKaQnxweANsYNN1YsQZjjUmCWKE100RaHX4h4fU-dF-njRyMtNMokU-8nqsdC1m7iu6u.jpeg />\n",
    "\n",
    "Once we have the metrics that we want to put in a dashboard we need to figure out how best to display them so that it is useful to the whole audience.\n",
    "\n",
    "### Visualizations\n",
    "\n",
    "Use the visualization that best presents the metrics clearly and accurately.\n",
    "\n",
    "### Dashboards\n",
    "\n",
    "Best practices for arranging dashboards will be covered in Lesson 7: Arranging Your Visualizations as a Dashboard.\n",
    "\n",
    "### Sketching and Iteration\n",
    "\n",
    "Sketch out the visualizations and dashboards on paper or with a lo fi tool so you can quickly throw out bad ideas without worrying about the time investment.\n",
    "\n",
    "### Build\n",
    "\n",
    "Once we are satisfied with the prototype we have to create the dashboard using real data.\n",
    "\n",
    "#### Find the Data\n",
    "\n",
    "On a team, the Data Gatekeeper would have be responsible for navigating this step.\n",
    "\n",
    "#### Build Metrics/Dashboard\n",
    "\n",
    "Using a framework to log the metrics, formulas, and data sources makes creating queries much easier.\n"
   ]
  },
  {
   "cell_type": "markdown",
   "metadata": {},
   "source": [
    "## Deploy\n",
    "\n",
    "We should enhance the dashboard to make it more effective at scale and we need to make sure to maintain it as usage grows and changes.\n",
    "\n",
    "### Sharing\n",
    "\n",
    "The audience will have varying levels of data literacy and context for the data presented in the dashboard. You need to verify you have enough context within the dashboard and that you provide enough training so that people can get insights out of it easily.\n",
    "\n",
    "### Scaling\n",
    "\n",
    "If the dashboard is useful the amount of views and total number of viewers is likely to grow. Adding links, interactivity, and documentation to a dashboard helps it accommodate more use cases and inspire other dashboard creators. Also as the number of views/viewers increases spending time optimizing queries becomes an important way of keeping the dashboard useful.\n",
    "\n",
    "### Maintenance\n",
    "\n",
    "Datasources, tables, and fields change, dashboards need to change with it. Setting up scheduled times to review dashboards is critical to keeping them relevant and functional. Providing a way for the audience to alert you about issues will allow you to make informed improvements to the dashboard.\n"
   ]
  }
 ],
 "metadata": {
  "kernelspec": {
   "display_name": "Python 3",
   "language": "python",
   "name": "python3"
  },
  "language_info": {
   "codemirror_mode": {
    "name": "ipython",
    "version": 3
   },
   "file_extension": ".py",
   "mimetype": "text/x-python",
   "name": "python",
   "nbconvert_exporter": "python",
   "pygments_lexer": "ipython3",
   "version": "3.7.1"
  }
 },
 "nbformat": 4,
 "nbformat_minor": 2
}
