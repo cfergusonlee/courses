{
 "cells": [
  {
   "cell_type": "markdown",
   "metadata": {},
   "source": [
    "# Finding the Data That Builds Metrics\n",
    "\n",
    "<img src=https://assets.website-files.com/5c197923e5851742d9bc835d/5cab859b33340ca9b47bbd0e_B1GYVjMqaKY66JyuebzDmJTCfovemY27BHeP4S1kTChXTP6LxEjCLfmg3uxXEM1ouBlpk5cDfUMg8CriSpb6HcpzuymK1JFHQQ_WEQvjt1tgFTXKkTK4g4IPLpt5NtuGbbZ87Wdg.png />"
   ]
  },
  {
   "cell_type": "markdown",
   "metadata": {},
   "source": [
    "## When you have the data\n",
    "\n",
    "Review the schemas of the databases you have access to.\n",
    "\n",
    "<img src=https://assets.website-files.com/5c197923e5851742d9bc835d/5c9282f0ff8581560a51eec8_uUdcCPqWJ_rUJ8xSXQVVmm9XN8zKpZroFXjzYO-IbMIy_v0W0MCb1vd1yGI1t1Ik455TqpaO3Ur4w-6xefHlWuTVkUo6AUmj_uFkxls-qY1moraH_Rigk-DGleVmoDR_7hpQLlgg.png />\n",
    "\n",
    "Your next step will be to determine what data you cannot find yourself. \n",
    "\n",
    "<img src=https://assets.website-files.com/5c197923e5851742d9bc835d/5cae550af15926f342c04d35_Screen%20Shot%202019-04-10%20at%201.41.19%20PM.png />\n",
    "\n",
    "Go through each metric with the Data Gatekeeper, and explain what tables and fields you think you should be using and which ones you have questions about.\n",
    "\n",
    "<img src=https://assets.website-files.com/5c197923e5851742d9bc835d/5c9282f07169ee2e20e446ec__oJD9sC0jpMUcnBRkWJ0smQv--_YjSSGBybOfju6Zxw3uMUpCKCBHOrv_BshvqvcpIcM4yjlCh8GZyUQx3tHH3tM2wc7BpJR6rd9f63J5IIpFwe-XMcg8V6O0837m3QHR3LFqQs5.png />\n",
    "\n",
    "The Data Gatekeeper will confirm which tables and fields you have selected so far or will help locate the tables and fields you need. Some of the data you need might not be accessible to you due to access permissions.\n",
    "\n",
    "<img src=https://assets.website-files.com/5c197923e5851742d9bc835d/5cae55475e8c6b510ede3e86_Screen%20Shot%202019-04-10%20at%201.42.32%20PM.png />\n",
    "\n",
    "We also need to specify the fields within the tables that will be used to make creating the SQL queries easy. Place the field names from the tables you found into the Formulas directly.\n",
    "\n",
    "<img src=https://assets.website-files.com/5c197923e5851742d9bc835d/5cae556a004a3820a63ddcc9_Screen%20Shot%202019-04-10%20at%201.43.07%20PM.png />\n"
   ]
  },
  {
   "cell_type": "markdown",
   "metadata": {},
   "source": [
    "## When you have no data\n",
    "\n",
    "Sometimes you do not have the data in your database to calculate a metric. This can be seen as a huge roadblock but there are a few ways forward. We need to first ask ourselves the following to know what we can do.\n",
    "\n",
    "- Do we care about historical data?\n",
    "- Is the metric actually trackable?\n",
    "- How much data is needed for this metric to be valuable?\n",
    "\n",
    "### Instrumenting new data points\n",
    "\n",
    "If historical data is of no concern consider working with the Data Gatekeeper to talk with engineering about starting to track what you want.\n",
    "\n",
    "Consider the costs:\n",
    "- People time\n",
    "- Data Complexity\n",
    "- Database costs\n",
    "\n",
    "If the metric desired here is for a statistical test talk with the Data Gatekeeper about how much data will be necessary to do the test properly. Factor in how much time it will take to get that data and let the Point Person know. Often times people will want to draw conclusions as quickly as possible, do not let your dashboard get used incorrectly like this. Set expectations up front when instrumenting new data points and perhaps even note on the dashboard when conclusions can be drawn.\n",
    "\n",
    "### Proxy Metrics\n",
    "\n",
    "If we want historical data but we do not have the data for the metric we wanted we can use proxy metrics. Proxy Metrics are metrics that give us the same or similar information to what we wanted.\n",
    "\n",
    "Example: The Point Person wants to know what customers think of the product.\n",
    "\n",
    "- Desired Metric: NPS\n",
    "    - This has not been implemented yet and is reliant on people filling out a form so there might not be a lot of data to draw conclusions from.\n",
    "- Proxy Metric: Return Visitors\n",
    "    - We could look at how often customers use the product as a proxy metric, we equivocate regular usage with our customers liking the product.\n",
    "    \n",
    "While Proxy Metrics are not exact they can give us a good estimation. Finding good proxy metrics can be dangerous because they can change the focus of your company.\n",
    "\n",
    "Consider a company who has to wait a long time to see if their product was valuable to the consumer such as an education company. They provide a lot of knowledge but if their ultimate goal is job placement they have to wait several months to know if their education was effective for the student.\n",
    "\n",
    "How can they measure if they are doing a good job before their desired metric event happens?\n",
    "\n",
    "You could introduce surveys to measure how confident students are in their job prospects, you could measure graduation rates, or you could measure the amount of inbound interest in your students from outside employers. Each one of these Proxy Metrics which you might be able to assess sooner than the “did they get a job” metric will lead you to focus on different activities. So be cautious with Proxy Metrics.\n"
   ]
  },
  {
   "cell_type": "markdown",
   "metadata": {},
   "source": [
    "## Summary\n",
    "- Finding where the data is located can be challenging\n",
    "- Most likely you will need to involve the Data Gatekeeper in your search, be prepared with what data you are looking for before engaging with them\n",
    "- Sometimes you will not be able to find data due to your level of access and will need to consult the Data Gatekeeper.\n",
    "- Fill out your metric architecture to know which table and field will be necessary for each metric.\n",
    "- Determine how messy your data is and clean it appropriately\n",
    "- If you do not have the data for a metric work with the Data Gatekeeper to instrument new data points or use Proxy Metrics\n"
   ]
  }
 ],
 "metadata": {
  "kernelspec": {
   "display_name": "Python 3",
   "language": "python",
   "name": "python3"
  },
  "language_info": {
   "codemirror_mode": {
    "name": "ipython",
    "version": 3
   },
   "file_extension": ".py",
   "mimetype": "text/x-python",
   "name": "python",
   "nbconvert_exporter": "python",
   "pygments_lexer": "ipython3",
   "version": "3.7.1"
  }
 },
 "nbformat": 4,
 "nbformat_minor": 2
}
