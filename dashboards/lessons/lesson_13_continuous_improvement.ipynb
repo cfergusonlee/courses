{
 "cells": [
  {
   "cell_type": "markdown",
   "metadata": {},
   "source": [
    "# Making Sure Your Dashboard Always Gets Better\n",
    "\n",
    "<img src=https://assets.website-files.com/5c197923e5851742d9bc835d/5cab87c4d529cc1d9385a34e_p562rkX0sr5DFFH28eEOckl2KaQbZAGtzo_oLRF0C90BqS4wBg5_A9n_wO_AeZrpIXKeNiIdTmApgVL74FJ0qBWp1ElDUCxiMgaWkVyKJNohO3U-61Ko0xnrd6emBrjfXV-0tVAj.jpeg />\n",
    "\n",
    "Continuous Improvement is more than just a phrase or a buzzword, it is the key to a useful dashboard. You should not iterate for the sake of iteration. Iteration should be informed by feedback from consumers of the dashboard and the Point Person of the dashboard."
   ]
  },
  {
   "cell_type": "markdown",
   "metadata": {},
   "source": [
    "## Get feedback after launch\n",
    "\n",
    "Collecting timely feedback from the users and consumers of your dashboard will help you improve the dashboard. There are a few options for opening feedback channels that you may wish to investigate.\n",
    "\n",
    "### Feedback Channel\n",
    "You will want to open some kind of easy, written feedback avenue, to give users a place to comment, offer suggestions, and ask questions. Providing your email or slack username allows for quick communication but can get overwhelming. A tool like Google forms captures feedback into a sheet that you can review as needed. For clear tracking, you can go with a tool like JIRA and have people submit tickets when they have feedback. As the amount of effort increases to send  feedback, the less likely you will get feedback so make it easy.\n",
    "\n",
    "### Negative Feedback\n",
    "\n",
    "Everyone knows that a person is most motivated to provide feedback when things are going wrong. This type of feedback is powerful, but not always constructive. It is helpful to focus  on the source of their frustration. Is it a design choice, is it the data, is it not useful for them, or are they having a bad day? Consider their feedback and weigh it against the purpose of the dashboard and make a decision. The best thing you can do to encourage higher quality feedback is to let the person who gave you the feedback know what you decided to do with their feedback.\n",
    "\n",
    "A common type of negative feedback is that something isn't working properly on the dashboard. This is a different type of feedback and it should be marked to grab your attention. Create naming standards for this type of issue such as: Place \\[BUG\\] or \\[BROKEN\\] at the beginning of your feedback so you can prioritize the fix. In some tools, you can accomplish this by tagging the feedback.\n",
    "\n",
    "### Audience to community\n",
    "\n",
    "<img src=https://assets.website-files.com/5c197923e5851742d9bc835d/5c9289abff8581317254bc61_APzBOBO0xbtTet4faJfH_vhVg3OBceUhsIvIDjkNt6qjg-k7lyK8WETaFlpUBnSV6licBOzv9LRvdxc8etCW33OGm1hHxmwFoRQvX13sH8aNSymhpmxA8cL9bVgPRSq3kCCBf1cB.png />\n",
    "\n",
    "Moving your audience from a one way feedback channel to a community can unearth more valuable feedback. Use a community building tool like Slack, to get an insight into how viewers are talking about your dashboard with other viewers. These discussions will often provide more candid feedback. You can also solicit feedback on these channels. Once one person chimes in, others who are experiencing the same issues will tend to pipe up so you can judge the significance of the issue.\n",
    "\n",
    "## Iteration schedule\n",
    "\n",
    "<img src=https://assets.website-files.com/5c197923e5851742d9bc835d/5cab8854229f4db61f25d21d_Ewu90r7dFpff6VnoEi1fSEfn4c50Z_YL2QdSt4WKjYRdESosyPXPWUwN19nexCjYRSteYyfke-1rG3QDSwdc0ZxRhE1AjUB5QJF6QjE6uK7kSNretYu61Tqh_66j8-ij8IeOds6h.png />\n",
    "\n",
    "Set up an iteration schedule where you review the feedback you have received. A regular interval such as every month or every week works best. It is better to review feedback (other than bug/broken feedback items) on a schedule instead of ad hoc. This gives you the opportunity to prioritize your work and see if there are themes in the feedback.\n",
    "\n",
    "Create a checklist, similar to the below, to review the dashboard in the scheduled review session.  \n",
    "\n",
    "- Adoption and usefulness metrics of the dashboard\n",
    "    - Total dashboard views\n",
    "    - Repeat dashboard views\n",
    "    - Unique dashboard viewers\n",
    "- Accuracy check\n",
    "    - Do queries produce expected results?\n",
    "    - Have the underlying data sources or data models for this dashboard changed?\n",
    "    - Data maintenance\n",
    "- Check the load being placed on the dashboard.\n",
    "    - Optimize your SQL if necessary.\n",
    "    - Open and run the dashboard to see if any errors pop up\n",
    "    - Every so often your data sources may get re-architectured for performance and system reasons. Make sure that the columns, tables, and databases still reflect the names that you provided when you wrote the initial queries.\n",
    "    \n",
    "## Summary\n",
    "- Feedback from end consumer helps people make dashboards more useful and catch errors quickly\n",
    "- Schedule time to review feedback to determine trends and prioritize work\n",
    "- Regularly check out the health of the dashboard to see if people are using it, the data is still accurate, and if there are opportunities for optimization"
   ]
  }
 ],
 "metadata": {
  "kernelspec": {
   "display_name": "Python 3",
   "language": "python",
   "name": "python3"
  },
  "language_info": {
   "codemirror_mode": {
    "name": "ipython",
    "version": 3
   },
   "file_extension": ".py",
   "mimetype": "text/x-python",
   "name": "python",
   "nbconvert_exporter": "python",
   "pygments_lexer": "ipython3",
   "version": "3.7.1"
  }
 },
 "nbformat": 4,
 "nbformat_minor": 2
}
