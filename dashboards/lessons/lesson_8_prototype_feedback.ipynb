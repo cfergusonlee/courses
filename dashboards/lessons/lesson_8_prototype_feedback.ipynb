{
 "cells": [
  {
   "cell_type": "markdown",
   "metadata": {},
   "source": [
    "# Dashboard Prototyping and Feedback\n",
    "\n",
    "<img src=https://assets.website-files.com/5c197923e5851742d9bc835d/5cab837dfc3b8c9e86c775ed_WsgxNFdeTQXvLnnFMThhzyBH2BWSb2_LNRvUuR9kqnJ6nSZ4exs6KaDoN8aOdGh1UKdj50LsANWzjgexA_NC40K4vhWbekAqYlktbixQi9CbkTTEUxwo8xIurPA4YEcDwHqHa3I7.png />"
   ]
  },
  {
   "cell_type": "markdown",
   "metadata": {},
   "source": [
    "## Review\n",
    "\n",
    "First gather your documents stating the goal, decisions, and metrics in one place. Do a quick review to make sure you understand all the requirements of this dashboard.\n",
    "\n",
    "Now it’s time to put pen to paper. In a typical design process the prototyping stage involves heavy divergent thinking to explore a wide range of solutions. In a dashboard design process the output is pretty heavily constrained to a few chart types. This means that you can start sketching pretty accurate designs right away.\n",
    "\n",
    "## Sketch\n",
    "Start with individual metrics and draw them as visualizations. Then try drawing multiple visualizations together. Keep asking yourself:\n",
    "\n",
    "- What does the audience want to be able to do?\n",
    "- What does the audience need to know in order to do it?\n",
    "\n",
    "<img src=https://assets.website-files.com/5c197923e5851742d9bc835d/5cab830b19b7fc0592ed5164_WF9KT9gnM6VsrbOhgorx4cmrH1uFBqXoliUZ4YUXrTO4Z96XA3HVEf0W_ljsgEhNDvjLOU8u_z8pXOKmYrdxUQaGaErI3mQ_HI0s00GLKKocca5mOhziOx6oVpqDai4D-yjCcAGx.jpeg />\n",
    "\n",
    "It can be useful to role play this scenario in your head or with others to understand what visualizations will be valuable.\n",
    "\n",
    "As you sketch out different combinations of visualizations  for the dashboard try to limit the number you use in each attempt to as few as possible. Here are a few combinations we have found useful:\n",
    "\n",
    "- Indicator Chart -> table with relevant details\n",
    "- High Level number this year -> line graph showing daily information\n",
    "- Overall line chart -> same chart broken out by group"
   ]
  },
  {
   "cell_type": "markdown",
   "metadata": {},
   "source": [
    "## Feedback\n",
    "You definitely want the Point Person’s feedback as to whether they think it would support their decisions. This is also a good time to bring in other members of the audience for feedback. There are a few easy tricks to helping the Point Person and audience give you helpful feedback.\n",
    "\n",
    "Ask the following questions for each visualization:\n",
    "\n",
    "- Do I need to know this?\n",
    "- What else do I want to know about this metric?\n",
    "- Is the conclusion I can draw from the visualization obvious?\n",
    "\n",
    "Ask the following questions for the whole dashboard:\n",
    "\n",
    "- Does this dashboard support the decisions and goals of this project?\n",
    "- Which visualization grabs your eye first? Should it?\n",
    "- Should any of these visualizations be grouped together?\n",
    "- Is anything missing from the dashboard?\n",
    "\n",
    "## Iteration\n",
    "\n",
    "Be open to feedback. **The goal is to create a useful dashboard for the audience, not to convince people your design is great**. You will likely need to do more than one round of prototyping, feedback, and iteration. After you get positive signals from the Point Person that if they had this dashboard it would help support their decisions to reach their goal you are ready to bring the chart to life."
   ]
  }
 ],
 "metadata": {
  "kernelspec": {
   "display_name": "Python 3",
   "language": "python",
   "name": "python3"
  },
  "language_info": {
   "codemirror_mode": {
    "name": "ipython",
    "version": 3
   },
   "file_extension": ".py",
   "mimetype": "text/x-python",
   "name": "python",
   "nbconvert_exporter": "python",
   "pygments_lexer": "ipython3",
   "version": "3.7.1"
  }
 },
 "nbformat": 4,
 "nbformat_minor": 2
}
