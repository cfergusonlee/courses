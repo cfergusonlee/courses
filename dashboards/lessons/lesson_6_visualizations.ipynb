{
 "cells": [
  {
   "cell_type": "markdown",
   "metadata": {},
   "source": [
    "# Find the Best Visualizations for Your Metrics\n",
    "\n",
    "Sometimes you just need a table, single value, or just show some text. Knowing the difference will help you design the most useful dashboards."
   ]
  },
  {
   "cell_type": "markdown",
   "metadata": {},
   "source": [
    "## Most Common Visualizations\n",
    "\n",
    "After studying 90,000 dashboards at Chartio most data is displayed in a handful of the chart options.\n",
    "\n",
    "<img src=https://assets.website-files.com/5c197923e5851742d9bc835d/5cab81c4dc8b17655d4c58cb_3O7YnQi9jo8epTY1cnfiHm77388_09nG0FX0o3ndLv6-lbE2YkWBMU3otdgTvGc-J63zmhBy4nkH32anOyaO0VVXsgBjwPBERyWvHj8PEkUAZ76SVLivkumOUv4Fxcgaz48HVr8K.png />\n",
    "\n",
    "While these may not be the most optimized they are most often created. People create table views of their data, single values, bar charts and line charts.\n",
    "\n",
    "However when we look at what visualizations are on dashboards that get the highest average views we get a different ranking:\n",
    "\n",
    "<img src=https://assets.website-files.com/5c197923e5851742d9bc835d/5cab81c4dc8b1762384c58cc_GWpgoU-eYcj2jCdk1twUP-FzIlG4Xu3O74XIQ87MC-l1OfWwwNinDSVhiWju0aDNBalGzlvZEJudGUDe-H8zgWeJLS3MiUI9Sk2hfTXVcbT8PjK0OFHGGtqMd7LZ8Pp0u1K2MftJ.png />\n",
    "\n",
    "Consider the following options before going into the more specialized types of visualizations:\n",
    "\n",
    "- Bar Line\n",
    "- Bubble\n",
    "- Bullet\n",
    "- Single value\n",
    "- Bar\n",
    "\n",
    "## Selecting Visualizations\n",
    "\n",
    "### Single Value\n",
    "\n",
    "<img src=https://assets.website-files.com/5c197923e5851742d9bc835d/5cab81c57531878ae25723c6_Flshe3XMqvUe6FYITGRAmBu96j6j7lXK_WYyQ34qD9viWaglJK-dD-SjxZGzk-xaJ12wu7LZB_s2QMarAuidM98S3qCYIUVbVR8BmcZaoMS5qz1qLXKBsqanJCXBPFGGhxHufYSy.png />"
   ]
  },
  {
   "cell_type": "markdown",
   "metadata": {},
   "source": [
    "## Relationship\n",
    "\n",
    "\n",
    "\n",
    "<img src=https://d17h27t6h515a5.cloudfront.net/topher/2016/September/57d34e20_choosing-a-good-chart-09/choosing-a-good-chart-09.png />"
   ]
  },
  {
   "cell_type": "markdown",
   "metadata": {},
   "source": [
    "## Examples\n",
    "\n",
    "Using the Flow Chart we can go through the decision making process for each of the metrics we created in the previous chapter.\n",
    "\n",
    "<img src=https://assets.website-files.com/5c197923e5851742d9bc835d/5cae7e6dc015d903502cbbe1_Screen%20Shot%202019-04-10%20at%204.38.12%20PM.png />\n",
    "\n",
    "### Operations Cost\n",
    "\n",
    "<img src=https://assets.website-files.com/5c197923e5851742d9bc835d/5c9283ffff8581a05a526673_VoX1fH95BSZ7DP68d2vnP2c3P-YD1zleAtkAap1FXmYAp-0ivXydMNB4PrpQKcdJUQpnnRyCQeUHNUsjEZjv_HA49Klabh0OqGntKcrLOwQ36KW8iBt28AKvUS6RiytOgIkQDqH2.png />\n",
    "\n",
    "<img src=https://assets.website-files.com/5c197923e5851742d9bc835d/5c9283ff8cb150e5d62181ef_DxLQuTYcpoySesc_A87ERvRzvysU-JK27WXVGWiXZiYofU8TMg51POifIYvrKiVBOPv6L_Rc_0jQ4HC99kfNtFURZshKTyZDXOzv3UzbXySchW06jfZI2WKLQCxHvYs0oCBvuXTC.png />\n",
    "\n",
    "\n",
    "\n",
    "\n"
   ]
  },
  {
   "cell_type": "markdown",
   "metadata": {},
   "source": [
    "### Revenue\n",
    "\n",
    "We only need to aggregate the total which produces one value. If the point person mentioned a desire to see the historical context, we could replace this with a line chart or supplement it with a sparkline (a small line graph without axes) or add an indicator to the single value.\n",
    "\n",
    "<img src=https://assets.website-files.com/5c197923e5851742d9bc835d/5c928400235d487e675ab3f3_yiSjqw2NM9omebjN_UA59rww0FczOn2A0HgumYatS4KjV37ZSUY16xqptcs3NEjg8VpOoXfWnsCX8vncJSINOARKpmNJR0RGOSGt_PbTv2MZmPiw4HN7nBbe9AIBrs9vJnzXkNyl.png />"
   ]
  },
  {
   "cell_type": "markdown",
   "metadata": {},
   "source": [
    "### Subscriptions\n",
    "\n",
    "We are provided with one number, but we can add a sparkline to give us an idea of the historical context of how the number has moved.\n",
    "\n",
    "<img src=https://assets.website-files.com/5c197923e5851742d9bc835d/5cab82808ccc4a7f634c5a11_Screen%20Shot%202019-04-08%20at%2010.18.18%20AM.png />\n"
   ]
  },
  {
   "cell_type": "markdown",
   "metadata": {},
   "source": [
    "## Things NOT to do\n",
    "\n",
    "### Too many categories\n",
    "\n",
    "Once there are more than 5-7 categories it can be difficult to understand the graph quickly.\n",
    "\n",
    "<img src=https://assets.website-files.com/5c197923e5851742d9bc835d/5cab81c830ee5f57d1a998ac_-cXbPpy8hWhg6d2GysUZrfHF6Jc3PDTFMOBwO-Wi-5D94NkUaVun2wREqbRgjKHkQbHRD6OefrlJL2m9h83iyI0scOXnOSsKipycyXrAb8Ivfk3p4gxCDsSZU7oHCo1iWfjRnQYV.png />\n",
    "\n",
    "Consider limiting the number of categories shown in a visualization or try lumping together smaller categories into an “Other” bucket.\n",
    "\n",
    "<img src=https://assets.website-files.com/5c197923e5851742d9bc835d/5cab81c7753187bfcb572788_lEc2luNjAyTCOuwi4b8mh7z0EA097VCK4vW-eZtgJmC_yogd457kCJ7Pb7tiRdbpsvVlfFVR_3PHO5pgsk2h5b_03VNMfX8rx0qYDwFKXdqUChekRi8C8DtPGO4zQK3YtHpa1C3G.png />"
   ]
  },
  {
   "cell_type": "markdown",
   "metadata": {},
   "source": [
    "## Summary\n",
    "\n",
    "- Chart decisions should be made based on the data, using the flowchart can help you make the best decision\n",
    "- If you are displaying multiple values consider whether you are trying to show relationship, comparison, composition, or distribution between the value to help you pick the most appropriate chart.\n"
   ]
  }
 ],
 "metadata": {
  "kernelspec": {
   "display_name": "Python 3",
   "language": "python",
   "name": "python3"
  },
  "language_info": {
   "codemirror_mode": {
    "name": "ipython",
    "version": 3
   },
   "file_extension": ".py",
   "mimetype": "text/x-python",
   "name": "python",
   "nbconvert_exporter": "python",
   "pygments_lexer": "ipython3",
   "version": "3.7.1"
  }
 },
 "nbformat": 4,
 "nbformat_minor": 2
}
