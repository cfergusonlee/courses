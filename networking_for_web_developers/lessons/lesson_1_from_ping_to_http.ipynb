{
 "cells": [
  {
   "cell_type": "markdown",
   "metadata": {},
   "source": [
    "# Ping 8.8.8.8\n",
    "\n",
    "**Ping:** a networking utility program or a tool to test if a particular host is reachable. It is a diagnostic that checks if your computer is connected to a server. Ping, a term taken from the echo location of a submarine, sends data packet to a server and if it receives a data packet back, then you have a connection. Ping sends an echo request to the ip address, which sends a response back.\n",
    "\n",
    "**Packet:** the unit of data that is routed between an origin and a destination on the Internet or any other packet-switched network. It contains one unit of data and the addresses of the sender and receiver. The individual packets for a given file may travel different routes through the Internet.\n",
    "\n",
    "<img src='../images/Screen Shot 2019-04-17 at 9.19.05 AM.png' />\n",
    "\n",
    "<img src='../images/Screen Shot 2019-04-17 at 9.19.30 AM.png' />"
   ]
  },
  {
   "cell_type": "markdown",
   "metadata": {},
   "source": [
    "# Ping versus HTTP\n",
    "\n",
    "<img src='../images/Screen Shot 2019-04-17 at 9.33.43 AM.png' />\n",
    "\n",
    "<img src='../images/Screen Shot 2019-04-17 at 9.34.13 AM.png' />\n",
    "\n",
    "<img src='../images/Screen Shot 2019-04-17 at 9.35.04 AM.png' />\n"
   ]
  },
  {
   "cell_type": "markdown",
   "metadata": {},
   "source": [
    "# \n",
    "\n",
    "<img src='../images/' />\n",
    "\n",
    "<img src='../images/' />"
   ]
  },
  {
   "cell_type": "markdown",
   "metadata": {},
   "source": [
    "# \n",
    "\n",
    "<img src='../images/' />\n",
    "\n",
    "<img src='../images/' />"
   ]
  },
  {
   "cell_type": "markdown",
   "metadata": {},
   "source": [
    "# \n",
    "\n",
    "<img src='../images/' />\n",
    "\n",
    "<img src='../images/' />"
   ]
  },
  {
   "cell_type": "markdown",
   "metadata": {},
   "source": [
    "# \n",
    "\n",
    "<img src='../images/' />\n",
    "\n",
    "<img src='../images/' />"
   ]
  },
  {
   "cell_type": "code",
   "execution_count": 7,
   "metadata": {},
   "outputs": [
    {
     "name": "stdout",
     "output_type": "stream",
     "text": [
      "Screen Shot 2019-04-17 at 9.19.05 AM.png\r\n",
      "Screen Shot 2019-04-17 at 9.19.11 AM.png\r\n",
      "Screen Shot 2019-04-17 at 9.19.21 AM.png\r\n",
      "Screen Shot 2019-04-17 at 9.19.30 AM.png\r\n",
      "Screen Shot 2019-04-17 at 9.33.43 AM.png\r\n",
      "Screen Shot 2019-04-17 at 9.34.04 AM.png\r\n",
      "Screen Shot 2019-04-17 at 9.34.13 AM.png\r\n",
      "Screen Shot 2019-04-17 at 9.34.50 AM.png\r\n",
      "Screen Shot 2019-04-17 at 9.35.04 AM.png\r\n"
     ]
    }
   ],
   "source": [
    "!ls ../images/"
   ]
  },
  {
   "cell_type": "markdown",
   "metadata": {},
   "source": [
    "# \n",
    "\n",
    "<img src='../images/' />\n",
    "\n",
    "<img src='../images/' />"
   ]
  },
  {
   "cell_type": "markdown",
   "metadata": {},
   "source": [
    "# \n",
    "\n",
    "<img src='../images/' />\n",
    "\n",
    "<img src='../images/' />"
   ]
  },
  {
   "cell_type": "markdown",
   "metadata": {},
   "source": [
    "# \n",
    "\n",
    "<img src='../images/' />\n",
    "\n",
    "<img src='../images/' />"
   ]
  },
  {
   "cell_type": "markdown",
   "metadata": {},
   "source": [
    "# \n",
    "\n",
    "<img src='../images/' />\n",
    "\n",
    "<img src='../images/' />"
   ]
  },
  {
   "cell_type": "markdown",
   "metadata": {},
   "source": [
    "# \n",
    "\n",
    "<img src='../images/' />\n",
    "\n",
    "<img src='../images/' />"
   ]
  },
  {
   "cell_type": "markdown",
   "metadata": {},
   "source": [
    "# \n",
    "\n",
    "<img src='../images/' />\n",
    "\n",
    "<img src='../images/' />"
   ]
  },
  {
   "cell_type": "markdown",
   "metadata": {},
   "source": [
    "# \n",
    "\n",
    "<img src='../images/' />\n",
    "\n",
    "<img src='../images/' />"
   ]
  },
  {
   "cell_type": "markdown",
   "metadata": {},
   "source": [
    "# \n",
    "\n",
    "<img src='../images/' />\n",
    "\n",
    "<img src='../images/' />"
   ]
  },
  {
   "cell_type": "markdown",
   "metadata": {},
   "source": [
    "# \n",
    "\n",
    "<img src='../images/' />\n",
    "\n",
    "<img src='../images/' />"
   ]
  }
 ],
 "metadata": {
  "kernelspec": {
   "display_name": "Python 3",
   "language": "python",
   "name": "python3"
  },
  "language_info": {
   "codemirror_mode": {
    "name": "ipython",
    "version": 3
   },
   "file_extension": ".py",
   "mimetype": "text/x-python",
   "name": "python",
   "nbconvert_exporter": "python",
   "pygments_lexer": "ipython3",
   "version": "3.7.1"
  }
 },
 "nbformat": 4,
 "nbformat_minor": 2
}
