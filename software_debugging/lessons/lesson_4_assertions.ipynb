{
  "cells": [
    {
      "cell_type": "markdown",
      "source": [
        "# Assert = Power-Up\n",
        "\n",
        "<img src='../images/Screen Shot 2019-05-03 at 10.47.09 AM.png' />\n",
        "\n",
        "<img src='../images/Screen Shot 2019-05-03 at 10.47.29 AM.png' />\n",
        "\n",
        "<img src='../images/Screen Shot 2019-05-03 at 10.47.44 AM.png' />\n",
        "\n",
        "<img src='../images/Screen Shot 2019-05-03 at 10.48.07 AM.png' />\n",
        "\n",
        "<img src='../images/Screen Shot 2019-05-03 at 10.48.27 AM.png' />"
      ],
      "metadata": {}
    },
    {
      "cell_type": "markdown",
      "source": [
        "# Built-In Assertions\n",
        "\n",
        "\n",
        "<img src='../images/Screen Shot 2019-05-03 at 12.33.08 PM.png' />\n"
      ],
      "metadata": {}
    },
    {
      "cell_type": "markdown",
      "source": [
        "# Pre- and Post-Conditions\n",
        "\n",
        "<img src='../images/Screen Shot 2019-05-03 at 12.38.39 PM.png' />\n",
        "\n",
        "<img src='../images/Screen Shot 2019-05-03 at 12.39.14 PM.png' />\n",
        "\n",
        "<img src='../images/Screen Shot 2019-05-03 at 12.39.25 PM.png' />\n",
        "\n",
        "<img src='../images/Screen Shot 2019-05-03 at 12.39.45 PM.png' />"
      ],
      "metadata": {}
    },
    {
      "cell_type": "markdown",
      "source": [
        "# The Blame Game\n",
        "\n",
        "<img src='../images/Screen Shot 2019-05-03 at 12.48.38 PM.png' />\n"
      ],
      "metadata": {}
    },
    {
      "cell_type": "markdown",
      "source": [
        "# Refining Assertions\n",
        "\n",
        "<img src='../images/Screen Shot 2019-05-03 at 1.04.59 PM.png' />\n"
      ],
      "metadata": {}
    },
    {
      "cell_type": "markdown",
      "source": [
        "# Data Invariants\n",
        "\n",
        "In Python 3, you need to perform type checking as well as value checking.\n",
        "\n",
        "<img src='../images/Screen Shot 2019-05-03 at 1.16.26 PM.png' />"
      ],
      "metadata": {}
    },
    {
      "cell_type": "markdown",
      "source": [
        "# Representation Invariants\n",
        "\n",
        "**Representation Invariant:** a set of invariant properties that remain uncompromised regardless of the state of the object. This ensures that the object will always meet predefined conditions, and that methods may, therefore, always reference the object without the risk of making inaccurate presumptions. Defining class invariants can help programmers and testers to catch more bugs during software testing.\n",
        "\n",
        "Invariants are a great use case for `check_rep` functions. A `check_rep` function that checks the appropriate data type and range for each class variable at the end of each class method can help maintain representation invariance.\n",
        "\n",
        "<img src='../images/Screen Shot 2019-05-03 at 1.37.06 PM.png' />"
      ],
      "metadata": {}
    },
    {
      "cell_type": "markdown",
      "source": [
        "# Red-Black Trees\n",
        "\n",
        "<img src='../images/Screen Shot 2019-05-03 at 1.34.14 PM.png' />\n",
        "\n",
        "<img src='../images/Screen Shot 2019-05-03 at 1.49.19 PM.png' />"
      ],
      "metadata": {}
    },
    {
      "cell_type": "markdown",
      "source": [
        "# Barrier-Crossing Preconditions\n",
        "\n",
        "Incoming data from 3rd party users should not be handled by assertions because assertions can be turned off. An if statement that throws an exception would be more appropriate.\n",
        "\n",
        "<img src='../images/Screen Shot 2019-05-03 at 1.57.43 PM.png' />\n"
      ],
      "metadata": {}
    },
    {
      "cell_type": "markdown",
      "source": [
        "# Pros and Cons in Production\n",
        "\n",
        "<img src='../images/Screen Shot 2019-05-03 at 1.59.17 PM.png' />\n"
      ],
      "metadata": {}
    },
    {
      "cell_type": "markdown",
      "source": [
        "# Traffic Lights\n",
        "\n",
        "<img src='../images/Screen Shot 2019-05-03 at 2.33.55 PM.png' />\n"
      ],
      "metadata": {}
    },
    {
      "cell_type": "markdown",
      "source": [
        "# System Invariants\n",
        "\n",
        "<img src='../images/Screen Shot 2019-05-03 at 2.35.08 PM.png' />\n",
        "\n",
        "<img src='../images/Screen Shot 2019-05-03 at 2.35.56 PM.png' />"
      ],
      "metadata": {}
    },
    {
      "cell_type": "markdown",
      "source": [
        "# Buffer Overflows\n",
        "\n",
        "<img src='../images/Screen Shot 2019-05-03 at 2.45.37 PM.png' />"
      ],
      "metadata": {}
    },
    {
      "cell_type": "markdown",
      "source": [
        "# First Steps\n",
        "\n",
        "<img src='../images/Screen Shot 2019-05-03 at 2.50.31 PM.png' />\n",
        "\n",
        "<img src='../images/Screen Shot 2019-05-03 at 2.52.33 PM.png' />"
      ],
      "metadata": {}
    },
    {
      "cell_type": "markdown",
      "source": [
        "# Inferring Invariants\n",
        "\n",
        "<img src='../images/Screen Shot 2019-05-03 at 2.53.09 PM.png' />\n",
        "\n",
        "<img src='../images/Screen Shot 2019-05-03 at 2.53.39 PM.png' />\n",
        "\n",
        "<img src='../images/Screen Shot 2019-05-03 at 2.55.35 PM.png' />"
      ],
      "metadata": {}
    },
    {
      "cell_type": "markdown",
      "source": [
        "# Automated Inferring\n",
        "\n",
        "<img src='../images/Screen Shot 2019-05-03 at 3.01.27 PM.png' />"
      ],
      "metadata": {}
    }
  ],
  "metadata": {
    "kernelspec": {
      "name": "python3",
      "language": "python",
      "display_name": "Python 3"
    },
    "language_info": {
      "name": "python",
      "version": "3.7.1",
      "mimetype": "text/x-python",
      "codemirror_mode": {
        "name": "ipython",
        "version": 3
      },
      "pygments_lexer": "ipython3",
      "nbconvert_exporter": "python",
      "file_extension": ".py"
    },
    "kernel_info": {
      "name": "python3"
    },
    "nteract": {
      "version": "0.14.0"
    }
  },
  "nbformat": 4,
  "nbformat_minor": 2
}