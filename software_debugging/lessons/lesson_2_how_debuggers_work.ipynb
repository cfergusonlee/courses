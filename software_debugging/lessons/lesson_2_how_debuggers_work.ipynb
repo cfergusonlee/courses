{
 "cells": [
  {
   "cell_type": "markdown",
   "metadata": {},
   "source": [
    "# Introduction\n",
    "\n",
    "<img src='../images/Screen Shot 2019-04-18 at 8.18.13 AM.png' />\n",
    "\n",
    "<img src='../images/Screen Shot 2019-04-18 at 8.18.25 AM.png' />"
   ]
  },
  {
   "cell_type": "markdown",
   "metadata": {},
   "source": [
    "# Example Program\n",
    "\n",
    "<img src='../images/Screen Shot 2019-04-18 at 2.56.33 PM.png' />\n"
   ]
  },
  {
   "cell_type": "markdown",
   "metadata": {},
   "source": [
    "# A First Bug\n",
    "\n",
    "<img src='../images/Screen Shot 2019-04-18 at 3.05.41 PM.png' />\n"
   ]
  },
  {
   "cell_type": "markdown",
   "metadata": {},
   "source": [
    "# Print Everything aka The Devil's Guide to Debugging\n",
    "\n",
    "The most naive method for debugging is to simply add a bunch of print statements. Unfortunately, this comes with many drawbacks. The print statements need to be injected directly into the codebase, removed when no longer necessary and the input variables that generated the output need to be printed as well.\n"
   ]
  },
  {
   "cell_type": "markdown",
   "metadata": {},
   "source": [
    "# Security Nightmare\n",
    "\n",
    "Using print or logs for debugging can be problematic because they're easy to forget about. One developer used log statements for the user login function, which exposed the credentials to hackers.\n",
    "\n",
    "<img src='../images/Screen Shot 2019-04-19 at 9.26.22 AM.png' />\n"
   ]
  },
  {
   "cell_type": "markdown",
   "metadata": {},
   "source": [
    "# Do Not Debug Like That\n",
    "\n",
    "When debugging, the naive temptation is to edit the code until it works. Without versioning, however; we lose any insights from each attempt.\n"
   ]
  },
  {
   "cell_type": "markdown",
   "metadata": {},
   "source": [
    "# The Devil's Guide to Debugging\n",
    "\n",
    "If you were to ask the devil for debugging advice, this is what he'd tell you:\n",
    "1. Scatter output statements everywhere\n",
    "2. Debug the program into existence (edit until it works)\n",
    "3. Never backup earlier versions\n",
    "4. Don't bother understanding what the program should do\n",
    "5. Use the most obvious fix (symptom vs problem)\n"
   ]
  },
  {
   "cell_type": "markdown",
   "metadata": {},
   "source": [
    "# A Better Guide to Debuggins\n",
    "\n",
    "1. Do not use output statements to debug\n",
    "2. Proceed systematically\n",
    "3. Consistently backup earlier versions\n",
    "4. Understand what the program should do\n",
    "5. Fix the problem, not the symptom"
   ]
  },
  {
   "cell_type": "markdown",
   "metadata": {},
   "source": [
    "# Before the Fix\n",
    "\n",
    "<img src='../images/Screen Shot 2019-04-19 at 10.03.49 AM.png' />\n"
   ]
  },
  {
   "cell_type": "markdown",
   "metadata": {},
   "source": [
    "# Defect vs. Bug\n",
    "\n",
    "A defect is a deviation from the correct solution. The first bug was a literal bug that crawled into the system, which is not a useful mindset when tackling problems. Errors in the codebase come from errors in understanding the problem or implementing the correct solution, which come from us.\n",
    "\n",
    "<img src='../images/Screen Shot 2019-04-19 at 10.05.08 AM.png' />\n"
   ]
  },
  {
   "cell_type": "markdown",
   "metadata": {},
   "source": [
    "# How Failures Come to Be\n",
    "\n",
    "Errors earlier in the code propogate throughout the system. When debugging, we need to identify and break the cause-effect chain that leads to observed errors.\n",
    "\n",
    "<img src='../images/Screen Shot 2019-04-19 at 10.13.14 AM.png' />\n"
   ]
  },
  {
   "cell_type": "markdown",
   "metadata": {},
   "source": [
    "# Explanation of Reality from Theory\n",
    "\n",
    "<img src='../images/Screen Shot 2019-04-19 at 10.17.31 AM.png' />\n",
    "\n",
    "<img src='../images/Screen Shot 2019-04-19 at 10.19.04 AM.png' />"
   ]
  },
  {
   "cell_type": "markdown",
   "metadata": {},
   "source": [
    "# The Scientific Method\n",
    "\n",
    "<img src='../images/Screen Shot 2019-04-19 at 10.29.08 AM.png' />\n"
   ]
  },
  {
   "cell_type": "markdown",
   "metadata": {},
   "source": [
    "# What Is a Theory?\n",
    "\n",
    "<img src='../images/Screen Shot 2019-04-19 at 10.30.41 AM.png' />\n"
   ]
  },
  {
   "cell_type": "markdown",
   "metadata": {},
   "source": [
    "# Bugs as Natural Phenomena\n",
    "\n",
    "<img src='../images/Screen Shot 2019-04-19 at 10.33.02 AM.png' />\n"
   ]
  },
  {
   "cell_type": "markdown",
   "metadata": {},
   "source": [
    "# Apply the Scientific Method\n",
    "\n",
    "<img src='../images/Screen Shot 2019-04-19 at 10.36.29 AM.png' />\n"
   ]
  },
  {
   "cell_type": "markdown",
   "metadata": {},
   "source": [
    "# Hypothesis I\n",
    "\n",
    "<img src='../images/Screen Shot 2019-04-19 at 10.38.16 AM.png' />\n"
   ]
  },
  {
   "cell_type": "code",
   "execution_count": 24,
   "metadata": {},
   "outputs": [
    {
     "data": {
      "text/plain": [
       "'foo'"
      ]
     },
     "execution_count": 24,
     "metadata": {},
     "output_type": "execute_result"
    }
   ],
   "source": [
    "def remove_html_markup(s):\n",
    "    tag   = False\n",
    "    quote = False\n",
    "    out   = \"\"    \n",
    "\n",
    "    for c in s:\n",
    "        assert tag or not quote\n",
    "        if c == '<' and not quote:\n",
    "            tag = True\n",
    "        elif c == '>' and not quote:\n",
    "            tag = False\n",
    "        elif (c == '\"' or c == \"'\") and tag:\n",
    "            assert False\n",
    "            quote = not quote\n",
    "        elif not tag:\n",
    "            out = out + c\n",
    "\n",
    "    return out\n",
    "\n",
    "remove_html_markup(\"<b>foo</b>\")"
   ]
  },
  {
   "cell_type": "markdown",
   "metadata": {},
   "source": [
    "# After the Fix\n",
    "\n",
    "<img src='../images/Screen Shot 2019-04-19 at 12.20.44 PM.png' />\n"
   ]
  },
  {
   "cell_type": "markdown",
   "metadata": {},
   "source": [
    "# Explicit Debugging\n",
    "\n",
    "Forcing yourself to be explicit when debugging allows you to get the ideas out of your head and in plain sight.\n",
    "\n",
    "<img src='../images/Screen Shot 2019-04-19 at 12.36.24 PM.png' />\n",
    "\n",
    "<img src='../images/Screen Shot 2019-04-19 at 12.37.11 PM.png' />"
   ]
  },
  {
   "cell_type": "markdown",
   "metadata": {},
   "source": [
    "# Talk to Somebody\n",
    "\n",
    "<img src='../images/Screen Shot 2019-04-19 at 12.40.00 PM.png' />\n"
   ]
  },
  {
   "cell_type": "markdown",
   "metadata": {},
   "source": [
    "# Helpful Teddy Bear\n",
    "\n",
    "<img src='../images/Screen Shot 2019-04-19 at 12.41.34 PM.png' />\n"
   ]
  },
  {
   "cell_type": "markdown",
   "metadata": {},
   "source": [
    "# Lesson 1 Review\n",
    "\n",
    "<img src='../images/Screen Shot 2019-04-19 at 12.45.20 PM.png' />\n"
   ]
  },
  {
   "cell_type": "markdown",
   "metadata": {},
   "source": [
    "# Problem Set 1\n",
    "\n"
   ]
  },
  {
   "cell_type": "code",
   "execution_count": 3,
   "metadata": {},
   "outputs": [
    {
     "name": "stdout",
     "output_type": "stream",
     "text": [
      "c = 'b'\n"
     ]
    },
    {
     "data": {
      "text/plain": [
       "False"
      ]
     },
     "execution_count": 3,
     "metadata": {},
     "output_type": "execute_result"
    }
   ],
   "source": [
    "def debug(command, my_locals):\n",
    "    global stepping\n",
    "    global breakpoints\n",
    "    \n",
    "    if command.find(' ') > 0:\n",
    "        arg = command.split(' ')[1]\n",
    "    else:\n",
    "        arg = None\n",
    "\n",
    "    if command.startswith('s'):     # step\n",
    "        stepping = True\n",
    "        return True\n",
    "    elif command.startswith('c'):   # continue\n",
    "        stepping = False\n",
    "        return True\n",
    "    elif command.startswith('p'):    # print \n",
    "        # YOUR CODE HERE\n",
    "        if len(command.split(' ')) > 1:\n",
    "            var = command.split(' ')[1]\n",
    "            if var in my_locals:\n",
    "                print \"{} = {}\".format(var, repr(my_locals[var]))\n",
    "            else:\n",
    "                print \"No such variable:\", var\n",
    "        else:\n",
    "            print my_locals\n",
    "        \n",
    "    elif command.startswith('q'):   # quit\n",
    "        sys.exit(0)\n",
    "    else:\n",
    "        print \"No such command\", repr(command)\n",
    "        \n",
    "    return False\n",
    "\n",
    "debug('p c', {'quote': True, 's': '\"<b>foo</b>\"', 'tag': False, 'c': 'b', 'out': '<'})"
   ]
  }
 ],
 "metadata": {
  "kernelspec": {
   "display_name": "Python [conda env:py27]",
   "language": "python",
   "name": "conda-env-py27-py"
  },
  "language_info": {
   "codemirror_mode": {
    "name": "ipython",
    "version": 2
   },
   "file_extension": ".py",
   "mimetype": "text/x-python",
   "name": "python",
   "nbconvert_exporter": "python",
   "pygments_lexer": "ipython2",
   "version": "2.7.15"
  }
 },
 "nbformat": 4,
 "nbformat_minor": 2
}
