{
 "cells": [
  {
   "cell_type": "markdown",
   "metadata": {},
   "source": [
    "# Course Overview\n",
    "\n",
    "<img src='../images/Screen Shot 2019-04-17 at 8.20.15 AM.png' />\n",
    "\n",
    "<img src='../images/Screen Shot 2019-04-17 at 8.20.35 AM.png' />\n",
    "\n",
    "<img src='../images/Screen Shot 2019-04-17 at 8.21.15 AM.png' />\n",
    "\n",
    "<img src='../images/Screen Shot 2019-04-17 at 8.21.56 AM.png' />\n",
    "\n",
    "<img src='../images/Screen Shot 2019-04-17 at 8.22.07 AM.png' />\n",
    "\n",
    "<img src='../images/Screen Shot 2019-04-17 at 8.22.20 AM.png' />\n",
    "\n",
    "<img src='../images/.pngScreen Shot 2019-04-17 at 8.22.31 AM' />\n",
    "\n",
    "<img src='../images/Screen Shot 2019-04-17 at 8.22.53 AM.png' />\n",
    "\n",
    "<img src='../images/Screen Shot 2019-04-17 at 8.22.59 AM.png' />"
   ]
  },
  {
   "cell_type": "markdown",
   "metadata": {},
   "source": [
    "# Late Night Debugging\n",
    "\n",
    "Naive debugging involves a significant amount of concentration. What if it were possible to free up some of that energy?\n",
    "\n",
    "<img src='../images/Screen Shot 2019-04-17 at 8.26.09 AM.png' />\n"
   ]
  },
  {
   "cell_type": "markdown",
   "metadata": {},
   "source": [
    "# Cost of Bugs\n",
    "\n",
    "Debugging takes up a significant portion of the time and money spent on software development. In order to decrease this cost, we need to develop better systems and tools.\n",
    "\n",
    "<img src='../images/Screen Shot 2019-04-17 at 8.29.02 AM.png' />\n",
    "\n",
    "<img src='../images/Screen Shot 2019-04-17 at 8.29.46 AM.png' />"
   ]
  }
 ],
 "metadata": {
  "kernelspec": {
   "display_name": "Python [conda env:py27]",
   "language": "python",
   "name": "conda-env-py27-py"
  },
  "language_info": {
   "codemirror_mode": {
    "name": "ipython",
    "version": 2
   },
   "file_extension": ".py",
   "mimetype": "text/x-python",
   "name": "python",
   "nbconvert_exporter": "python",
   "pygments_lexer": "ipython2",
   "version": "2.7.15"
  }
 },
 "nbformat": 4,
 "nbformat_minor": 2
}
